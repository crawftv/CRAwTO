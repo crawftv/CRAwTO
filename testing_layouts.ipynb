{
 "cells": [
  {
   "cell_type": "code",
   "execution_count": 1,
   "metadata": {},
   "outputs": [],
   "source": [
    "from IPython.display import display, HTML\n",
    "from string import Template\n",
    "from IPython.display import display, HTML\n",
    "from string import Template\n",
    "import json\n",
    "from typing import List\n",
    "from crawto.Charts.chart_type import Data, DataSet, DataPoint\n",
    "import jsons\n",
    "import matplotlib.pyplot as plt\n",
    "import seaborn as sns"
   ]
  },
  {
   "cell_type": "code",
   "execution_count": 2,
   "metadata": {},
   "outputs": [],
   "source": [
    "data = Data([DataSet(\"test_Data\",list([DataPoint(x=1,y=1),DataPoint(x=2,y=2),DataPoint(x=3,y=3)]), \"000000\")])"
   ]
  },
  {
   "cell_type": "code",
   "execution_count": 3,
   "metadata": {},
   "outputs": [],
   "source": [
    "def tsne_plot(html_data) -> HTML:\n",
    "\n",
    "    html = make_html(html_data)\n",
    "    return HTML(html)\n",
    "\n",
    "\n",
    "def make_html(data: Data) -> str:\n",
    "\n",
    "    html = Template(\n",
    "        \"\"\"\n",
    "            <head>\n",
    "                <script type=\"application/javascript\" src=\"https:\\\\cdnjs.cloudflare.com/ajax/libs/require.js/x.y.z/require.js\"></script>\n",
    "                \n",
    "            </head>\n",
    "            <body>\n",
    "            <h1> T-sne </h1>\n",
    "            <canvas id=\"t-sne-chart\"></canvas>\n",
    "            <script> $js_text </script>\n",
    "            </body>\n",
    "            \"\"\"\n",
    "    )\n",
    "\n",
    "    js_text_template = Template(\n",
    "        \"\"\"\n",
    "            <canvas id=\"t-sne-chart\"></canvas>\n",
    "            requirejs(['https:\\\\cdnjs.cloudflare.com/ajax/libs/Chart.js/2.8.0/Chart.js'], function(Chart){\n",
    "                new Chart(document.getElementById(\"t-sne-chart\"), {\n",
    "                        type: \"scatter\",\n",
    "                        data: $data,\n",
    "                        options: {\n",
    "                            tooltips: {\n",
    "                                callbacks: {\n",
    "                                    label: function(tooltipItem, data) {\n",
    "                                        var label = data.datasets[tooltipItem.datasetIndex].label;\n",
    "                                        return label\n",
    "                                   }\n",
    "                                }\n",
    "                            }\n",
    "                        }\n",
    "                    });\n",
    "                });     \n",
    "            \"\"\"\n",
    "    )\n",
    "    js_text = js_text_template.substitute({\"data\": jsons.dumps(data)})\n",
    "    html = html.substitute({\"js_text\": js_text})\n",
    "\n",
    "    return html"
   ]
  },
  {
   "cell_type": "code",
   "execution_count": 18,
   "metadata": {},
   "outputs": [],
   "source": [
    "import uuid\n",
    "\n",
    "class Chart:\n",
    "    def __init__(self,chart_type,data,id =uuid.uuid1() ):\n",
    "        self.chart_type = chart_type\n",
    "        self.data = data\n",
    "        self.id = id\n",
    "        \n",
    "    @property\n",
    "    def html(self):\n",
    "        html=Template(\n",
    "        \"\"\"\n",
    "        <canvas id= \"$id\" ></canvas>\n",
    "        <script>\n",
    "        requirejs(['https:\\\\cdnjs.cloudflare.com/ajax/libs/Chart.js/2.8.0/Chart.js'], function(Chart){\n",
    "            new Chart(document.getElementById(\"$id\"), {\n",
    "                    type: \"$chart_type\",\n",
    "                    data: $data,\n",
    "                    options: {\n",
    "                        tooltips: {\n",
    "                            callbacks: {\n",
    "                                label: function(tooltipItem, data) {\n",
    "                                    var label = data.datasets[tooltipItem.datasetIndex].label;\n",
    "                                    return label\n",
    "                               }\n",
    "                            }\n",
    "                        }\n",
    "                    }\n",
    "                });\n",
    "            }); \n",
    "        </script>\n",
    "        \"\"\"\n",
    "        )\n",
    "        html = html.substitute({\"data\": jsons.dumps(data), \"chart_type\":self.chart_type,\"id\":self.id})\n",
    "        return html\n",
    "    def __repr__(self):\n",
    "        self.html"
   ]
  },
  {
   "cell_type": "code",
   "execution_count": 19,
   "metadata": {},
   "outputs": [],
   "source": [
    "c = Chart(\"scatter\",data)"
   ]
  },
  {
   "cell_type": "code",
   "execution_count": 20,
   "metadata": {},
   "outputs": [
    {
     "data": {
      "text/plain": [
       "'\\n        <canvas id= \"c9b58180-f840-11e9-98e6-0c9d92106694\" ></canvas>\\n        <script>\\n        requirejs([\\'https:\\\\cdnjs.cloudflare.com/ajax/libs/Chart.js/2.8.0/Chart.js\\'], function(Chart){\\n            new Chart(document.getElementById(\"c9b58180-f840-11e9-98e6-0c9d92106694\"), {\\n                    type: \"scatter\",\\n                    data: {\"datasets\": [{\"backgroundColor\": \"000000\", \"data\": [{\"x\": 1, \"y\": 1}, {\"x\": 2, \"y\": 2}, {\"x\": 3, \"y\": 3}], \"label\": \"test_Data\"}]},\\n                    options: {\\n                        tooltips: {\\n                            callbacks: {\\n                                label: function(tooltipItem, data) {\\n                                    var label = data.datasets[tooltipItem.datasetIndex].label;\\n                                    return label\\n                               }\\n                            }\\n                        }\\n                    }\\n                });\\n            }); \\n        </script>\\n        '"
      ]
     },
     "execution_count": 20,
     "metadata": {},
     "output_type": "execute_result"
    }
   ],
   "source": [
    "c.html"
   ]
  },
  {
   "cell_type": "code",
   "execution_count": 21,
   "metadata": {},
   "outputs": [
    {
     "name": "stdout",
     "output_type": "stream",
     "text": [
      "\n",
      "            <head>\n",
      "                <script type=\"application/javascript\" \n",
      "                src=\"https:\\cdnjs.cloudflare.com/ajax/libs/require.js/x.y.z/require.js\"></script>\n",
      "                <link rel=\"stylesheet\" href=\"https://cdn.jsdelivr.net/npm/semantic-ui@2.4.2/dist/semantic.min.css\">\n",
      "                <script src=\"https://code.jquery.com/jquery-3.1.1.min.js\"\n",
      "                  integrity=\"sha256-hVVnYaiADRTO2PzUGmuLJr8BLUSjGIZsDYGmIJLv2b8=\"\n",
      "                  crossorigin=\"anonymous\"></script>\n",
      "                <script src=\"https://cdn.jsdelivr.net/npm/semantic-ui@2.4.2/dist/semantic.min.js\"></script>\n",
      "            </head>\n",
      "            <body>\n",
      "        <canvas id= \"c9b58180-f840-11e9-98e6-0c9d92106694\" ></canvas>\n",
      "        <script>\n",
      "        requirejs(['https:\\cdnjs.cloudflare.com/ajax/libs/Chart.js/2.8.0/Chart.js'], function(Chart){\n",
      "            new Chart(document.getElementById(\"c9b58180-f840-11e9-98e6-0c9d92106694\"), {\n",
      "                    type: \"scatter\",\n",
      "                    data: {\"datasets\": [{\"backgroundColor\": \"000000\", \"data\": [{\"x\": 1, \"y\": 1}, {\"x\": 2, \"y\": 2}, {\"x\": 3, \"y\": 3}], \"label\": \"test_Data\"}]},\n",
      "                    options: {\n",
      "                        tooltips: {\n",
      "                            callbacks: {\n",
      "                                label: function(tooltipItem, data) {\n",
      "                                    var label = data.datasets[tooltipItem.datasetIndex].label;\n",
      "                                    return label\n",
      "                               }\n",
      "                            }\n",
      "                        }\n",
      "                    }\n",
      "                });\n",
      "            }); \n",
      "        </script>\n",
      "        </body>\n"
     ]
    }
   ],
   "source": [
    "z = \"\"\"\n",
    "            <head>\n",
    "                <script type=\"application/javascript\" \n",
    "                src=\"https:\\\\cdnjs.cloudflare.com/ajax/libs/require.js/x.y.z/require.js\"></script>\n",
    "                <link rel=\"stylesheet\" href=\"https://cdn.jsdelivr.net/npm/semantic-ui@2.4.2/dist/semantic.min.css\">\n",
    "                <script src=\"https://code.jquery.com/jquery-3.1.1.min.js\"\n",
    "                  integrity=\"sha256-hVVnYaiADRTO2PzUGmuLJr8BLUSjGIZsDYGmIJLv2b8=\"\n",
    "                  crossorigin=\"anonymous\"></script>\n",
    "                <script src=\"https://cdn.jsdelivr.net/npm/semantic-ui@2.4.2/dist/semantic.min.js\"></script>\n",
    "            </head>\n",
    "            <body>\"\"\" + c.html +\"\"\"</body>\"\"\"\n",
    "print(z)"
   ]
  },
  {
   "cell_type": "code",
   "execution_count": 22,
   "metadata": {},
   "outputs": [
    {
     "data": {
      "text/html": [
       "\n",
       "            <head>\n",
       "                <script type=\"application/javascript\" \n",
       "                src=\"https:\\cdnjs.cloudflare.com/ajax/libs/require.js/x.y.z/require.js\"></script>\n",
       "                <link rel=\"stylesheet\" href=\"https://cdn.jsdelivr.net/npm/semantic-ui@2.4.2/dist/semantic.min.css\">\n",
       "                <script src=\"https://code.jquery.com/jquery-3.1.1.min.js\"\n",
       "                  integrity=\"sha256-hVVnYaiADRTO2PzUGmuLJr8BLUSjGIZsDYGmIJLv2b8=\"\n",
       "                  crossorigin=\"anonymous\"></script>\n",
       "                <script src=\"https://cdn.jsdelivr.net/npm/semantic-ui@2.4.2/dist/semantic.min.js\"></script>\n",
       "            </head>\n",
       "            <body>\n",
       "        <canvas id= \"c9b58180-f840-11e9-98e6-0c9d92106694\" ></canvas>\n",
       "        <script>\n",
       "        requirejs(['https:\\cdnjs.cloudflare.com/ajax/libs/Chart.js/2.8.0/Chart.js'], function(Chart){\n",
       "            new Chart(document.getElementById(\"c9b58180-f840-11e9-98e6-0c9d92106694\"), {\n",
       "                    type: \"scatter\",\n",
       "                    data: {\"datasets\": [{\"backgroundColor\": \"000000\", \"data\": [{\"x\": 1, \"y\": 1}, {\"x\": 2, \"y\": 2}, {\"x\": 3, \"y\": 3}], \"label\": \"test_Data\"}]},\n",
       "                    options: {\n",
       "                        tooltips: {\n",
       "                            callbacks: {\n",
       "                                label: function(tooltipItem, data) {\n",
       "                                    var label = data.datasets[tooltipItem.datasetIndex].label;\n",
       "                                    return label\n",
       "                               }\n",
       "                            }\n",
       "                        }\n",
       "                    }\n",
       "                });\n",
       "            }); \n",
       "        </script>\n",
       "        </body>"
      ],
      "text/plain": [
       "<IPython.core.display.HTML object>"
      ]
     },
     "execution_count": 22,
     "metadata": {},
     "output_type": "execute_result"
    }
   ],
   "source": [
    "HTML(z)"
   ]
  },
  {
   "cell_type": "code",
   "execution_count": null,
   "metadata": {},
   "outputs": [],
   "source": []
  }
 ],
 "metadata": {
  "@webio": {
   "lastCommId": null,
   "lastKernelId": null
  },
  "kernelspec": {
   "display_name": "Python 3",
   "language": "python",
   "name": "python3"
  },
  "language_info": {
   "codemirror_mode": {
    "name": "ipython",
    "version": 3
   },
   "file_extension": ".py",
   "mimetype": "text/x-python",
   "name": "python",
   "nbconvert_exporter": "python",
   "pygments_lexer": "ipython3",
   "version": "3.6.7"
  }
 },
 "nbformat": 4,
 "nbformat_minor": 2
}

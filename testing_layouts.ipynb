{
 "cells": [
  {
   "cell_type": "code",
   "execution_count": 1,
   "metadata": {},
   "outputs": [],
   "source": [
    "from IPython.display import display, HTML\n",
    "from string import Template\n",
    "from IPython.display import display, HTML\n",
    "from string import Template\n",
    "import json\n",
    "from typing import List\n",
    "from crawto.Charts.chart_type import Data, DataSet, DataPoint\n",
    "import jsons\n",
    "import matplotlib.pyplot as plt\n",
    "import seaborn as sns"
   ]
  },
  {
   "cell_type": "code",
   "execution_count": 2,
   "metadata": {},
   "outputs": [],
   "source": [
    "data = Data([DataSet(\"test_Data\",list([DataPoint(x=1,y=1),DataPoint(x=2,y=2),DataPoint(x=3,y=3)]), \"000000\")])"
   ]
  },
  {
   "cell_type": "code",
   "execution_count": 3,
   "metadata": {},
   "outputs": [],
   "source": [
    "def tsne_plot(html_data) -> HTML:\n",
    "\n",
    "    html = make_html(html_data)\n",
    "    return HTML(html)\n",
    "\n",
    "\n",
    "def make_html(data: Data) -> str:\n",
    "\n",
    "    html = Template(\n",
    "        \"\"\"\n",
    "            <head>\n",
    "                <script type=\"application/javascript\" src=\"https:\\\\cdnjs.cloudflare.com/ajax/libs/require.js/x.y.z/require.js\"></script>\n",
    "                \n",
    "            </head>\n",
    "            <body>\n",
    "            <h1> T-sne </h1>\n",
    "            <canvas id=\"t-sne-chart\"></canvas>\n",
    "            <script> $js_text </script>\n",
    "            </body>\n",
    "            \"\"\"\n",
    "    )\n",
    "\n",
    "    js_text_template = Template(\n",
    "        \"\"\"\n",
    "            requirejs(['https:\\\\cdnjs.cloudflare.com/ajax/libs/Chart.js/2.8.0/Chart.js'], function(Chart){\n",
    "                new Chart(document.getElementById(\"t-sne-chart\"), {\n",
    "                        type: \"scatter\",\n",
    "                        data: $data,\n",
    "                        options: {\n",
    "                            tooltips: {\n",
    "                                callbacks: {\n",
    "                                    label: function(tooltipItem, data) {\n",
    "                                        var label = data.datasets[tooltipItem.datasetIndex].label;\n",
    "                                        return label\n",
    "                                   }\n",
    "                                }\n",
    "                            }\n",
    "                        }\n",
    "                    });\n",
    "                });     \n",
    "            \"\"\"\n",
    "    )\n",
    "    js_text = js_text_template.substitute({\"data\": jsons.dumps(data)})\n",
    "    html = html.substitute({\"js_text\": js_text})\n",
    "\n",
    "    return html"
   ]
  },
  {
   "cell_type": "code",
   "execution_count": 7,
   "metadata": {},
   "outputs": [],
   "source": [
    "js_text_template = Template(\n",
    "    \"\"\"\n",
    "        requirejs(['https:\\\\cdnjs.cloudflare.com/ajax/libs/Chart.js/2.8.0/Chart.js'], function(Chart){\n",
    "            new Chart(document.getElementById(\"t-sne-chart1\"), {\n",
    "                    type: \"scatter\",\n",
    "                    data: $data,\n",
    "                    options: {\n",
    "                        tooltips: {\n",
    "                            callbacks: {\n",
    "                                label: function(tooltipItem, data) {\n",
    "                                    var label = data.datasets[tooltipItem.datasetIndex].label;\n",
    "                                    return label\n",
    "                               }\n",
    "                            }\n",
    "                        }\n",
    "                    }\n",
    "                });\n",
    "            });     \n",
    "        \"\"\"\n",
    ")"
   ]
  },
  {
   "cell_type": "code",
   "execution_count": 8,
   "metadata": {},
   "outputs": [
    {
     "name": "stdout",
     "output_type": "stream",
     "text": [
      "\n",
      "        requirejs(['https:\\cdnjs.cloudflare.com/ajax/libs/Chart.js/2.8.0/Chart.js'], function(Chart){\n",
      "            new Chart(document.getElementById(\"t-sne-chart1\"), {\n",
      "                    type: \"scatter\",\n",
      "                    data: {\"datasets\": [{\"backgroundColor\": \"000000\", \"data\": [{\"x\": 1, \"y\": 1}, {\"x\": 2, \"y\": 2}, {\"x\": 3, \"y\": 3}], \"label\": \"test_Data\"}]},\n",
      "                    options: {\n",
      "                        tooltips: {\n",
      "                            callbacks: {\n",
      "                                label: function(tooltipItem, data) {\n",
      "                                    var label = data.datasets[tooltipItem.datasetIndex].label;\n",
      "                                    return label\n",
      "                               }\n",
      "                            }\n",
      "                        }\n",
      "                    }\n",
      "                });\n",
      "            });     \n",
      "        \n"
     ]
    }
   ],
   "source": [
    "js_text = js_text_template.substitute({\"data\": jsons.dumps(data)})\n",
    "print(js_text)"
   ]
  },
  {
   "cell_type": "code",
   "execution_count": 27,
   "metadata": {},
   "outputs": [
    {
     "data": {
      "text/html": [
       "\n",
       "            <head>\n",
       "                <script type=\"application/javascript\" \n",
       "                src=\"https:\\cdnjs.cloudflare.com/ajax/libs/require.js/x.y.z/require.js\"></script>\n",
       "                \n",
       "                <link rel=\"stylesheet\" href=\"https://cdn.jsdelivr.net/npm/semantic-ui@2.4.2/dist/semantic.min.css\">\n",
       "                <script src=\"https://code.jquery.com/jquery-3.1.1.min.js\"\n",
       "                  integrity=\"sha256-hVVnYaiADRTO2PzUGmuLJr8BLUSjGIZsDYGmIJLv2b8=\"\n",
       "                  crossorigin=\"anonymous\"></script>\n",
       "                <script src=\"https://cdn.jsdelivr.net/npm/semantic-ui@2.4.2/dist/semantic.min.js\"></script>\n",
       "            </head>\n",
       "            <body>\n",
       "            <h1> T-sne </h1>\n",
       "            <div class=\"ui grid\">\n",
       "                <div class=\"eight wide column\">\n",
       "                    <canvas id=\"t-sne-chart1\"></canvas>\n",
       "                    <script> \n",
       "        requirejs(['https:\\cdnjs.cloudflare.com/ajax/libs/Chart.js/2.8.0/Chart.js'], function(Chart){\n",
       "            new Chart(document.getElementById(\"t-sne-chart1\"), {\n",
       "                    type: \"scatter\",\n",
       "                    data: {\"datasets\": [{\"backgroundColor\": \"000000\", \"data\": [{\"x\": 1, \"y\": 1}, {\"x\": 2, \"y\": 2}, {\"x\": 3, \"y\": 3}], \"label\": \"test_Data\"}]},\n",
       "                    options: {\n",
       "                        tooltips: {\n",
       "                            callbacks: {\n",
       "                                label: function(tooltipItem, data) {\n",
       "                                    var label = data.datasets[tooltipItem.datasetIndex].label;\n",
       "                                    return label\n",
       "                               }\n",
       "                            }\n",
       "                        }\n",
       "                    }\n",
       "                });\n",
       "            });     \n",
       "         </script>\n",
       "                </div>\n",
       "                <div class=\"eight wide column\">\n",
       "                    <canvas id=\"t-sne-chart2\"></canvas>\n",
       "                    <script> \n",
       "        requirejs(['https:\\cdnjs.cloudflare.com/ajax/libs/Chart.js/2.8.0/Chart.js'], function(Chart){\n",
       "            new Chart(document.getElementById(\"t-sne-chart1\"), {\n",
       "                    type: \"scatter\",\n",
       "                    data: {\"datasets\": [{\"backgroundColor\": \"000000\", \"data\": [{\"x\": 1, \"y\": 1}, {\"x\": 2, \"y\": 2}, {\"x\": 3, \"y\": 3}], \"label\": \"test_Data\"}]},\n",
       "                    options: {\n",
       "                        tooltips: {\n",
       "                            callbacks: {\n",
       "                                label: function(tooltipItem, data) {\n",
       "                                    var label = data.datasets[tooltipItem.datasetIndex].label;\n",
       "                                    return label\n",
       "                               }\n",
       "                            }\n",
       "                        }\n",
       "                    }\n",
       "                });\n",
       "            });     \n",
       "         </script>\n",
       "                </div>\n",
       "</div>\n",
       "            </body>\n",
       "            "
      ],
      "text/plain": [
       "<IPython.core.display.HTML object>"
      ]
     },
     "execution_count": 27,
     "metadata": {},
     "output_type": "execute_result"
    }
   ],
   "source": [
    "html = Template(\"\"\"\n",
    "            <head>\n",
    "                <script type=\"application/javascript\" \n",
    "                src=\"https:\\\\cdnjs.cloudflare.com/ajax/libs/require.js/x.y.z/require.js\"></script>\n",
    "                \n",
    "                <link rel=\"stylesheet\" href=\"https://cdn.jsdelivr.net/npm/semantic-ui@2.4.2/dist/semantic.min.css\">\n",
    "                <script src=\"https://code.jquery.com/jquery-3.1.1.min.js\"\n",
    "                  integrity=\"sha256-hVVnYaiADRTO2PzUGmuLJr8BLUSjGIZsDYGmIJLv2b8=\"\n",
    "                  crossorigin=\"anonymous\"></script>\n",
    "                <script src=\"https://cdn.jsdelivr.net/npm/semantic-ui@2.4.2/dist/semantic.min.js\"></script>\n",
    "            </head>\n",
    "            <body>\n",
    "            <h1> T-sne </h1>\n",
    "            <div class=\"ui grid\">\n",
    "                <div class=\"eight wide column\">\n",
    "                    <canvas id=\"t-sne-chart1\"></canvas>\n",
    "                    <script> $js_text </script>\n",
    "                </div>\n",
    "                <div class=\"eight wide column\">\n",
    "                    <canvas id=\"t-sne-chart2\"></canvas>\n",
    "                    <script> $js_text </script>\n",
    "                </div></div>\n",
    "            </body>\n",
    "            \"\"\")\n",
    "html = html.substitute({\"js_text\": js_text})\n",
    "\n",
    "HTML(html)"
   ]
  },
  {
   "cell_type": "code",
   "execution_count": 48,
   "metadata": {},
   "outputs": [],
   "source": [
    "def plot(rows:int = 1, columns:int = 2, charts:List = []):\n",
    "    if rows * columns < len(charts):\n",
    "        raise Exception(\"Number of rows and columns is not enought for the number of charts given\")\n",
    "    f = \"\"\n",
    "    count = 0\n",
    "    for i in range(rows):\n",
    "        if columns == 2:\n",
    "            f += f\"<canvas id = {count}></canvas>\\n\"\n",
    "            f += f\"<script>{str(count)}</script>\"\n",
    "    return f"
   ]
  },
  {
   "cell_type": "code",
   "execution_count": 50,
   "metadata": {},
   "outputs": [
    {
     "data": {
      "text/html": [
       "<canvas id = 0></canvas>\n",
       "<script>0</script>"
      ],
      "text/plain": [
       "<IPython.core.display.HTML object>"
      ]
     },
     "execution_count": 50,
     "metadata": {},
     "output_type": "execute_result"
    }
   ],
   "source": [
    "HTML(plot(1,2,['a','b']))"
   ]
  },
  {
   "cell_type": "code",
   "execution_count": null,
   "metadata": {},
   "outputs": [],
   "source": []
  }
 ],
 "metadata": {
  "@webio": {
   "lastCommId": null,
   "lastKernelId": null
  },
  "kernelspec": {
   "display_name": "Python 3",
   "language": "python",
   "name": "python3"
  },
  "language_info": {
   "codemirror_mode": {
    "name": "ipython",
    "version": 3
   },
   "file_extension": ".py",
   "mimetype": "text/x-python",
   "name": "python",
   "nbconvert_exporter": "python",
   "pygments_lexer": "ipython3",
   "version": "3.6.7"
  }
 },
 "nbformat": 4,
 "nbformat_minor": 2
}

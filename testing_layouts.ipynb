{
 "cells": [
  {
   "cell_type": "code",
   "execution_count": 1,
   "metadata": {},
   "outputs": [],
   "source": [
    "%load_ext autoreload\n",
    "%autoreload 2"
   ]
  },
  {
   "cell_type": "code",
   "execution_count": 2,
   "metadata": {},
   "outputs": [],
   "source": [
    "from crawto.charts.charts import Plot,ScatterChart,BarChart,LineChart"
   ]
  },
  {
   "cell_type": "code",
   "execution_count": 3,
   "metadata": {},
   "outputs": [],
   "source": [
    "%load_ext blackcellmagic"
   ]
  },
  {
   "cell_type": "code",
   "execution_count": 4,
   "metadata": {},
   "outputs": [],
   "source": [
    "x=[-1,0,1]\n",
    "y = [1,-1,1]\n",
    "\n",
    "l = LineChart(width=\"eight\")\n",
    "l.add_DataSet(\"t\",x,y)\n",
    "l.add_DataSet(\"t1\" ,x,[2,2,2])\n",
    "l.edit_title(\"LineChart\")\n",
    "l.edit_xAxes(\"x Axis\")\n",
    "l.edit_yAxes(\"y Axis\",\"linear\")\n",
    "\n",
    "c = ScatterChart(width=\"eight\")\n",
    "c.add_DataSet(\"test\",x,y)\n",
    "c.add_DataSet(\"t1\" ,x,[2,2,2],[\"a\",\"b\",\"c\"])\n",
    "c.edit_title(\"ScatterChart\")\n",
    "\n",
    "b = BarChart(width=\"eight\")\n",
    "b.add_DataSet(\"t\",x,y)\n",
    "b.add_DataSet(\"t1\" ,x,[2,2,2])\n",
    "b.edit_title(\"BarChart\")"
   ]
  },
  {
   "cell_type": "code",
   "execution_count": 5,
   "metadata": {},
   "outputs": [],
   "source": [
    "p = Plot()"
   ]
  },
  {
   "cell_type": "code",
   "execution_count": 6,
   "metadata": {},
   "outputs": [],
   "source": [
    "p.add_column(c)\n",
    "p.add_column(b)\n",
    "p.add_column(l)"
   ]
  },
  {
   "cell_type": "code",
   "execution_count": 7,
   "metadata": {},
   "outputs": [
    {
     "data": {
      "text/html": [
       "\n",
       "        <head>\n",
       "                <link rel=\"stylesheet\" href=\"https://cdn.jsdelivr.net/npm/semantic-ui@2.4.2/dist/semantic.min.css\">\n",
       "                <script src=\"https://code.jquery.com/jquery-3.1.1.min.js\"\n",
       "                  integrity=\"sha256-hVVnYaiADRTO2PzUGmuLJr8BLUSjGIZsDYGmIJLv2b8=\"\n",
       "                  crossorigin=\"anonymous\"></script>\n",
       "                <script src=\"https://cdn.jsdelivr.net/npm/semantic-ui@2.4.2/dist/semantic.min.js\"></script>\n",
       "                <script>require.config({\n",
       "                    shim: {\n",
       "                        'chartjs': {\n",
       "                            deps: ['moment']    // enforce moment to be loaded before chartjs\n",
       "                        }\n",
       "                    },\n",
       "                    paths: {\n",
       "                    'chartjs': 'path/to/chartjs/dist/Chart.min.js',\n",
       "                    'moment': 'path/to/moment'\n",
       "                    }});\n",
       "                    </script>\n",
       "        </head>\n",
       "        \n",
       "        <body>\n",
       "            <div class= \"ui grid\">\n",
       "        \n",
       "        <div class = 'eight wide column'>\n",
       "        <canvas id= \"fc7bcef0-00ea-11ea-88ef-0c9d92106694\" ></canvas>\n",
       "        <script>\n",
       "        requirejs(['https:\\cdnjs.cloudflare.com/ajax/libs/Chart.js/2.8.0/Chart.js'], function(Chart){\n",
       "            new Chart(document.getElementById(\"fc7bcef0-00ea-11ea-88ef-0c9d92106694\"), {\n",
       "                    type: \"scatter\",\n",
       "                    data: {\"datasets\": [{\"label\": \"test\", \"data\": [{\"x\": -1.0, \"y\": 1.0}, {\"x\": 0.0, \"y\": -1.0}, {\"x\": 1.0, \"y\": 1.0}], \"backgroundColor\": \"#4E79A7\", \"borderColor\": \"#4E79A7\"}, {\"label\": \"t1\", \"data\": [{\"x\": -1.0, \"y\": 2.0, \"Value\": \"a\"}, {\"x\": 0.0, \"y\": 2.0, \"Value\": \"b\"}, {\"x\": 1.0, \"y\": 2.0, \"Value\": \"c\"}], \"backgroundColor\": \"#F28E2B\", \"borderColor\": \"#F28E2B\"}]},\n",
       "                    options: {\n",
       "                        \"responsive\": true,\n",
       "                        \"title\": {\"display\": \"true\", \"text\": \"ScatterChart\"},\n",
       "                        \"scales\" : { xAxes : [{\"display\": \"true\", \"scaleLabel\": {\"display\": \"false\", \"labelString\": \"\"}}],\n",
       "                                     yAxes : [{\"display\": \"true\", \"scaleLabel\": {\"display\": \"false\", \"labelString\": \"\"}, \"type\": \"linear\"}]\n",
       "                                     },\n",
       "                        tooltips: {\n",
       "                            callbacks: {\n",
       "                                label: function(tooltipItem, data) {\n",
       "                                    var label = data.datasets[tooltipItem.datasetIndex].label;\n",
       "                                    var word = data.datasets[tooltipItem.datasetIndex].data[tooltipItem.index].Value\n",
       "                                    return word == undefined? label : label + \" : \" + word\n",
       "                               }\n",
       "                            }\n",
       "                        }\n",
       "                    }\n",
       "                });\n",
       "                });\n",
       "        </script>\n",
       "        </div>\n",
       "        \n",
       "        <div class = 'eight wide column'>\n",
       "        <canvas id= \"fc7bd468-00ea-11ea-88ef-0c9d92106694\" ></canvas>\n",
       "        <script>\n",
       "        requirejs(['https:\\cdnjs.cloudflare.com/ajax/libs/Chart.js/2.8.0/Chart.js'], function(Chart){\n",
       "            new Chart(document.getElementById(\"fc7bd468-00ea-11ea-88ef-0c9d92106694\"), {\n",
       "                    type: \"bar\",\n",
       "                    data: {\"datasets\": [{\"label\": \"t\", \"data\": [1.0, -1.0, 1.0], \"backgroundColor\": \"#4E79A7\", \"borderColor\": \"#4E79A7\"}, {\"label\": \"t1\", \"data\": [2.0, 2.0, 2.0], \"backgroundColor\": \"#F28E2B\", \"borderColor\": \"#F28E2B\"}], \"labels\": [\"-1\", \"0\", \"1\"]},\n",
       "                    options: {\n",
       "                        \"responsive\": true,\n",
       "                        \"title\": {\"display\": \"true\", \"text\": \"BarChart\"},\n",
       "                        \"scales\" : { xAxes : [{\"display\": \"true\", \"scaleLabel\": {\"display\": \"false\", \"labelString\": \"\"}}],\n",
       "                                     yAxes : [{\"display\": \"true\", \"scaleLabel\": {\"display\": \"false\", \"labelString\": \"\"}, \"type\": \"linear\"}]\n",
       "                                     },\n",
       "                        tooltips: {\n",
       "                            callbacks: {\n",
       "                                label: function(tooltipItem, data) {\n",
       "                                    var label = data.datasets[tooltipItem.datasetIndex].label;\n",
       "                                    var word = data.datasets[tooltipItem.datasetIndex].data[tooltipItem.index].Value\n",
       "                                    return word == undefined? label : label + \" : \" + word\n",
       "                               }\n",
       "                            }\n",
       "                        }\n",
       "                    }\n",
       "                });\n",
       "                });\n",
       "        </script>\n",
       "        </div>\n",
       "        \n",
       "        <div class = 'eight wide column'>\n",
       "        <canvas id= \"fc7bc766-00ea-11ea-88ef-0c9d92106694\" ></canvas>\n",
       "        <script>\n",
       "        requirejs(['https:\\cdnjs.cloudflare.com/ajax/libs/Chart.js/2.8.0/Chart.js'], function(Chart){\n",
       "            new Chart(document.getElementById(\"fc7bc766-00ea-11ea-88ef-0c9d92106694\"), {\n",
       "                    type: \"line\",\n",
       "                    data: {\"datasets\": [{\"label\": \"t\", \"data\": [1.0, -1.0, 1.0], \"fill\": \"false\", \"backgroundColor\": \"#4E79A7\", \"borderColor\": \"#4E79A7\"}, {\"label\": \"t1\", \"data\": [2.0, 2.0, 2.0], \"fill\": \"false\", \"backgroundColor\": \"#F28E2B\", \"borderColor\": \"#F28E2B\"}], \"labels\": [\"-1\", \"0\", \"1\"]},\n",
       "                    options: {\n",
       "                        \"responsive\": true,\n",
       "                        \"title\": {\"display\": \"true\", \"text\": \"LineChart\"},\n",
       "                        \"scales\" : { xAxes : [{\"display\": \"true\", \"scaleLabel\": {\"display\": \"true\", \"labelString\": \"x Axis\"}}],\n",
       "                                     yAxes : [{\"display\": \"true\", \"scaleLabel\": {\"display\": \"true\", \"labelString\": \"y Axis\"}, \"type\": \"linear\"}]\n",
       "                                     },\n",
       "                        tooltips: {\n",
       "                            callbacks: {\n",
       "                                label: function(tooltipItem, data) {\n",
       "                                    var label = data.datasets[tooltipItem.datasetIndex].label;\n",
       "                                    var word = data.datasets[tooltipItem.datasetIndex].data[tooltipItem.index].Value\n",
       "                                    return word == undefined? label : label + \" : \" + word\n",
       "                               }\n",
       "                            }\n",
       "                        }\n",
       "                    }\n",
       "                });\n",
       "                });\n",
       "        </script>\n",
       "        </div>\n",
       "        \n",
       "            </div>\n",
       "        </body>\n",
       "        "
      ],
      "text/plain": [
       "<IPython.core.display.HTML object>"
      ]
     },
     "execution_count": 7,
     "metadata": {},
     "output_type": "execute_result"
    }
   ],
   "source": [
    "p.display"
   ]
  },
  {
   "cell_type": "code",
   "execution_count": null,
   "metadata": {},
   "outputs": [],
   "source": []
  }
 ],
 "metadata": {
  "@webio": {
   "lastCommId": null,
   "lastKernelId": null
  },
  "kernelspec": {
   "display_name": "Python 3",
   "language": "python",
   "name": "python3"
  },
  "language_info": {
   "codemirror_mode": {
    "name": "ipython",
    "version": 3
   },
   "file_extension": ".py",
   "mimetype": "text/x-python",
   "name": "python",
   "nbconvert_exporter": "python",
   "pygments_lexer": "ipython3",
   "version": "3.6.7"
  }
 },
 "nbformat": 4,
 "nbformat_minor": 2
}

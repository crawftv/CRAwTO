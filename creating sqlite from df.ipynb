{
 "cells": [
  {
   "cell_type": "code",
   "execution_count": 1,
   "metadata": {},
   "outputs": [],
   "source": [
    "import sqlite3"
   ]
  },
  {
   "cell_type": "code",
   "execution_count": 2,
   "metadata": {},
   "outputs": [],
   "source": [
    "import pandas as pd\n",
    "df = pd.read_feather(\"base_train_data\")"
   ]
  },
  {
   "cell_type": "code",
   "execution_count": 3,
   "metadata": {},
   "outputs": [
    {
     "data": {
      "text/plain": [
       "array(['index', 'Id', 'MSSubClass', 'MSZoning', 'LotFrontage', 'LotArea',\n",
       "       'Street', 'Alley', 'LotShape', 'LandContour', 'Utilities',\n",
       "       'LotConfig', 'LandSlope', 'Neighborhood', 'Condition1',\n",
       "       'Condition2', 'BldgType', 'HouseStyle', 'OverallQual',\n",
       "       'OverallCond', 'YearBuilt', 'YearRemodAdd', 'RoofStyle',\n",
       "       'RoofMatl', 'Exterior1st', 'Exterior2nd', 'MasVnrType',\n",
       "       'MasVnrArea', 'ExterQual', 'ExterCond', 'Foundation', 'BsmtQual',\n",
       "       'BsmtCond', 'BsmtExposure', 'BsmtFinType1', 'BsmtFinSF1',\n",
       "       'BsmtFinType2', 'BsmtFinSF2', 'BsmtUnfSF', 'TotalBsmtSF',\n",
       "       'Heating', 'HeatingQC', 'CentralAir', 'Electrical', '1stFlrSF',\n",
       "       '2ndFlrSF', 'LowQualFinSF', 'GrLivArea', 'BsmtFullBath',\n",
       "       'BsmtHalfBath', 'FullBath', 'HalfBath', 'BedroomAbvGr',\n",
       "       'KitchenAbvGr', 'KitchenQual', 'TotRmsAbvGrd', 'Functional',\n",
       "       'Fireplaces', 'FireplaceQu', 'GarageType', 'GarageYrBlt',\n",
       "       'GarageFinish', 'GarageCars', 'GarageArea', 'GarageQual',\n",
       "       'GarageCond', 'PavedDrive', 'WoodDeckSF', 'OpenPorchSF',\n",
       "       'EnclosedPorch', '3SsnPorch', 'ScreenPorch', 'PoolArea', 'PoolQC',\n",
       "       'Fence', 'MiscFeature', 'MiscVal', 'MoSold', 'YrSold', 'SaleType',\n",
       "       'SaleCondition', 'SalePrice'], dtype=object)"
      ]
     },
     "execution_count": 3,
     "metadata": {},
     "output_type": "execute_result"
    }
   ],
   "source": [
    "df.columns.values"
   ]
  },
  {
   "cell_type": "code",
   "execution_count": 4,
   "metadata": {},
   "outputs": [
    {
     "data": {
      "text/plain": [
       "array([dtype('int64'), dtype('int64'), dtype('int64'), dtype('O'),\n",
       "       dtype('float64'), dtype('int64'), dtype('O'), dtype('O'),\n",
       "       dtype('O'), dtype('O'), dtype('O'), dtype('O'), dtype('O'),\n",
       "       dtype('O'), dtype('O'), dtype('O'), dtype('O'), dtype('O'),\n",
       "       dtype('int64'), dtype('int64'), dtype('int64'), dtype('int64'),\n",
       "       dtype('O'), dtype('O'), dtype('O'), dtype('O'), dtype('O'),\n",
       "       dtype('float64'), dtype('O'), dtype('O'), dtype('O'), dtype('O'),\n",
       "       dtype('O'), dtype('O'), dtype('O'), dtype('int64'), dtype('O'),\n",
       "       dtype('int64'), dtype('int64'), dtype('int64'), dtype('O'),\n",
       "       dtype('O'), dtype('O'), dtype('O'), dtype('int64'), dtype('int64'),\n",
       "       dtype('int64'), dtype('int64'), dtype('int64'), dtype('int64'),\n",
       "       dtype('int64'), dtype('int64'), dtype('int64'), dtype('int64'),\n",
       "       dtype('O'), dtype('int64'), dtype('O'), dtype('int64'), dtype('O'),\n",
       "       dtype('O'), dtype('float64'), dtype('O'), dtype('int64'),\n",
       "       dtype('int64'), dtype('O'), dtype('O'), dtype('O'), dtype('int64'),\n",
       "       dtype('int64'), dtype('int64'), dtype('int64'), dtype('int64'),\n",
       "       dtype('int64'), dtype('O'), dtype('O'), dtype('O'), dtype('int64'),\n",
       "       dtype('int64'), dtype('int64'), dtype('O'), dtype('O'),\n",
       "       dtype('int64')], dtype=object)"
      ]
     },
     "execution_count": 4,
     "metadata": {},
     "output_type": "execute_result"
    }
   ],
   "source": [
    "df.dtypes.values"
   ]
  },
  {
   "cell_type": "code",
   "execution_count": 14,
   "metadata": {},
   "outputs": [
    {
     "data": {
      "text/plain": [
       "True"
      ]
     },
     "execution_count": 14,
     "metadata": {},
     "output_type": "execute_result"
    }
   ],
   "source": [
    "pd.api.types.is_string_dtype(df.dtypes.values[3])"
   ]
  },
  {
   "cell_type": "code",
   "execution_count": 15,
   "metadata": {},
   "outputs": [
    {
     "data": {
      "text/plain": [
       "numpy.dtype"
      ]
     },
     "execution_count": 15,
     "metadata": {},
     "output_type": "execute_result"
    }
   ],
   "source": [
    "type(df.dtypes.values[3])"
   ]
  },
  {
   "cell_type": "code",
   "execution_count": 3,
   "metadata": {},
   "outputs": [],
   "source": [
    "import numpy\n",
    "def np_to_sql_type(dtype:numpy.dtype):\n",
    "    if pd.api.types.is_string_dtype(dtype):\n",
    "        return \"text\"\n",
    "    elif pd.api.types.is_float_dtype(dtype):\n",
    "        return \"real\"\n",
    "    elif pd.api.types.is_integer_dtype(dtype):\n",
    "        return \"int\"\n",
    "    \n",
    "def df_to_sql_schema(table_name:str, df:pd.DataFrame):\n",
    "    dtypes = df.dtypes.values\n",
    "    column_names= df.columns.values\n",
    "    sql_types = list(map(np_to_sql_type, df.dtypes.values))\n",
    "    zz = list(zip(column_names,sql_types))\n",
    "    pre_schema =[f\"\"\" [{i[0]}] {i[1]}\"\"\" for i in zz]\n",
    "    schema  = f\"\"\"({\", \".join(pre_schema)})\"\"\"\n",
    "    return schema\n",
    "\n",
    "def df_to_sql(table_name:str, db:str,df:pd.DataFrame):\n",
    "    schema = df_to_sql_schema(table_name, df)\n",
    "    with sqlite3.connect(db) as conn:\n",
    "        conn.execute(f\"CREATE TABLE {table_name} {schema}\")\n",
    "        insert_phrase = \", \".join([\"?\" for i in df.columns.values])\n",
    "        conn.executemany(f\"INSERT INTO {table_name} VALUES ({insert_phrase})\",df.values)"
   ]
  },
  {
   "cell_type": "code",
   "execution_count": 7,
   "metadata": {},
   "outputs": [],
   "source": [
    "df_to_sql(\"base_data\",\"test.db\",df)"
   ]
  },
  {
   "cell_type": "code",
   "execution_count": 6,
   "metadata": {},
   "outputs": [
    {
     "name": "stdout",
     "output_type": "stream",
     "text": [
      "[(925, 926, 20, 'RL', None, 15611, 'Pave', None, 'IR1', 'Lvl', 'AllPub', 'Corner', 'Gtl', 'NWAmes', 'Norm', 'Norm', '1Fam', '1Story', 5, 6, 1977, 1977, 'Gable', 'CompShg', 'VinylSd', 'VinylSd', 'None', 0.0, 'TA', 'TA', 'PConc', 'Gd', 'TA', 'Av', 'ALQ', 767, 'LwQ', 93, 266, 1126, 'GasA', 'TA', 'Y', 'SBrkr', 1126, 0, 0, 1126, 0, 1, 2, 0, 3, 1, 'Ex', 6, 'Typ', 0, None, 'Attchd', 1977.0, 'RFn', 2, 540, 'TA', 'TA', 'Y', 180, 0, 0, 0, 0, 0, None, None, None, 0, 3, 2008, 'WD', 'Abnorml', 175000), (1391, 1392, 90, 'RL', 65.0, 8944, 'Pave', None, 'Reg', 'Lvl', 'AllPub', 'Inside', 'Gtl', 'NAmes', 'Norm', 'Norm', 'Duplex', '1Story', 5, 5, 1967, 1967, 'Gable', 'CompShg', 'Plywood', 'Plywood', 'None', 0.0, 'TA', 'TA', 'CBlock', 'TA', 'TA', 'No', 'Unf', 0, 'Unf', 0, 1584, 1584, 'GasA', 'TA', 'Y', 'SBrkr', 1584, 0, 0, 1584, 0, 0, 2, 0, 4, 2, 'TA', 8, 'Mod', 0, None, 'Detchd', 1967.0, 'Unf', 3, 792, 'TA', 'TA', 'Y', 0, 152, 0, 0, 0, 0, None, None, None, 0, 4, 2009, 'WD', 'Normal', 124000), (417, 418, 70, 'RL', 86.0, 22420, 'Pave', None, 'IR1', 'Lvl', 'AllPub', 'Inside', 'Gtl', 'Crawfor', 'Feedr', 'Norm', '1Fam', '2Story', 6, 6, 1918, 1950, 'Hip', 'CompShg', 'Wd Sdng', 'Stucco', 'None', 0.0, 'TA', 'TA', 'BrkTil', 'Gd', 'TA', 'No', 'BLQ', 1128, 'Unf', 0, 242, 1370, 'GasW', 'TA', 'N', 'FuseA', 1370, 1254, 0, 2624, 1, 0, 2, 1, 4, 1, 'TA', 10, 'Typ', 1, 'Gd', 'Detchd', 1918.0, 'Unf', 3, 864, 'TA', 'TA', 'N', 0, 0, 0, 0, 0, 0, None, None, None, 0, 11, 2007, 'WD', 'Normal', 239000), (854, 855, 20, 'RL', 102.0, 17920, 'Pave', None, 'Reg', 'Lvl', 'AllPub', 'Inside', 'Gtl', 'Sawyer', 'Norm', 'Norm', '1Fam', '1Story', 5, 4, 1955, 1974, 'Hip', 'CompShg', 'Wd Sdng', 'Plywood', 'None', 0.0, 'TA', 'TA', 'CBlock', 'TA', 'TA', 'Mn', 'ALQ', 306, 'Rec', 1085, 372, 1763, 'GasA', 'TA', 'Y', 'SBrkr', 1779, 0, 0, 1779, 1, 0, 1, 1, 3, 1, 'TA', 6, 'Typ', 1, 'Gd', 'Attchd', 1955.0, 'Unf', 2, 454, 'TA', 'TA', 'Y', 0, 418, 0, 0, 312, 0, None, None, None, 0, 7, 2006, 'WD', 'Abnorml', 170000), (183, 184, 50, 'RM', 63.0, 11426, 'Pave', None, 'Reg', 'Lvl', 'AllPub', 'Inside', 'Gtl', 'OldTown', 'Norm', 'Norm', '1Fam', '1.5Fin', 7, 5, 2003, 2003, 'Gable', 'CompShg', 'VinylSd', 'VinylSd', 'None', 0.0, 'TA', 'TA', 'PConc', 'Gd', 'TA', 'No', 'Unf', 0, 'Unf', 0, 1362, 1362, 'GasA', 'Ex', 'Y', 'SBrkr', 1362, 720, 0, 2082, 0, 0, 2, 1, 3, 1, 'Gd', 6, 'Mod', 0, None, 'Detchd', 2003.0, 'Unf', 2, 484, 'TA', 'TA', 'N', 280, 238, 0, 0, 0, 0, None, None, None, 0, 6, 2008, 'WD', 'Normal', 200000)]\n"
     ]
    }
   ],
   "source": [
    "with sqlite3.connect(\"test.db\") as conn:\n",
    "    print(conn.execute(\"SELECT * FROM base_data LIMIT 5\").fetchall())"
   ]
  },
  {
   "cell_type": "code",
   "execution_count": 37,
   "metadata": {},
   "outputs": [],
   "source": [
    "zz = df_to_sql_schema(\"base_data\", df)"
   ]
  },
  {
   "cell_type": "code",
   "execution_count": 77,
   "metadata": {},
   "outputs": [],
   "source": [
    "ss =[f\"\"\" [{i[0]}] {i[1]}\"\"\" for i in zz]"
   ]
  },
  {
   "cell_type": "code",
   "execution_count": 78,
   "metadata": {},
   "outputs": [
    {
     "data": {
      "text/plain": [
       "' [index] int'"
      ]
     },
     "execution_count": 78,
     "metadata": {},
     "output_type": "execute_result"
    }
   ],
   "source": [
    "ss[0]"
   ]
  },
  {
   "cell_type": "code",
   "execution_count": 79,
   "metadata": {},
   "outputs": [],
   "source": [
    "schema  = f\"\"\"({\", \".join(ss)})\"\"\""
   ]
  },
  {
   "cell_type": "code",
   "execution_count": 84,
   "metadata": {},
   "outputs": [
    {
     "data": {
      "text/plain": [
       "'CREATE TABLE base_data ( [index] int,  [Id] int,  [MSSubClass] int,  [MSZoning] text,  [LotFrontage] real,  [LotArea] int,  [Street] text,  [Alley] text,  [LotShape] text,  [LandContour] text,  [Utilities] text,  [LotConfig] text,  [LandSlope] text,  [Neighborhood] text,  [Condition1] text,  [Condition2] text,  [BldgType] text,  [HouseStyle] text,  [OverallQual] int,  [OverallCond] int,  [YearBuilt] int,  [YearRemodAdd] int,  [RoofStyle] text,  [RoofMatl] text,  [Exterior1st] text,  [Exterior2nd] text,  [MasVnrType] text,  [MasVnrArea] real,  [ExterQual] text,  [ExterCond] text,  [Foundation] text,  [BsmtQual] text,  [BsmtCond] text,  [BsmtExposure] text,  [BsmtFinType1] text,  [BsmtFinSF1] int,  [BsmtFinType2] text,  [BsmtFinSF2] int,  [BsmtUnfSF] int,  [TotalBsmtSF] int,  [Heating] text,  [HeatingQC] text,  [CentralAir] text,  [Electrical] text,  [1stFlrSF] int,  [2ndFlrSF] int,  [LowQualFinSF] int,  [GrLivArea] int,  [BsmtFullBath] int,  [BsmtHalfBath] int,  [FullBath] int,  [HalfBath] int,  [BedroomAbvGr] int,  [KitchenAbvGr] int,  [KitchenQual] text,  [TotRmsAbvGrd] int,  [Functional] text,  [Fireplaces] int,  [FireplaceQu] text,  [GarageType] text,  [GarageYrBlt] real,  [GarageFinish] text,  [GarageCars] int,  [GarageArea] int,  [GarageQual] text,  [GarageCond] text,  [PavedDrive] text,  [WoodDeckSF] int,  [OpenPorchSF] int,  [EnclosedPorch] int,  [3SsnPorch] int,  [ScreenPorch] int,  [PoolArea] int,  [PoolQC] text,  [Fence] text,  [MiscFeature] text,  [MiscVal] int,  [MoSold] int,  [YrSold] int,  [SaleType] text,  [SaleCondition] text,  [SalePrice] int)'"
      ]
     },
     "execution_count": 84,
     "metadata": {},
     "output_type": "execute_result"
    }
   ],
   "source": [
    "f\"CREATE TABLE base_data {schema}\""
   ]
  },
  {
   "cell_type": "code",
   "execution_count": 100,
   "metadata": {},
   "outputs": [],
   "source": []
  },
  {
   "cell_type": "code",
   "execution_count": null,
   "metadata": {},
   "outputs": [],
   "source": []
  },
  {
   "cell_type": "markdown",
   "metadata": {},
   "source": [
    "# test models fit update"
   ]
  },
  {
   "cell_type": "code",
   "execution_count": 17,
   "metadata": {},
   "outputs": [],
   "source": [
    "with sqlite3.connect(\"test.db\") as conn:\n",
    "    cc = conn.execute(\"SELECT * from models LIMIT 1\").fetchone()\n",
    "    cd = list(cc)"
   ]
  },
  {
   "cell_type": "code",
   "execution_count": 20,
   "metadata": {},
   "outputs": [],
   "source": [
    "model = cloudpickle.loads(cd[3])"
   ]
  },
  {
   "cell_type": "code",
   "execution_count": 26,
   "metadata": {},
   "outputs": [
    {
     "data": {
      "text/plain": [
       "array([0.        , 0.        , 0.        , 0.        , 0.        ,\n",
       "       0.        , 0.        , 0.        , 0.        , 0.        ,\n",
       "       0.        , 0.        , 0.        , 0.        , 0.        ,\n",
       "       0.        , 0.        , 0.        , 0.        , 0.        ,\n",
       "       0.        , 0.        , 0.        , 0.        , 0.        ,\n",
       "       0.        , 0.        , 0.        , 0.        , 0.        ,\n",
       "       0.        , 0.        , 0.        , 0.        , 0.        ,\n",
       "       0.        , 0.        , 0.        , 0.        , 0.        ,\n",
       "       0.        , 0.        , 0.        , 0.        , 0.        ,\n",
       "       0.        , 0.        , 0.        , 0.        , 0.        ,\n",
       "       0.        , 0.        , 0.        , 0.        , 0.        ,\n",
       "       0.        , 0.        , 0.        , 0.        , 0.        ,\n",
       "       0.        , 0.        , 0.        , 0.        , 0.        ,\n",
       "       0.        , 0.        , 0.03485934, 0.        , 0.        ,\n",
       "       0.12582198, 0.05860114, 0.        , 0.        ])"
      ]
     },
     "execution_count": 26,
     "metadata": {},
     "output_type": "execute_result"
    }
   ],
   "source": [
    "model.coef_"
   ]
  },
  {
   "cell_type": "code",
   "execution_count": 27,
   "metadata": {},
   "outputs": [],
   "source": [
    "with sqlite3.connect(\"test.db\") as conn:\n",
    "    cc = conn.execute(\"SELECT identifier from models\").fetchall()\n",
    "    cd = list(cc)"
   ]
  },
  {
   "cell_type": "code",
   "execution_count": 28,
   "metadata": {},
   "outputs": [
    {
     "data": {
      "text/plain": [
       "[('<crawto.baseline_model.BaselineRegressionPrediction object at 0x0000021AF8124E20>',),\n",
       " ('DecisionTreeRegressor(ccp_alpha=0.0, criterion=\"mse\", max_depth=None, max_features=None, max_leaf_nodes=None, min_impurity_decrease=0.0, min_impurity_split=None, min_samples_leaf=1, min_samples_split=2, min_weight_fraction_leaf=0.0, presort=\"deprecated\", random_state=None, splitter=\"best\")',),\n",
       " ('ElasticNet(alpha=1.0, copy_X=True, fit_intercept=True, l1_ratio=0.5, max_iter=1000, normalize=False, positive=False, precompute=False, random_state=None, selection=\"cyclic\", tol=0.0001, warm_start=False)',),\n",
       " ('GradientBoostingRegressor(alpha=0.9, ccp_alpha=0.0, criterion=\"friedman_mse\", init=None, learning_rate=0.1, loss=\"ls\", max_depth=3, max_features=None, max_leaf_nodes=None, min_impurity_decrease=0.0, min_impurity_split=None, min_samples_leaf=1, min_samples_split=2, min_weight_fraction_leaf=0.0, n_estimators=100, n_iter_no_change=None, presort=\"deprecated\", random_state=None, subsample=1.0, tol=0.0001, validation_fraction=0.1, verbose=0, warm_start=False)',),\n",
       " ('LinearRegression(copy_X=True, fit_intercept=True, n_jobs=None, normalize=False)',),\n",
       " ('RandomForestRegressor(bootstrap=True, ccp_alpha=0.0, criterion=\"mse\", max_depth=None, max_features=\"auto\", max_leaf_nodes=None, max_samples=None, min_impurity_decrease=0.0, min_impurity_split=None, min_samples_leaf=1, min_samples_split=2, min_weight_fraction_leaf=0.0, n_estimators=100, n_jobs=None, oob_score=False, random_state=None, verbose=0, warm_start=False)',),\n",
       " ('Ridge(alpha=1.0, copy_X=True, fit_intercept=True, max_iter=None, normalize=False, random_state=None, solver=\"auto\", tol=0.001)',)]"
      ]
     },
     "execution_count": 28,
     "metadata": {},
     "output_type": "execute_result"
    }
   ],
   "source": [
    "cd"
   ]
  },
  {
   "cell_type": "markdown",
   "metadata": {},
   "source": [
    "# test prediction table"
   ]
  },
  {
   "cell_type": "code",
   "execution_count": 7,
   "metadata": {},
   "outputs": [],
   "source": [
    "query = (\n",
    "            \"\"\"SELECT pickled_model, identifier FROM models LIMIT 1\"\"\"\n",
    "        )"
   ]
  },
  {
   "cell_type": "code",
   "execution_count": 12,
   "metadata": {},
   "outputs": [],
   "source": [
    "import sqlite3\n",
    "import cloudpickle\n",
    "with sqlite3.connect(\"test.db\") as conn:\n",
    "    model, identifier = conn.execute(query).fetchone()\n",
    "    model = cloudpickle.loads(model)"
   ]
  },
  {
   "cell_type": "code",
   "execution_count": 14,
   "metadata": {},
   "outputs": [
    {
     "data": {
      "text/plain": [
       "(ElasticNet(alpha=1.0, copy_X=True, fit_intercept=True, l1_ratio=0.5,\n",
       "            max_iter=1000, normalize=False, positive=False, precompute=False,\n",
       "            random_state=None, selection='cyclic', tol=0.0001, warm_start=False),\n",
       " 'ElasticNet(alpha=1.0, copy_X=True, fit_intercept=True, l1_ratio=0.5, max_iter=1000, normalize=False, positive=False, precompute=False, random_state=None, selection=\"cyclic\", tol=0.0001, warm_start=False)')"
      ]
     },
     "execution_count": 14,
     "metadata": {},
     "output_type": "execute_result"
    }
   ],
   "source": [
    "model, identifier"
   ]
  },
  {
   "cell_type": "markdown",
   "metadata": {},
   "source": [
    "# valid target"
   ]
  },
  {
   "cell_type": "code",
   "execution_count": 1,
   "metadata": {},
   "outputs": [],
   "source": [
    "import pandas as pd\n",
    "df = pd.read_csv(\"transformed_valid.df\")"
   ]
  },
  {
   "cell_type": "code",
   "execution_count": 4,
   "metadata": {},
   "outputs": [
    {
     "data": {
      "text/plain": [
       "365"
      ]
     },
     "execution_count": 4,
     "metadata": {},
     "output_type": "execute_result"
    }
   ],
   "source": [
    "df.shape[0]"
   ]
  },
  {
   "cell_type": "code",
   "execution_count": 5,
   "metadata": {},
   "outputs": [],
   "source": [
    "import numpy as np"
   ]
  },
  {
   "cell_type": "code",
   "execution_count": 11,
   "metadata": {},
   "outputs": [
    {
     "data": {
      "text/plain": [
       "array([0.75, 0.75, 0.75, 0.75, 0.75, 0.75, 0.75, 0.75, 0.75, 0.75, 0.75,\n",
       "       0.75, 0.75, 0.75, 0.75, 0.75, 0.75, 0.75, 0.75, 0.75, 0.75, 0.75,\n",
       "       0.75, 0.75, 0.75, 0.75, 0.75, 0.75, 0.75, 0.75, 0.75, 0.75, 0.75,\n",
       "       0.75, 0.75, 0.75, 0.75, 0.75, 0.75, 0.75, 0.75, 0.75, 0.75, 0.75,\n",
       "       0.75, 0.75, 0.75, 0.75, 0.75, 0.75, 0.75, 0.75, 0.75, 0.75, 0.75,\n",
       "       0.75, 0.75, 0.75, 0.75, 0.75, 0.75, 0.75, 0.75, 0.75, 0.75, 0.75,\n",
       "       0.75, 0.75, 0.75, 0.75, 0.75, 0.75, 0.75, 0.75, 0.75, 0.75, 0.75,\n",
       "       0.75, 0.75, 0.75, 0.75, 0.75, 0.75, 0.75, 0.75, 0.75, 0.75, 0.75,\n",
       "       0.75, 0.75, 0.75, 0.75, 0.75, 0.75, 0.75, 0.75, 0.75, 0.75, 0.75,\n",
       "       0.75, 0.75, 0.75, 0.75, 0.75, 0.75, 0.75, 0.75, 0.75, 0.75, 0.75,\n",
       "       0.75, 0.75, 0.75, 0.75, 0.75, 0.75, 0.75, 0.75, 0.75, 0.75, 0.75,\n",
       "       0.75, 0.75, 0.75, 0.75, 0.75, 0.75, 0.75, 0.75, 0.75, 0.75, 0.75,\n",
       "       0.75, 0.75, 0.75, 0.75, 0.75, 0.75, 0.75, 0.75, 0.75, 0.75, 0.75,\n",
       "       0.75, 0.75, 0.75, 0.75, 0.75, 0.75, 0.75, 0.75, 0.75, 0.75, 0.75,\n",
       "       0.75, 0.75, 0.75, 0.75, 0.75, 0.75, 0.75, 0.75, 0.75, 0.75, 0.75,\n",
       "       0.75, 0.75, 0.75, 0.75, 0.75, 0.75, 0.75, 0.75, 0.75, 0.75, 0.75,\n",
       "       0.75, 0.75, 0.75, 0.75, 0.75, 0.75, 0.75, 0.75, 0.75, 0.75, 0.75,\n",
       "       0.75, 0.75, 0.75, 0.75, 0.75, 0.75, 0.75, 0.75, 0.75, 0.75, 0.75,\n",
       "       0.75, 0.75, 0.75, 0.75, 0.75, 0.75, 0.75, 0.75, 0.75, 0.75, 0.75,\n",
       "       0.75, 0.75, 0.75, 0.75, 0.75, 0.75, 0.75, 0.75, 0.75, 0.75, 0.75,\n",
       "       0.75, 0.75, 0.75, 0.75, 0.75, 0.75, 0.75, 0.75, 0.75, 0.75, 0.75,\n",
       "       0.75, 0.75, 0.75, 0.75, 0.75, 0.75, 0.75, 0.75, 0.75, 0.75, 0.75,\n",
       "       0.75, 0.75, 0.75, 0.75, 0.75, 0.75, 0.75, 0.75, 0.75, 0.75, 0.75,\n",
       "       0.75, 0.75, 0.75, 0.75, 0.75, 0.75, 0.75, 0.75, 0.75, 0.75, 0.75,\n",
       "       0.75, 0.75, 0.75, 0.75, 0.75, 0.75, 0.75, 0.75, 0.75, 0.75, 0.75,\n",
       "       0.75, 0.75, 0.75, 0.75, 0.75, 0.75, 0.75, 0.75, 0.75, 0.75, 0.75,\n",
       "       0.75, 0.75, 0.75, 0.75, 0.75, 0.75, 0.75, 0.75, 0.75, 0.75, 0.75,\n",
       "       0.75, 0.75, 0.75, 0.75, 0.75, 0.75, 0.75, 0.75, 0.75, 0.75, 0.75,\n",
       "       0.75, 0.75, 0.75, 0.75, 0.75, 0.75, 0.75, 0.75, 0.75, 0.75, 0.75,\n",
       "       0.75, 0.75, 0.75, 0.75, 0.75, 0.75, 0.75, 0.75, 0.75, 0.75, 0.75,\n",
       "       0.75, 0.75, 0.75, 0.75, 0.75, 0.75, 0.75, 0.75, 0.75, 0.75, 0.75,\n",
       "       0.75, 0.75, 0.75, 0.75, 0.75, 0.75, 0.75, 0.75, 0.75, 0.75, 0.75,\n",
       "       0.75, 0.75, 0.75, 0.75, 0.75, 0.75, 0.75, 0.75, 0.75, 0.75, 0.75,\n",
       "       0.75, 0.75])"
      ]
     },
     "execution_count": 11,
     "metadata": {},
     "output_type": "execute_result"
    }
   ],
   "source": [
    "np.ones_like(df.index.values) * .75"
   ]
  },
  {
   "cell_type": "code",
   "execution_count": null,
   "metadata": {},
   "outputs": [],
   "source": []
  }
 ],
 "metadata": {
  "kernelspec": {
   "display_name": "Python 3.8.2 64-bit ('.venv': venv)",
   "language": "python",
   "name": "python38264bitvenvvenve7c5a723c4304eac8310691561f008d4"
  },
  "language_info": {
   "codemirror_mode": {
    "name": "ipython",
    "version": 3
   },
   "file_extension": ".py",
   "mimetype": "text/x-python",
   "name": "python",
   "nbconvert_exporter": "python",
   "pygments_lexer": "ipython3",
   "version": "3.8.2"
  }
 },
 "nbformat": 4,
 "nbformat_minor": 4
}

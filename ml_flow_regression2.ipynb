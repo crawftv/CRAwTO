{
 "cells": [
  {
   "cell_type": "code",
   "execution_count": 1,
   "metadata": {},
   "outputs": [],
   "source": [
    "%load_ext autoreload"
   ]
  },
  {
   "cell_type": "code",
   "execution_count": 2,
   "metadata": {},
   "outputs": [],
   "source": [
    "%autoreload 2"
   ]
  },
  {
   "cell_type": "code",
   "execution_count": 3,
   "metadata": {
    "execution": {
     "iopub.execute_input": "2020-04-11T23:02:42.759Z",
     "iopub.status.busy": "2020-04-11T23:02:42.689Z",
     "iopub.status.idle": "2020-04-11T23:02:52.706Z",
     "shell.execute_reply": "2020-04-11T23:02:52.781Z"
    }
   },
   "outputs": [],
   "source": [
    "from prefect import Flow, Parameter, unmapped\n",
    "import pandas as pd\n",
    "from prefect.engine.executors import DaskExecutor\n",
    "from crawto.ml_flow import data_cleaning_flow\n",
    "from tinydb import TinyDB"
   ]
  },
  {
   "cell_type": "code",
   "execution_count": 4,
   "metadata": {},
   "outputs": [],
   "source": [
    "input_df = pd.read_csv(\"data/house-prices-advanced-regression-techniques/train.csv\")\n",
    "test= pd.read_csv(\"data/house-prices-advanced-regression-techniques/test.csv\")"
   ]
  },
  {
   "cell_type": "code",
   "execution_count": 5,
   "metadata": {
    "scrolled": true
   },
   "outputs": [
    {
     "name": "stdout",
     "output_type": "stream",
     "text": [
      "[2020-04-27 22:59:30,804] INFO - prefect.FlowRunner | Beginning Flow run for 'data_cleaning'\n",
      "[2020-04-27 22:59:30,809] INFO - prefect.FlowRunner | Starting flow run.\n",
      "[2020-04-27 22:59:31,067] INFO - prefect.TaskRunner | Task 'features': Starting task run...\n",
      "[2020-04-27 22:59:31,084] INFO - prefect.TaskRunner | Task 'features': finished task run for task with final state: 'Success'\n",
      "[2020-04-27 22:59:31,321] INFO - prefect.TaskRunner | Task 'input_data': Starting task run...\n",
      "[2020-04-27 22:59:31,334] INFO - prefect.TaskRunner | Task 'problem': Starting task run...\n",
      "[2020-04-27 22:59:31,336] INFO - prefect.TaskRunner | Task 'input_data': finished task run for task with final state: 'Success'\n",
      "[2020-04-27 22:59:31,338] INFO - prefect.TaskRunner | Task 'target': Starting task run...\n",
      "[2020-04-27 22:59:31,345] INFO - prefect.TaskRunner | Task 'problem': finished task run for task with final state: 'Success'\n",
      "[2020-04-27 22:59:31,354] INFO - prefect.TaskRunner | Task 'target': finished task run for task with final state: 'Success'\n",
      "[2020-04-27 22:59:31,392] INFO - prefect.TaskRunner | Task 'extract_problematic_features': Starting task run...\n",
      "[2020-04-27 22:59:31,395] INFO - prefect.TaskRunner | Task 'extract_nan_features': Starting task run...\n",
      "[2020-04-27 22:59:31,402] INFO - prefect.TaskRunner | Task 'extract_problematic_features': finished task run for task with final state: 'Success'\n",
      "[2020-04-27 22:59:31,426] INFO - prefect.TaskRunner | Task 'extract_nan_features': finished task run for task with final state: 'Success'\n",
      "[2020-04-27 22:59:31,445] INFO - prefect.TaskRunner | Task 'extract_undefined_features': Starting task run...\n",
      "[2020-04-27 22:59:31,453] INFO - prefect.TaskRunner | Task 'extract_undefined_features': finished task run for task with final state: 'Success'\n",
      "[2020-04-27 22:59:31,493] INFO - prefect.TaskRunner | Task 'fit_transform_missing_indicator': Starting task run...\n",
      "[2020-04-27 22:59:31,497] INFO - prefect.TaskRunner | Task 'extract_numeric_features': Starting task run...\n",
      "[2020-04-27 22:59:31,514] INFO - prefect.TaskRunner | Task 'extract_categorical_features': Starting task run...\n",
      "[2020-04-27 22:59:31,568] INFO - prefect.TaskRunner | Task 'fit_transform_missing_indicator': finished task run for task with final state: 'Success'\n",
      "[2020-04-27 22:59:31,606] INFO - prefect.TaskRunner | Task 'extract_numeric_features': finished task run for task with final state: 'Success'\n",
      "[2020-04-27 22:59:31,633] INFO - prefect.TaskRunner | Task 'extract_train_valid_split': Starting task run...\n",
      "[2020-04-27 22:59:31,644] INFO - prefect.TaskRunner | Task 'extract_train_valid_split': finished task run for task with final state: 'Success'\n",
      "[2020-04-27 22:59:31,668] INFO - prefect.TaskRunner | Task 'extract_categorical_features': finished task run for task with final state: 'Success'\n",
      "[2020-04-27 22:59:31,685] INFO - prefect.TaskRunner | Task 'extract_valid_data': Starting task run...\n",
      "[2020-04-27 22:59:31,689] INFO - prefect.TaskRunner | Task 'extract_train_data': Starting task run...\n",
      "[2020-04-27 22:59:31,741] INFO - prefect.TaskRunner | Task 'extract_valid_data': finished task run for task with final state: 'Success'\n",
      "[2020-04-27 22:59:31,748] INFO - prefect.TaskRunner | Task 'extract_train_data': finished task run for task with final state: 'Success'\n",
      "[2020-04-27 22:59:31,782] INFO - prefect.TaskRunner | Task 'fit_categorical_imputer': Starting task run...\n",
      "[2020-04-27 22:59:31,793] INFO - prefect.TaskRunner | Task 'fit_target_transformer': Starting task run...\n",
      "[2020-04-27 22:59:31,802] INFO - prefect.TaskRunner | Task 'fit_numeric_imputer': Starting task run...\n",
      "[2020-04-27 22:59:31,820] INFO - prefect.TaskRunner | Task 'fit_numeric_imputer': finished task run for task with final state: 'Success'\n",
      "[2020-04-27 22:59:31,866] INFO - prefect.TaskRunner | Task 'fit_categorical_imputer': finished task run for task with final state: 'Success'\n",
      "[2020-04-27 22:59:31,869] INFO - prefect.TaskRunner | Task 'fit_target_transformer': finished task run for task with final state: 'Success'\n",
      "[2020-04-27 22:59:31,910] INFO - prefect.TaskRunner | Task 'transform_target': Starting task run...\n",
      "[2020-04-27 22:59:31,928] INFO - prefect.TaskRunner | Task 'transform_categorical_data': Starting task run...\n",
      "[2020-04-27 22:59:31,952] INFO - prefect.TaskRunner | Task 'transform_categorical_data': Starting task run...\n",
      "[2020-04-27 22:59:31,959] INFO - prefect.TaskRunner | Task 'transform_target': Starting task run...\n",
      "[2020-04-27 22:59:31,960] INFO - prefect.TaskRunner | Task 'impute_numeric_df': Starting task run...\n",
      "[2020-04-27 22:59:31,975] INFO - prefect.TaskRunner | Task 'impute_numeric_df': Starting task run...\n",
      "[2020-04-27 22:59:31,976] INFO - prefect.TaskRunner | Task 'transform_target': finished task run for task with final state: 'Success'\n",
      "[2020-04-27 22:59:32,014] INFO - prefect.TaskRunner | Task 'transform_categorical_data': finished task run for task with final state: 'Success'\n",
      "[2020-04-27 22:59:32,015] INFO - prefect.TaskRunner | Task 'transform_target': finished task run for task with final state: 'Success'\n",
      "[2020-04-27 22:59:32,017] INFO - prefect.TaskRunner | Task 'transform_categorical_data': finished task run for task with final state: 'Success'\n",
      "[2020-04-27 22:59:32,032] INFO - prefect.TaskRunner | Task 'impute_numeric_df': finished task run for task with final state: 'Success'\n",
      "[2020-04-27 22:59:32,033] INFO - prefect.TaskRunner | Task 'impute_numeric_df': finished task run for task with final state: 'Success'\n",
      "[2020-04-27 22:59:32,054] INFO - prefect.TaskRunner | Task 'save_data': Starting task run...\n",
      "[2020-04-27 22:59:32,090] INFO - prefect.TaskRunner | Task 'fit_target_encoder': Starting task run...\n",
      "[2020-04-27 22:59:32,091] INFO - prefect.TaskRunner | Task 'save_data': Starting task run...\n",
      "[2020-04-27 22:59:32,112] INFO - prefect.TaskRunner | Task 'fit_yeo_johnson_transformer': Starting task run...\n",
      "[2020-04-27 22:59:32,201] INFO - prefect.TaskRunner | Task 'save_data': finished task run for task with final state: 'Success'\n",
      "[2020-04-27 22:59:32,223] INFO - prefect.TaskRunner | Task 'save_data': finished task run for task with final state: 'Success'\n"
     ]
    },
    {
     "name": "stderr",
     "output_type": "stream",
     "text": [
      "e:\\projects\\crawto\\.venv\\lib\\site-packages\\sklearn\\preprocessing\\_data.py:2982: RuntimeWarning: divide by zero encountered in log\n",
      "  loglike = -n_samples / 2 * np.log(x_trans.var())\n"
     ]
    },
    {
     "name": "stdout",
     "output_type": "stream",
     "text": [
      "[2020-04-27 22:59:32,815] INFO - prefect.TaskRunner | Task 'fit_target_encoder': finished task run for task with final state: 'Success'\n",
      "[2020-04-27 22:59:32,849] INFO - prefect.TaskRunner | Task 'target_encoder_transform': Starting task run...\n",
      "[2020-04-27 22:59:32,849] INFO - prefect.TaskRunner | Task 'target_encoder_transform': Starting task run...\n",
      "[2020-04-27 22:59:33,063] INFO - prefect.TaskRunner | Task 'target_encoder_transform': finished task run for task with final state: 'Success'\n",
      "[2020-04-27 22:59:33,072] INFO - prefect.TaskRunner | Task 'target_encoder_transform': finished task run for task with final state: 'Success'\n",
      "[2020-04-27 22:59:33,089] INFO - prefect.TaskRunner | Task 'fit_yeo_johnson_transformer': finished task run for task with final state: 'Success'\n",
      "[2020-04-27 22:59:33,121] INFO - prefect.TaskRunner | Task 'transform_yeo_johnson_transformer': Starting task run...\n",
      "[2020-04-27 22:59:33,123] INFO - prefect.TaskRunner | Task 'transform_yeo_johnson_transformer': Starting task run...\n",
      "[2020-04-27 22:59:33,131] INFO - prefect.TaskRunner | Task 'transform_yeo_johnson_transformer': finished task run for task with final state: 'Success'\n",
      "[2020-04-27 22:59:33,151] INFO - prefect.TaskRunner | Task 'merge_transformed_data': Starting task run...\n",
      "[2020-04-27 22:59:33,167] INFO - prefect.TaskRunner | Task 'merge_transformed_data': finished task run for task with final state: 'Success'\n",
      "[2020-04-27 22:59:33,167] INFO - prefect.TaskRunner | Task 'transform_yeo_johnson_transformer': finished task run for task with final state: 'Success'\n",
      "[2020-04-27 22:59:33,186] INFO - prefect.TaskRunner | Task 'merge_transformed_data': Starting task run...\n",
      "[2020-04-27 22:59:33,195] INFO - prefect.TaskRunner | Task 'merge_transformed_data': finished task run for task with final state: 'Success'\n",
      "[2020-04-27 22:59:33,213] INFO - prefect.TaskRunner | Task 'fit_hbos_transformer': Starting task run...\n",
      "[2020-04-27 22:59:34,545] INFO - prefect.TaskRunner | Task 'fit_hbos_transformer': finished task run for task with final state: 'Success'\n",
      "[2020-04-27 22:59:34,575] INFO - prefect.TaskRunner | Task 'hbos_transform': Starting task run...\n",
      "[2020-04-27 22:59:34,577] INFO - prefect.TaskRunner | Task 'hbos_transform': Starting task run...\n",
      "[2020-04-27 22:59:34,587] INFO - prefect.TaskRunner | Task 'hbos_transform': finished task run for task with final state: 'Success'\n",
      "[2020-04-27 22:59:34,594] INFO - prefect.TaskRunner | Task 'hbos_transform': finished task run for task with final state: 'Success'\n",
      "[2020-04-27 22:59:34,612] INFO - prefect.TaskRunner | Task 'merge_hbos_df': Starting task run...\n",
      "[2020-04-27 22:59:34,624] INFO - prefect.TaskRunner | Task 'merge_hbos_df': finished task run for task with final state: 'Success'\n",
      "[2020-04-27 22:59:34,636] INFO - prefect.TaskRunner | Task 'merge_hbos_df': Starting task run...\n",
      "[2020-04-27 22:59:34,660] INFO - prefect.TaskRunner | Task 'merge_hbos_df': finished task run for task with final state: 'Success'\n",
      "[2020-04-27 22:59:34,662] INFO - prefect.TaskRunner | Task 'save_data': Starting task run...\n",
      "[2020-04-27 22:59:34,682] INFO - prefect.TaskRunner | Task 'save_data': Starting task run...\n",
      "[2020-04-27 22:59:34,740] INFO - prefect.TaskRunner | Task 'save_data': finished task run for task with final state: 'Success'\n",
      "[2020-04-27 22:59:34,772] INFO - prefect.TaskRunner | Task 'save_data': finished task run for task with final state: 'Success'\n",
      "[2020-04-27 22:59:36,819] INFO - prefect.FlowRunner | Flow run SUCCESS: all reference tasks succeeded\n"
     ]
    }
   ],
   "source": [
    "executor = DaskExecutor()\n",
    "data_cleaner = data_cleaning_flow.run(\n",
    "    input_data=input_df,\n",
    "    problem=\"regression\",\n",
    "    target=\"SalePrice\",\n",
    "    features=\"infer\",\n",
    "    executor=executor,\n",
    "    #db = \"crawto.db\"\n",
    ")"
   ]
  },
  {
   "cell_type": "code",
   "execution_count": 12,
   "metadata": {},
   "outputs": [
    {
     "name": "stdout",
     "output_type": "stream",
     "text": [
      "[2020-04-27 23:07:45,408] INFO - prefect.FlowRunner | Beginning Flow run for 'meta_model_flow'\n",
      "[2020-04-27 23:07:45,412] INFO - prefect.FlowRunner | Starting flow run.\n",
      "[2020-04-27 23:07:45,511] INFO - prefect.TaskRunner | Task 'db': Starting task run...\n",
      "[2020-04-27 23:07:45,524] INFO - prefect.TaskRunner | Task 'train_data': Starting task run...\n",
      "[2020-04-27 23:07:45,543] INFO - prefect.TaskRunner | Task 'db': finished task run for task with final state: 'Success'\n",
      "[2020-04-27 23:07:45,566] INFO - prefect.TaskRunner | Task 'train_data': finished task run for task with final state: 'Success'\n",
      "[2020-04-27 23:07:45,569] INFO - prefect.TaskRunner | Task 'train_target': Starting task run...\n",
      "[2020-04-27 23:07:45,591] INFO - prefect.TaskRunner | Task 'valid_data': Starting task run...\n",
      "[2020-04-27 23:07:45,594] INFO - prefect.TaskRunner | Task 'valid_target': Starting task run...\n",
      "[2020-04-27 23:07:45,619] INFO - prefect.TaskRunner | Task 'get_models': Starting task run...\n",
      "[2020-04-27 23:07:45,626] INFO - prefect.TaskRunner | Task 'train_target': finished task run for task with final state: 'Success'\n",
      "[2020-04-27 23:07:45,636] INFO - prefect.TaskRunner | Task 'load_data': Starting task run...\n",
      "[2020-04-27 23:07:45,643] INFO - prefect.TaskRunner | Task 'valid_data': finished task run for task with final state: 'Success'\n",
      "[2020-04-27 23:07:45,653] INFO - prefect.TaskRunner | Task 'valid_target': finished task run for task with final state: 'Success'\n",
      "[2020-04-27 23:07:45,672] INFO - prefect.TaskRunner | Task 'load_data': Starting task run...\n",
      "[2020-04-27 23:07:45,682] INFO - prefect.TaskRunner | Task 'get_models': finished task run for task with final state: 'Success'\n",
      "[2020-04-27 23:07:45,697] INFO - prefect.TaskRunner | Task 'load_data': Starting task run...\n",
      "[2020-04-27 23:07:45,715] INFO - prefect.TaskRunner | Task 'load_data': Starting task run...\n",
      "[2020-04-27 23:07:45,723] INFO - prefect.TaskRunner | Task 'load_data': finished task run for task with final state: 'Success'\n",
      "[2020-04-27 23:07:45,735] INFO - prefect.TaskRunner | Task 'load_data': finished task run for task with final state: 'Success'\n",
      "[2020-04-27 23:07:45,755] INFO - prefect.TaskRunner | Task 'load_data': finished task run for task with final state: 'Success'\n",
      "[2020-04-27 23:07:45,763] INFO - prefect.TaskRunner | Task 'load_data': finished task run for task with final state: 'Success'\n",
      "[2020-04-27 23:07:45,778] INFO - prefect.TaskRunner | Task 'fit_model': Starting task run...\n",
      "[2020-04-27 23:07:45,850] INFO - prefect.TaskRunner | Task 'fit_model[2]': Starting task run...\n",
      "[2020-04-27 23:07:45,864] INFO - prefect.TaskRunner | Task 'fit_model[1]': Starting task run...\n",
      "[2020-04-27 23:07:45,872] INFO - prefect.TaskRunner | Task 'fit_model[3]': Starting task run...\n",
      "[2020-04-27 23:07:45,885] INFO - prefect.TaskRunner | Task 'fit_model[0]': Starting task run...\n",
      "[2020-04-27 23:07:45,893] INFO - prefect.TaskRunner | Task 'fit_model[5]': Starting task run...\n",
      "[2020-04-27 23:07:45,893] INFO - prefect.TaskRunner | Task 'fit_model[4]': Starting task run...\n",
      "[2020-04-27 23:07:45,904] INFO - prefect.TaskRunner | Task 'fit_model[2]': finished task run for task with final state: 'Success'\n",
      "[2020-04-27 23:07:45,913] INFO - prefect.TaskRunner | Task 'fit_model[1]': finished task run for task with final state: 'Success'\n",
      "[2020-04-27 23:07:45,924] INFO - prefect.TaskRunner | Task 'fit_model[3]': finished task run for task with final state: 'Success'\n",
      "[2020-04-27 23:07:45,936] INFO - prefect.TaskRunner | Task 'fit_model[0]': finished task run for task with final state: 'Success'\n",
      "[2020-04-27 23:07:45,953] INFO - prefect.TaskRunner | Task 'fit_model[6]': Starting task run...\n",
      "[2020-04-27 23:07:45,972] INFO - prefect.TaskRunner | Task 'fit_model[7]': Starting task run...\n",
      "[2020-04-27 23:07:45,985] INFO - prefect.TaskRunner | Task 'fit_model[8]': Starting task run...\n",
      "[2020-04-27 23:07:46,002] INFO - prefect.TaskRunner | Task 'fit_model[9]': Starting task run...\n",
      "[2020-04-27 23:07:46,107] INFO - prefect.TaskRunner | Task 'fit_model[4]': finished task run for task with final state: 'Success'\n",
      "[2020-04-27 23:07:46,124] INFO - prefect.TaskRunner | Task 'fit_model[10]': Starting task run...\n",
      "[2020-04-27 23:07:46,171] INFO - prefect.TaskRunner | Task 'fit_model[5]': finished task run for task with final state: 'Success'\n",
      "[2020-04-27 23:07:46,254] INFO - prefect.TaskRunner | Task 'fit_model[8]': finished task run for task with final state: 'Success'\n",
      "[2020-04-27 23:07:46,310] INFO - prefect.TaskRunner | Task 'fit_model[10]': finished task run for task with final state: 'Success'\n"
     ]
    },
    {
     "name": "stderr",
     "output_type": "stream",
     "text": [
      "E:\\projects\\crawto\\crawto\\meta_model.py:120: DataConversionWarning: A column-vector y was passed when a 1d array was expected. Please change the shape of y to (n_samples,), for example using ravel().\n",
      "  model = model.fit(X=train_data, y=target)\n",
      "e:\\projects\\crawto\\.venv\\lib\\site-packages\\sklearn\\ensemble\\_gb.py:1454: DataConversionWarning: A column-vector y was passed when a 1d array was expected. Please change the shape of y to (n_samples, ), for example using ravel().\n",
      "  y = column_or_1d(y, warn=True)\n"
     ]
    },
    {
     "name": "stdout",
     "output_type": "stream",
     "text": [
      "[2020-04-27 23:07:46,376] INFO - prefect.TaskRunner | Task 'fit_model[6]': finished task run for task with final state: 'Success'\n",
      "[2020-04-27 23:07:46,451] INFO - prefect.TaskRunner | Task 'fit_model[7]': finished task run for task with final state: 'Success'\n",
      "[2020-04-27 23:07:46,912] INFO - prefect.TaskRunner | Task 'fit_model[9]': finished task run for task with final state: 'Success'\n",
      "[2020-04-27 23:07:46,937] INFO - prefect.TaskRunner | Task 'fit_model': finished task run for task with final state: 'Mapped'\n",
      "[2020-04-27 23:07:46,952] INFO - prefect.TaskRunner | Task 'predict_model': Starting task run...\n",
      "[2020-04-27 23:07:47,116] INFO - prefect.TaskRunner | Task 'predict_model[3]': Starting task run...\n",
      "[2020-04-27 23:07:47,124] INFO - prefect.TaskRunner | Task 'predict_model[4]': Starting task run...\n",
      "[2020-04-27 23:07:47,130] INFO - prefect.TaskRunner | Task 'predict_model[2]': Starting task run...\n",
      "[2020-04-27 23:07:47,168] INFO - prefect.TaskRunner | Task 'predict_model[5]': Starting task run...\n",
      "[2020-04-27 23:07:47,169] INFO - prefect.TaskRunner | Task 'predict_model[1]': Starting task run...\n",
      "[2020-04-27 23:07:47,183] INFO - prefect.TaskRunner | Task 'predict_model[0]': Starting task run...\n",
      "[2020-04-27 23:07:47,190] ERROR - prefect.TaskRunner | Unexpected error: TypeError(\"score() got multiple values for argument 'X'\")\n",
      "Traceback (most recent call last):\n",
      "  File \"e:\\projects\\crawto\\.venv\\lib\\site-packages\\prefect\\engine\\runner.py\", line 48, in inner\n",
      "    new_state = method(self, state, *args, **kwargs)\n",
      "  File \"e:\\projects\\crawto\\.venv\\lib\\site-packages\\prefect\\engine\\task_runner.py\", line 883, in get_task_run_state\n",
      "    result = timeout_handler(\n",
      "  File \"e:\\projects\\crawto\\.venv\\lib\\site-packages\\prefect\\utilities\\executors.py\", line 185, in timeout_handler\n",
      "    return fn(*args, **kwargs)\n",
      "  File \"E:\\projects\\crawto\\crawto\\meta_model.py\", line 145, in predict_model\n",
      "    score = model.score(X=valid_data, y=target)\n",
      "TypeError: score() got multiple values for argument 'X'\n",
      "[2020-04-27 23:07:47,191] ERROR - prefect.TaskRunner | Unexpected error: TypeError(\"score() got multiple values for argument 'X'\")\n",
      "Traceback (most recent call last):\n",
      "  File \"e:\\projects\\crawto\\.venv\\lib\\site-packages\\prefect\\engine\\runner.py\", line 48, in inner\n",
      "    new_state = method(self, state, *args, **kwargs)\n",
      "  File \"e:\\projects\\crawto\\.venv\\lib\\site-packages\\prefect\\engine\\task_runner.py\", line 883, in get_task_run_state\n",
      "    result = timeout_handler(\n",
      "  File \"e:\\projects\\crawto\\.venv\\lib\\site-packages\\prefect\\utilities\\executors.py\", line 185, in timeout_handler\n",
      "    return fn(*args, **kwargs)\n",
      "  File \"E:\\projects\\crawto\\crawto\\meta_model.py\", line 145, in predict_model\n",
      "    score = model.score(X=valid_data, y=target)\n",
      "TypeError: score() got multiple values for argument 'X'\n",
      "[2020-04-27 23:07:47,192] ERROR - prefect.TaskRunner | Unexpected error: TypeError(\"score() got multiple values for argument 'X'\")\n",
      "Traceback (most recent call last):\n",
      "  File \"e:\\projects\\crawto\\.venv\\lib\\site-packages\\prefect\\engine\\runner.py\", line 48, in inner\n",
      "    new_state = method(self, state, *args, **kwargs)\n",
      "  File \"e:\\projects\\crawto\\.venv\\lib\\site-packages\\prefect\\engine\\task_runner.py\", line 883, in get_task_run_state\n",
      "    result = timeout_handler(\n",
      "  File \"e:\\projects\\crawto\\.venv\\lib\\site-packages\\prefect\\utilities\\executors.py\", line 185, in timeout_handler\n",
      "    return fn(*args, **kwargs)\n",
      "  File \"E:\\projects\\crawto\\crawto\\meta_model.py\", line 145, in predict_model\n",
      "    score = model.score(X=valid_data, y=target)\n",
      "TypeError: score() got multiple values for argument 'X'\n",
      "[2020-04-27 23:07:47,193] ERROR - prefect.TaskRunner | Unexpected error: TypeError(\"score() got multiple values for argument 'X'\")\n",
      "Traceback (most recent call last):\n",
      "  File \"e:\\projects\\crawto\\.venv\\lib\\site-packages\\prefect\\engine\\runner.py\", line 48, in inner\n",
      "    new_state = method(self, state, *args, **kwargs)\n",
      "  File \"e:\\projects\\crawto\\.venv\\lib\\site-packages\\prefect\\engine\\task_runner.py\", line 883, in get_task_run_state\n",
      "    result = timeout_handler(\n",
      "  File \"e:\\projects\\crawto\\.venv\\lib\\site-packages\\prefect\\utilities\\executors.py\", line 185, in timeout_handler\n",
      "    return fn(*args, **kwargs)\n",
      "  File \"E:\\projects\\crawto\\crawto\\meta_model.py\", line 145, in predict_model\n",
      "    score = model.score(X=valid_data, y=target)\n",
      "TypeError: score() got multiple values for argument 'X'\n",
      "[2020-04-27 23:07:47,193] ERROR - prefect.TaskRunner | Unexpected error: TypeError(\"score() got multiple values for argument 'X'\")\n",
      "Traceback (most recent call last):\n",
      "  File \"e:\\projects\\crawto\\.venv\\lib\\site-packages\\prefect\\engine\\runner.py\", line 48, in inner\n",
      "    new_state = method(self, state, *args, **kwargs)\n",
      "  File \"e:\\projects\\crawto\\.venv\\lib\\site-packages\\prefect\\engine\\task_runner.py\", line 883, in get_task_run_state\n",
      "    result = timeout_handler(\n",
      "  File \"e:\\projects\\crawto\\.venv\\lib\\site-packages\\prefect\\utilities\\executors.py\", line 185, in timeout_handler\n",
      "    return fn(*args, **kwargs)\n",
      "  File \"E:\\projects\\crawto\\crawto\\meta_model.py\", line 145, in predict_model\n",
      "    score = model.score(X=valid_data, y=target)\n",
      "TypeError: score() got multiple values for argument 'X'\n",
      "[2020-04-27 23:07:47,203] INFO - prefect.TaskRunner | Task 'predict_model[5]': finished task run for task with final state: 'Success'\n",
      "[2020-04-27 23:07:47,209] INFO - prefect.TaskRunner | Task 'predict_model[3]': finished task run for task with final state: 'Failed'\n",
      "[2020-04-27 23:07:47,217] INFO - prefect.TaskRunner | Task 'predict_model[4]': finished task run for task with final state: 'Failed'\n",
      "[2020-04-27 23:07:47,224] INFO - prefect.TaskRunner | Task 'predict_model[2]': finished task run for task with final state: 'Failed'\n",
      "[2020-04-27 23:07:47,232] INFO - prefect.TaskRunner | Task 'predict_model[1]': finished task run for task with final state: 'Failed'\n",
      "[2020-04-27 23:07:47,240] INFO - prefect.TaskRunner | Task 'predict_model[0]': finished task run for task with final state: 'Failed'\n",
      "[2020-04-27 23:07:47,256] INFO - prefect.TaskRunner | Task 'predict_model[6]': Starting task run...\n",
      "[2020-04-27 23:07:47,285] INFO - prefect.TaskRunner | Task 'predict_model[7]': Starting task run...\n",
      "[2020-04-27 23:07:47,289] INFO - prefect.TaskRunner | Task 'predict_model[8]': Starting task run...\n",
      "[2020-04-27 23:07:47,306] INFO - prefect.TaskRunner | Task 'predict_model[9]': Starting task run...\n",
      "[2020-04-27 23:07:47,324] INFO - prefect.TaskRunner | Task 'predict_model[10]': Starting task run...\n",
      "[2020-04-27 23:07:47,339] INFO - prefect.TaskRunner | Task 'predict_model[6]': finished task run for task with final state: 'Success'\n",
      "[2020-04-27 23:07:47,355] INFO - prefect.TaskRunner | Task 'predict_model[8]': finished task run for task with final state: 'Success'\n",
      "[2020-04-27 23:07:47,364] INFO - prefect.TaskRunner | Task 'predict_model[7]': finished task run for task with final state: 'Success'\n",
      "[2020-04-27 23:07:47,377] INFO - prefect.TaskRunner | Task 'predict_model[10]': finished task run for task with final state: 'Success'\n",
      "[2020-04-27 23:07:47,432] INFO - prefect.TaskRunner | Task 'predict_model[9]': finished task run for task with final state: 'Success'\n",
      "[2020-04-27 23:07:47,445] INFO - prefect.TaskRunner | Task 'predict_model': finished task run for task with final state: 'Mapped'\n",
      "[2020-04-27 23:07:49,462] INFO - prefect.FlowRunner | Flow run FAILED: some reference tasks failed.\n"
     ]
    }
   ],
   "source": [
    "from prefect.engine.executors import DaskExecutor\n",
    "from crawto.meta_model import MetaModel, meta_model_flow\n",
    "meta = MetaModel(problem=\"regression\", db=\"crawto.db\", use_default_models=True)\n",
    "models = meta.models\n",
    "executor = DaskExecutor()\n",
    "meta_model_run = meta_model_flow.run(\n",
    "    train_data = \"transformed_train.df\",\n",
    "    valid_data = \"transformed_valid.df\",\n",
    "    train_target = \"train_target.df\",\n",
    "    valid_target=\"valid_target.df\",\n",
    "    db=\"crawto.db\",\n",
    "    executor=executor,\n",
    ")"
   ]
  },
  {
   "cell_type": "code",
   "execution_count": null,
   "metadata": {},
   "outputs": [],
   "source": [
    "with Flow(\"data_visualization\") as flow:\n",
    "    transformed_train_df = pd.read_feather(\"transformed_train.df\")\n",
    "    transformed_valid_df = pd.read_feather(\"transformed_valid.df\")\n",
    "    svd = fit_svd(transformed_train_df)\n",
    "    svd_train = svd_transform(svd, transformed_train_df, \"transformed_train_df\",tinydb)\n",
    "    svd_valid = svd_transform(svd, transformed_valid_df, \"transformed_valid_df\",tinydb)\n",
    "    "
   ]
  }
 ],
 "metadata": {
  "@webio": {
   "lastCommId": null,
   "lastKernelId": null
  },
  "kernel_info": {
   "name": "python3"
  },
  "kernelspec": {
   "display_name": "Python 3",
   "language": "python",
   "name": "python3"
  },
  "language_info": {
   "codemirror_mode": {
    "name": "ipython",
    "version": 3
   },
   "file_extension": ".py",
   "mimetype": "text/x-python",
   "name": "python",
   "nbconvert_exporter": "python",
   "pygments_lexer": "ipython3",
   "version": "3.8.2"
  },
  "nteract": {
   "version": "0.22.4"
  }
 },
 "nbformat": 4,
 "nbformat_minor": 4
}

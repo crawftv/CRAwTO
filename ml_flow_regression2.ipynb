{
 "cells": [
  {
   "cell_type": "code",
   "execution_count": 2,
   "metadata": {},
   "outputs": [],
   "source": [
    "%load_ext autoreload"
   ]
  },
  {
   "cell_type": "code",
   "execution_count": 3,
   "metadata": {},
   "outputs": [],
   "source": [
    "%autoreload 2"
   ]
  },
  {
   "cell_type": "code",
   "execution_count": 4,
   "metadata": {
    "execution": {
     "iopub.execute_input": "2020-04-11T23:02:42.759Z",
     "iopub.status.busy": "2020-04-11T23:02:42.689Z",
     "iopub.status.idle": "2020-04-11T23:02:52.706Z",
     "shell.execute_reply": "2020-04-11T23:02:52.781Z"
    }
   },
   "outputs": [],
   "source": [
    "from prefect import Flow, Parameter, unmapped\n",
    "import pandas as pd\n",
    "from prefect.engine.executors import DaskExecutor\n",
    "from crawto.ml_flow import data_cleaning_flow\n",
    "from tinydb import TinyDB"
   ]
  },
  {
   "cell_type": "code",
   "execution_count": 5,
   "metadata": {},
   "outputs": [],
   "source": [
    "input_df = pd.read_csv(\"data/house-prices-advanced-regression-techniques/train.csv\")\n",
    "test= pd.read_csv(\"data/house-prices-advanced-regression-techniques/test.csv\")"
   ]
  },
  {
   "cell_type": "code",
   "execution_count": 6,
   "metadata": {
    "scrolled": true
   },
   "outputs": [
    {
     "name": "stdout",
     "output_type": "stream",
     "text": [
      "[2020-04-23 16:43:41,409] INFO - prefect.FlowRunner | Beginning Flow run for 'data_cleaning'\n",
      "[2020-04-23 16:43:41,460] INFO - prefect.FlowRunner | Starting flow run.\n",
      "[2020-04-23 16:43:43,626] INFO - prefect.TaskRunner | Task 'problem': Starting task run...\n",
      "[2020-04-23 16:43:43,712] INFO - prefect.TaskRunner | Task 'problem': finished task run for task with final state: 'Success'\n",
      "[2020-04-23 16:43:44,312] INFO - prefect.TaskRunner | Task 'features': Starting task run...\n",
      "[2020-04-23 16:43:44,402] INFO - prefect.TaskRunner | Task 'features': finished task run for task with final state: 'Success'\n",
      "[2020-04-23 16:43:44,483] INFO - prefect.TaskRunner | Task 'target': Starting task run...\n",
      "[2020-04-23 16:43:44,523] INFO - prefect.TaskRunner | Task 'target': finished task run for task with final state: 'Success'\n",
      "[2020-04-23 16:43:44,662] INFO - prefect.TaskRunner | Task 'input_data': Starting task run...\n",
      "[2020-04-23 16:43:44,710] INFO - prefect.TaskRunner | Task 'input_data': finished task run for task with final state: 'Success'\n",
      "[2020-04-23 16:43:44,798] INFO - prefect.TaskRunner | Task 'extract_nan_features': Starting task run...\n",
      "[2020-04-23 16:43:44,798] INFO - prefect.TaskRunner | Task 'extract_problematic_features': Starting task run...\n",
      "[2020-04-23 16:43:44,979] INFO - prefect.TaskRunner | Task 'extract_problematic_features': finished task run for task with final state: 'Success'\n",
      "[2020-04-23 16:43:45,026] INFO - prefect.TaskRunner | Task 'extract_nan_features': finished task run for task with final state: 'Success'\n",
      "[2020-04-23 16:43:45,108] INFO - prefect.TaskRunner | Task 'extract_undefined_features': Starting task run...\n",
      "[2020-04-23 16:43:45,136] INFO - prefect.TaskRunner | Task 'extract_undefined_features': finished task run for task with final state: 'Success'\n",
      "[2020-04-23 16:43:45,248] INFO - prefect.TaskRunner | Task 'extract_categorical_features': Starting task run...\n",
      "[2020-04-23 16:43:45,248] INFO - prefect.TaskRunner | Task 'extract_numeric_features': Starting task run...\n",
      "[2020-04-23 16:43:45,476] INFO - prefect.TaskRunner | Task 'extract_numeric_features': finished task run for task with final state: 'Success'\n",
      "[2020-04-23 16:43:45,539] INFO - prefect.TaskRunner | Task 'extract_categorical_features': finished task run for task with final state: 'Success'\n",
      "[2020-04-23 16:43:45,604] INFO - prefect.TaskRunner | Task 'fit_transform_missing_indicator': Starting task run...\n",
      "['MSSubClass', 'MSZoning', 'LotFrontage', 'LotArea', 'Street', 'LotShape', 'LandContour', 'Utilities', 'LotConfig', 'LandSlope', 'Neighborhood', 'Condition1', 'Condition2', 'BldgType', 'HouseStyle', 'OverallQual', 'OverallCond', 'YearBuilt', 'YearRemodAdd', 'RoofStyle', 'RoofMatl', 'Exterior1st', 'Exterior2nd', 'MasVnrType', 'MasVnrArea', 'ExterQual', 'ExterCond', 'Foundation', 'BsmtQual', 'BsmtCond', 'BsmtExposure', 'BsmtFinType1', 'BsmtFinSF1', 'BsmtFinType2', 'BsmtFinSF2', 'BsmtUnfSF', 'TotalBsmtSF', 'Heating', 'HeatingQC', 'CentralAir', 'Electrical', '1stFlrSF', '2ndFlrSF', 'LowQualFinSF', 'GrLivArea', 'BsmtFullBath', 'BsmtHalfBath', 'FullBath', 'HalfBath', 'BedroomAbvGr', 'KitchenAbvGr', 'KitchenQual', 'TotRmsAbvGrd', 'Functional', 'Fireplaces', 'GarageType', 'GarageYrBlt', 'GarageFinish', 'GarageCars', 'GarageArea', 'GarageQual', 'GarageCond', 'PavedDrive', 'WoodDeckSF', 'OpenPorchSF', 'EnclosedPorch', '3SsnPorch', 'ScreenPorch', 'PoolArea', 'MiscVal', 'MoSold', 'YrSold', 'SaleType', 'SaleCondition']\n",
      "[ 2 23 24 28 29 30 31 33 40 55 56 57 60 61]\n",
      "['missing_LotFrontage', 'missing_MasVnrType', 'missing_MasVnrArea', 'missing_BsmtQual', 'missing_BsmtCond', 'missing_BsmtExposure', 'missing_BsmtFinType1', 'missing_BsmtFinType2', 'missing_Electrical', 'missing_GarageType', 'missing_GarageYrBlt', 'missing_GarageFinish', 'missing_GarageQual', 'missing_GarageCond']\n",
      "[2020-04-23 16:43:45,737] INFO - prefect.TaskRunner | Task 'fit_transform_missing_indicator': finished task run for task with final state: 'Success'\n",
      "[2020-04-23 16:43:45,830] INFO - prefect.TaskRunner | Task 'extract_train_valid_split': Starting task run...\n",
      "[2020-04-23 16:43:45,859] INFO - prefect.TaskRunner | Task 'extract_train_valid_split': finished task run for task with final state: 'Success'\n",
      "[2020-04-23 16:43:46,011] INFO - prefect.TaskRunner | Task 'extract_valid_data': Starting task run...\n",
      "[2020-04-23 16:43:46,027] INFO - prefect.TaskRunner | Task 'extract_train_data': Starting task run...\n",
      "[2020-04-23 16:43:46,055] INFO - prefect.TaskRunner | Task 'extract_valid_data': finished task run for task with final state: 'Success'\n",
      "[2020-04-23 16:43:46,089] INFO - prefect.TaskRunner | Task 'extract_train_data': finished task run for task with final state: 'Success'\n",
      "[2020-04-23 16:43:46,182] INFO - prefect.TaskRunner | Task 'fit_target_transformer': Starting task run...\n",
      "[2020-04-23 16:43:46,182] INFO - prefect.TaskRunner | Task 'fit_numeric_imputer': Starting task run...\n",
      "[2020-04-23 16:43:46,240] INFO - prefect.TaskRunner | Task 'fit_target_transformer': finished task run for task with final state: 'Success'\n",
      "[2020-04-23 16:43:46,266] INFO - prefect.TaskRunner | Task 'fit_numeric_imputer': finished task run for task with final state: 'Success'\n",
      "[2020-04-23 16:43:46,397] INFO - prefect.TaskRunner | Task 'fit_categorical_imputer': Starting task run...\n",
      "[2020-04-23 16:43:46,473] INFO - prefect.TaskRunner | Task 'impute_numeric_df': Starting task run...\n",
      "[2020-04-23 16:43:46,520] INFO - prefect.TaskRunner | Task 'impute_numeric_df': finished task run for task with final state: 'Success'\n",
      "[2020-04-23 16:43:46,632] INFO - prefect.TaskRunner | Task 'fit_categorical_imputer': finished task run for task with final state: 'Success'\n",
      "[2020-04-23 16:43:46,732] INFO - prefect.TaskRunner | Task 'impute_numeric_df': Starting task run...\n",
      "[2020-04-23 16:43:46,763] INFO - prefect.TaskRunner | Task 'transform_target': Starting task run...\n",
      "[2020-04-23 16:43:46,810] INFO - prefect.TaskRunner | Task 'impute_numeric_df': finished task run for task with final state: 'Success'\n",
      "[2020-04-23 16:43:46,841] INFO - prefect.TaskRunner | Task 'transform_target': finished task run for task with final state: 'Success'\n",
      "[2020-04-23 16:43:46,918] INFO - prefect.TaskRunner | Task 'transform_categorical_data': Starting task run...\n",
      "[2020-04-23 16:43:46,964] INFO - prefect.TaskRunner | Task 'transform_categorical_data': Starting task run...\n",
      "[2020-04-23 16:43:47,040] INFO - prefect.TaskRunner | Task 'transform_categorical_data': finished task run for task with final state: 'Success'\n",
      "[2020-04-23 16:43:47,117] INFO - prefect.TaskRunner | Task 'transform_categorical_data': finished task run for task with final state: 'Success'\n",
      "[2020-04-23 16:43:47,118] INFO - prefect.TaskRunner | Task 'save_data': Starting task run...\n",
      "[2020-04-23 16:43:47,201] INFO - prefect.TaskRunner | Task 'fit_yeo_johnson_transformer': Starting task run...\n",
      "[2020-04-23 16:43:47,216] INFO - prefect.TaskRunner | Task 'save_data': finished task run for task with final state: 'Success'\n",
      "[2020-04-23 16:43:47,364] INFO - prefect.TaskRunner | Task 'transform_target': Starting task run...\n",
      "[2020-04-23 16:43:47,419] INFO - prefect.TaskRunner | Task 'transform_target': finished task run for task with final state: 'Success'\n"
     ]
    },
    {
     "name": "stderr",
     "output_type": "stream",
     "text": [
      "c:\\users\\cwcol\\projects\\crawto\\.venv\\lib\\site-packages\\sklearn\\preprocessing\\_data.py:2982: RuntimeWarning: divide by zero encountered in log\n",
      "  loglike = -n_samples / 2 * np.log(x_trans.var())\n"
     ]
    },
    {
     "name": "stdout",
     "output_type": "stream",
     "text": [
      "[2020-04-23 16:43:47,477] INFO - prefect.TaskRunner | Task 'fit_yeo_johnson_transformer': finished task run for task with final state: 'Success'\n",
      "[2020-04-23 16:43:47,566] INFO - prefect.TaskRunner | Task 'save_data': Starting task run...\n",
      "[2020-04-23 16:43:47,566] INFO - prefect.TaskRunner | Task 'fit_target_encoder': Starting task run...\n",
      "[2020-04-23 16:43:47,652] INFO - prefect.TaskRunner | Task 'save_data': finished task run for task with final state: 'Success'\n",
      "[2020-04-23 16:43:47,813] INFO - prefect.TaskRunner | Task 'transform_yeo_johnson_transformer': Starting task run...\n",
      "[2020-04-23 16:43:47,899] INFO - prefect.TaskRunner | Task 'transform_yeo_johnson_transformer': finished task run for task with final state: 'Success'\n",
      "[2020-04-23 16:43:48,048] INFO - prefect.TaskRunner | Task 'transform_yeo_johnson_transformer': Starting task run...\n",
      "[2020-04-23 16:43:48,150] INFO - prefect.TaskRunner | Task 'transform_yeo_johnson_transformer': finished task run for task with final state: 'Success'\n",
      "[2020-04-23 16:43:50,320] INFO - prefect.TaskRunner | Task 'fit_target_encoder': finished task run for task with final state: 'Success'\n",
      "[2020-04-23 16:43:50,403] INFO - prefect.TaskRunner | Task 'target_encoder_transform': Starting task run...\n",
      "[2020-04-23 16:43:50,419] INFO - prefect.TaskRunner | Task 'target_encoder_transform': Starting task run...\n",
      "[2020-04-23 16:43:51,072] INFO - prefect.TaskRunner | Task 'target_encoder_transform': finished task run for task with final state: 'Success'\n",
      "[2020-04-23 16:43:51,152] INFO - prefect.TaskRunner | Task 'merge_transformed_data': Starting task run...\n",
      "[2020-04-23 16:43:51,189] INFO - prefect.TaskRunner | Task 'merge_transformed_data': finished task run for task with final state: 'Success'\n",
      "[2020-04-23 16:43:51,253] INFO - prefect.TaskRunner | Task 'target_encoder_transform': finished task run for task with final state: 'Success'\n",
      "[2020-04-23 16:43:51,321] INFO - prefect.TaskRunner | Task 'merge_transformed_data': Starting task run...\n",
      "[2020-04-23 16:43:51,355] INFO - prefect.TaskRunner | Task 'merge_transformed_data': finished task run for task with final state: 'Success'\n",
      "[2020-04-23 16:43:51,414] INFO - prefect.TaskRunner | Task 'fit_hbos_transformer': Starting task run...\n",
      "[2020-04-23 16:43:55,861] INFO - prefect.TaskRunner | Task 'fit_hbos_transformer': finished task run for task with final state: 'Success'\n",
      "[2020-04-23 16:43:55,953] INFO - prefect.TaskRunner | Task 'hbos_transform': Starting task run...\n",
      "[2020-04-23 16:43:55,969] INFO - prefect.TaskRunner | Task 'hbos_transform': Starting task run...\n",
      "[2020-04-23 16:43:56,002] INFO - prefect.TaskRunner | Task 'hbos_transform': finished task run for task with final state: 'Success'\n",
      "[2020-04-23 16:43:56,037] INFO - prefect.TaskRunner | Task 'hbos_transform': finished task run for task with final state: 'Success'\n",
      "[2020-04-23 16:43:56,106] INFO - prefect.TaskRunner | Task 'merge_hbos_df': Starting task run...\n",
      "[2020-04-23 16:43:56,137] INFO - prefect.TaskRunner | Task 'merge_hbos_df': Starting task run...\n",
      "[2020-04-23 16:43:56,177] INFO - prefect.TaskRunner | Task 'merge_hbos_df': finished task run for task with final state: 'Success'\n",
      "[2020-04-23 16:43:56,215] INFO - prefect.TaskRunner | Task 'merge_hbos_df': finished task run for task with final state: 'Success'\n",
      "[2020-04-23 16:43:56,320] INFO - prefect.TaskRunner | Task 'save_data': Starting task run...\n",
      "[2020-04-23 16:43:56,320] INFO - prefect.TaskRunner | Task 'save_data': Starting task run...\n",
      "[2020-04-23 16:43:56,431] INFO - prefect.TaskRunner | Task 'save_data': finished task run for task with final state: 'Success'\n",
      "[2020-04-23 16:43:56,461] INFO - prefect.TaskRunner | Task 'save_data': finished task run for task with final state: 'Success'\n",
      "[2020-04-23 16:43:58,712] INFO - prefect.FlowRunner | Flow run SUCCESS: all reference tasks succeeded\n"
     ]
    }
   ],
   "source": [
    "executor = DaskExecutor()\n",
    "data_cleaner = data_cleaning_flow.run(\n",
    "    input_data= input_df, \n",
    "    problem=\"regression\", \n",
    "    target = \"SalePrice\", \n",
    "    features = \"infer\",\n",
    "    executor=executor\n",
    ")"
   ]
  },
  {
   "cell_type": "code",
   "execution_count": 7,
   "metadata": {},
   "outputs": [
    {
     "data": {
      "text/plain": [
       "'All reference tasks succeeded.'"
      ]
     },
     "execution_count": 7,
     "metadata": {},
     "output_type": "execute_result"
    }
   ],
   "source": [
    "data_cleaner.message"
   ]
  },
  {
   "cell_type": "code",
   "execution_count": 7,
   "metadata": {},
   "outputs": [
    {
     "name": "stdout",
     "output_type": "stream",
     "text": [
      "[2020-04-23 03:11:38,234] INFO - prefect.FlowRunner | Beginning Flow run for 'meta_model_flow'\n",
      "[2020-04-23 03:11:38,252] INFO - prefect.FlowRunner | Starting flow run.\n",
      "[2020-04-23 03:11:38,320] INFO - prefect.TaskRunner | Task 'tinydb': Starting task run...\n",
      "[2020-04-23 03:11:38,348] INFO - prefect.TaskRunner | Task 'tinydb': finished task run for task with final state: 'Success'\n",
      "[2020-04-23 03:11:38,355] INFO - prefect.TaskRunner | Task 'models': Starting task run...\n",
      "[2020-04-23 03:11:38,361] INFO - prefect.TaskRunner | Task 'valid_data': Starting task run...\n",
      "[2020-04-23 03:11:38,401] INFO - prefect.TaskRunner | Task 'train_data': Starting task run...\n",
      "[2020-04-23 03:11:38,424] INFO - prefect.TaskRunner | Task 'problem': Starting task run...\n",
      "[2020-04-23 03:11:38,428] INFO - prefect.TaskRunner | Task 'train_target': Starting task run...\n",
      "[2020-04-23 03:11:38,450] INFO - prefect.TaskRunner | Task 'models': finished task run for task with final state: 'Success'\n",
      "[2020-04-23 03:11:38,452] INFO - prefect.TaskRunner | Task 'load_tinydb': Starting task run...\n",
      "[2020-04-23 03:11:38,460] INFO - prefect.TaskRunner | Task 'valid_data': finished task run for task with final state: 'Success'\n",
      "[2020-04-23 03:11:38,468] INFO - prefect.TaskRunner | Task 'train_data': finished task run for task with final state: 'Success'\n",
      "[2020-04-23 03:11:38,475] INFO - prefect.TaskRunner | Task 'problem': finished task run for task with final state: 'Success'\n",
      "[2020-04-23 03:11:38,484] INFO - prefect.TaskRunner | Task 'train_target': finished task run for task with final state: 'Success'\n",
      "[2020-04-23 03:11:38,495] INFO - prefect.TaskRunner | Task 'load_tinydb': finished task run for task with final state: 'Success'\n",
      "[2020-04-23 03:11:38,543] INFO - prefect.TaskRunner | Task 'load_data': Starting task run...\n",
      "[2020-04-23 03:11:38,544] INFO - prefect.TaskRunner | Task 'load_data': Starting task run...\n",
      "[2020-04-23 03:11:38,545] INFO - prefect.TaskRunner | Task 'load_data': Starting task run...\n",
      "[2020-04-23 03:11:38,559] INFO - prefect.TaskRunner | Task 'load_data': finished task run for task with final state: 'Success'\n",
      "[2020-04-23 03:11:38,566] INFO - prefect.TaskRunner | Task 'load_data': finished task run for task with final state: 'Success'\n",
      "[2020-04-23 03:11:38,575] INFO - prefect.TaskRunner | Task 'load_data': finished task run for task with final state: 'Success'\n",
      "[2020-04-23 03:11:38,591] INFO - prefect.TaskRunner | Task 'fit_model': Starting task run...\n",
      "[2020-04-23 03:11:38,638] INFO - prefect.TaskRunner | Task 'fit_model[2]': Starting task run...\n",
      "[2020-04-23 03:11:38,664] INFO - prefect.TaskRunner | Task 'fit_model[1]': Starting task run...\n",
      "[2020-04-23 03:11:38,668] INFO - prefect.TaskRunner | Task 'fit_model[4]': Starting task run...\n",
      "[2020-04-23 03:11:38,686] INFO - prefect.TaskRunner | Task 'fit_model[5]': Starting task run...\n",
      "[2020-04-23 03:11:38,688] INFO - prefect.TaskRunner | Task 'fit_model[3]': Starting task run...\n",
      "[2020-04-23 03:11:38,689] INFO - prefect.TaskRunner | Task 'fit_model[0]': Starting task run...\n",
      "[2020-04-23 03:11:38,865] INFO - prefect.TaskRunner | Task 'fit_model[2]': finished task run for task with final state: 'Success'\n",
      "[2020-04-23 03:11:38,967] INFO - prefect.TaskRunner | Task 'fit_model[3]': finished task run for task with final state: 'Success'\n",
      "[2020-04-23 03:11:39,067] INFO - prefect.TaskRunner | Task 'fit_model[6]': Starting task run...\n",
      "[2020-04-23 03:11:39,084] INFO - prefect.TaskRunner | Task 'fit_model[1]': finished task run for task with final state: 'Success'\n",
      "[2020-04-23 03:11:39,102] INFO - prefect.TaskRunner | Task 'fit_model[5]': finished task run for task with final state: 'Success'\n",
      "[2020-04-23 03:11:39,117] INFO - prefect.TaskRunner | Task 'fit_model[0]': finished task run for task with final state: 'Success'\n",
      "[2020-04-23 03:11:39,125] INFO - prefect.TaskRunner | Task 'fit_model[4]': finished task run for task with final state: 'Success'\n"
     ]
    },
    {
     "name": "stderr",
     "output_type": "stream",
     "text": [
      "e:\\projects\\crawto\\.venv\\lib\\site-packages\\sklearn\\ensemble\\_gb.py:1454: DataConversionWarning: A column-vector y was passed when a 1d array was expected. Please change the shape of y to (n_samples, ), for example using ravel().\n",
      "  y = column_or_1d(y, warn=True)\n",
      "e:\\projects\\crawto\\.venv\\lib\\site-packages\\sklearn\\linear_model\\_coordinate_descent.py:474: ConvergenceWarning: Objective did not converge. You might want to increase the number of iterations. Duality gap: 0.0, tolerance: 0.0\n",
      "  model = cd_fast.enet_coordinate_descent(\n",
      "E:\\projects\\crawto\\crawto\\meta_model.py:45: DataConversionWarning: A column-vector y was passed when a 1d array was expected. Please change the shape of y to (n_samples,), for example using ravel().\n",
      "  model.fit(X=train_data, y=target)\n"
     ]
    },
    {
     "name": "stdout",
     "output_type": "stream",
     "text": [
      "[2020-04-23 03:11:39,215] INFO - prefect.TaskRunner | Task 'fit_model[6]': finished task run for task with final state: 'Success'\n",
      "[2020-04-23 03:11:39,226] INFO - prefect.TaskRunner | Task 'fit_model': finished task run for task with final state: 'Mapped'\n",
      "[2020-04-23 03:11:41,231] INFO - prefect.FlowRunner | Flow run SUCCESS: all reference tasks succeeded\n"
     ]
    }
   ],
   "source": [
    "from prefect.engine.executors import DaskExecutor\n",
    "from crawto.meta_model import MetaModel, meta_model_flow\n",
    "meta = MetaModel(\"regression\", TinyDB(\"db.json\"), use_default_models=True)\n",
    "models = meta.models\n",
    "executor = DaskExecutor()\n",
    "meta_model_run = meta_model_flow.run(\n",
    "    train_data = \"transformed_train.df\",\n",
    "    valid_data = \"transformed_valid.df\",\n",
    "    train_target = \"train_target.df\",\n",
    "    problem = \"regression\",\n",
    "    models = models,\n",
    "    tinydb = \"db.json\",\n",
    "    executor = executor,\n",
    ")"
   ]
  },
  {
   "cell_type": "code",
   "execution_count": null,
   "metadata": {},
   "outputs": [],
   "source": [
    "with Flow(\"data_visualization\") as flow:\n",
    "    transformed_train_df = pd.read_feather(\"transformed_train.df\")\n",
    "    transformed_valid_df = pd.read_feather(\"transformed_valid.df\")\n",
    "    svd = fit_svd(transformed_train_df)\n",
    "    svd_train = svd_transform(svd, transformed_train_df, \"transformed_train_df\",tinydb)\n",
    "    svd_valid = svd_transform(svd, transformed_valid_df, \"transformed_valid_df\",tinydb)\n",
    "    "
   ]
  }
 ],
 "metadata": {
  "@webio": {
   "lastCommId": null,
   "lastKernelId": null
  },
  "kernel_info": {
   "name": "python3"
  },
  "kernelspec": {
   "display_name": "Python 3",
   "language": "python",
   "name": "python3"
  },
  "language_info": {
   "codemirror_mode": {
    "name": "ipython",
    "version": 3
   },
   "file_extension": ".py",
   "mimetype": "text/x-python",
   "name": "python",
   "nbconvert_exporter": "python",
   "pygments_lexer": "ipython3",
   "version": "3.8.2"
  },
  "nteract": {
   "version": "0.22.4"
  }
 },
 "nbformat": 4,
 "nbformat_minor": 4
}

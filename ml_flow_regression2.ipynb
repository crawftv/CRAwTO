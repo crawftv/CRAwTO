{
 "cells": [
  {
   "cell_type": "code",
   "execution_count": 1,
   "metadata": {},
   "outputs": [],
   "source": [
    "%load_ext autoreload"
   ]
  },
  {
   "cell_type": "code",
   "execution_count": 2,
   "metadata": {},
   "outputs": [],
   "source": [
    "%autoreload 2"
   ]
  },
  {
   "cell_type": "code",
   "execution_count": 3,
   "metadata": {
    "execution": {
     "iopub.execute_input": "2020-04-11T23:02:42.759Z",
     "iopub.status.busy": "2020-04-11T23:02:42.689Z",
     "iopub.status.idle": "2020-04-11T23:02:52.706Z",
     "shell.execute_reply": "2020-04-11T23:02:52.781Z"
    }
   },
   "outputs": [],
   "source": [
    "from prefect import Flow, Parameter, unmapped\n",
    "import pandas as pd\n",
    "from prefect.engine.executors import DaskExecutor\n",
    "from crawto.ml_flow import data_cleaning_flow\n",
    "from tinydb import TinyDB"
   ]
  },
  {
   "cell_type": "code",
   "execution_count": 4,
   "metadata": {},
   "outputs": [],
   "source": [
    "input_df = pd.read_csv(\"data/house-prices-advanced-regression-techniques/train.csv\")\n",
    "test= pd.read_csv(\"data/house-prices-advanced-regression-techniques/test.csv\")"
   ]
  },
  {
   "cell_type": "code",
   "execution_count": 5,
   "metadata": {
    "scrolled": false
   },
   "outputs": [
    {
     "name": "stdout",
     "output_type": "stream",
     "text": [
      "[2020-04-28 00:13:06,806] INFO - prefect.FlowRunner | Beginning Flow run for 'data_cleaning'\n",
      "[2020-04-28 00:13:06,811] INFO - prefect.FlowRunner | Starting flow run.\n",
      "[2020-04-28 00:13:07,099] INFO - prefect.TaskRunner | Task 'features': Starting task run...\n",
      "[2020-04-28 00:13:07,152] INFO - prefect.TaskRunner | Task 'features': finished task run for task with final state: 'Success'\n",
      "[2020-04-28 00:13:07,327] INFO - prefect.TaskRunner | Task 'input_data': Starting task run...\n",
      "[2020-04-28 00:13:07,335] INFO - prefect.TaskRunner | Task 'problem': Starting task run...\n",
      "[2020-04-28 00:13:07,342] INFO - prefect.TaskRunner | Task 'input_data': finished task run for task with final state: 'Success'\n",
      "[2020-04-28 00:13:07,349] INFO - prefect.TaskRunner | Task 'problem': finished task run for task with final state: 'Success'\n",
      "[2020-04-28 00:13:07,368] INFO - prefect.TaskRunner | Task 'target': Starting task run...\n",
      "[2020-04-28 00:13:07,377] INFO - prefect.TaskRunner | Task 'target': finished task run for task with final state: 'Success'\n",
      "[2020-04-28 00:13:07,411] INFO - prefect.TaskRunner | Task 'extract_problematic_features': Starting task run...\n",
      "[2020-04-28 00:13:07,412] INFO - prefect.TaskRunner | Task 'extract_nan_features': Starting task run...\n",
      "[2020-04-28 00:13:07,419] INFO - prefect.TaskRunner | Task 'extract_problematic_features': finished task run for task with final state: 'Success'\n",
      "[2020-04-28 00:13:07,442] INFO - prefect.TaskRunner | Task 'extract_nan_features': finished task run for task with final state: 'Success'\n",
      "[2020-04-28 00:13:07,464] INFO - prefect.TaskRunner | Task 'extract_undefined_features': Starting task run...\n",
      "[2020-04-28 00:13:07,477] INFO - prefect.TaskRunner | Task 'extract_undefined_features': finished task run for task with final state: 'Success'\n",
      "[2020-04-28 00:13:07,508] INFO - prefect.TaskRunner | Task 'extract_numeric_features': Starting task run...\n",
      "[2020-04-28 00:13:07,522] INFO - prefect.TaskRunner | Task 'fit_transform_missing_indicator': Starting task run...\n",
      "[2020-04-28 00:13:07,532] INFO - prefect.TaskRunner | Task 'extract_categorical_features': Starting task run...\n",
      "[2020-04-28 00:13:07,616] INFO - prefect.TaskRunner | Task 'fit_transform_missing_indicator': finished task run for task with final state: 'Success'\n",
      "[2020-04-28 00:13:07,631] INFO - prefect.TaskRunner | Task 'extract_numeric_features': finished task run for task with final state: 'Success'\n",
      "[2020-04-28 00:13:07,653] INFO - prefect.TaskRunner | Task 'extract_categorical_features': finished task run for task with final state: 'Success'\n",
      "[2020-04-28 00:13:07,672] INFO - prefect.TaskRunner | Task 'extract_train_valid_split': Starting task run...\n",
      "[2020-04-28 00:13:07,681] INFO - prefect.TaskRunner | Task 'extract_train_valid_split': finished task run for task with final state: 'Success'\n",
      "[2020-04-28 00:13:07,715] INFO - prefect.TaskRunner | Task 'extract_train_data': Starting task run...\n",
      "[2020-04-28 00:13:07,716] INFO - prefect.TaskRunner | Task 'extract_valid_data': Starting task run...\n",
      "[2020-04-28 00:13:07,730] INFO - prefect.TaskRunner | Task 'extract_train_data': finished task run for task with final state: 'Success'\n",
      "[2020-04-28 00:13:07,731] INFO - prefect.TaskRunner | Task 'extract_valid_data': finished task run for task with final state: 'Success'\n",
      "[2020-04-28 00:13:07,808] INFO - prefect.TaskRunner | Task 'fit_categorical_imputer': Starting task run...\n",
      "[2020-04-28 00:13:07,814] INFO - prefect.TaskRunner | Task 'fit_numeric_imputer': Starting task run...\n",
      "[2020-04-28 00:13:07,829] INFO - prefect.TaskRunner | Task 'fit_target_transformer': Starting task run...\n",
      "[2020-04-28 00:13:07,848] INFO - prefect.TaskRunner | Task 'fit_numeric_imputer': finished task run for task with final state: 'Success'\n",
      "[2020-04-28 00:13:07,909] INFO - prefect.TaskRunner | Task 'impute_numeric_df': Starting task run...\n",
      "[2020-04-28 00:13:07,915] INFO - prefect.TaskRunner | Task 'impute_numeric_df': Starting task run...\n",
      "[2020-04-28 00:13:07,927] INFO - prefect.TaskRunner | Task 'impute_numeric_df': finished task run for task with final state: 'Success'\n",
      "[2020-04-28 00:13:07,934] INFO - prefect.TaskRunner | Task 'fit_categorical_imputer': finished task run for task with final state: 'Success'\n",
      "[2020-04-28 00:13:07,945] INFO - prefect.TaskRunner | Task 'impute_numeric_df': finished task run for task with final state: 'Success'\n",
      "[2020-04-28 00:13:07,970] INFO - prefect.TaskRunner | Task 'transform_categorical_data': Starting task run...\n",
      "[2020-04-28 00:13:07,987] INFO - prefect.TaskRunner | Task 'transform_categorical_data': Starting task run...\n",
      "[2020-04-28 00:13:08,011] INFO - prefect.TaskRunner | Task 'fit_yeo_johnson_transformer': Starting task run...\n",
      "[2020-04-28 00:13:08,022] INFO - prefect.TaskRunner | Task 'transform_categorical_data': finished task run for task with final state: 'Success'\n",
      "[2020-04-28 00:13:08,040] INFO - prefect.TaskRunner | Task 'transform_categorical_data': finished task run for task with final state: 'Success'\n"
     ]
    },
    {
     "name": "stderr",
     "output_type": "stream",
     "text": [
      "e:\\projects\\crawto\\.venv\\lib\\site-packages\\sklearn\\preprocessing\\_data.py:2982: RuntimeWarning: divide by zero encountered in log\n",
      "  loglike = -n_samples / 2 * np.log(x_trans.var())\n",
      "e:\\projects\\crawto\\.venv\\lib\\site-packages\\sklearn\\preprocessing\\_data.py:2982: RuntimeWarning: divide by zero encountered in log\n",
      "  loglike = -n_samples / 2 * np.log(x_trans.var())\n",
      "e:\\projects\\crawto\\.venv\\lib\\site-packages\\sklearn\\preprocessing\\_data.py:2982: RuntimeWarning: divide by zero encountered in log\n",
      "  loglike = -n_samples / 2 * np.log(x_trans.var())\n",
      "e:\\projects\\crawto\\.venv\\lib\\site-packages\\sklearn\\preprocessing\\_data.py:2982: RuntimeWarning: divide by zero encountered in log\n",
      "  loglike = -n_samples / 2 * np.log(x_trans.var())\n"
     ]
    },
    {
     "name": "stdout",
     "output_type": "stream",
     "text": [
      "[2020-04-28 00:13:08,054] INFO - prefect.TaskRunner | Task 'fit_target_transformer': finished task run for task with final state: 'Success'\n",
      "[2020-04-28 00:13:08,085] INFO - prefect.TaskRunner | Task 'transform_target': Starting task run...\n",
      "[2020-04-28 00:13:08,088] INFO - prefect.TaskRunner | Task 'transform_target': Starting task run...\n",
      "[2020-04-28 00:13:08,095] INFO - prefect.TaskRunner | Task 'transform_target': finished task run for task with final state: 'Success'\n",
      "[2020-04-28 00:13:08,103] INFO - prefect.TaskRunner | Task 'transform_target': finished task run for task with final state: 'Success'\n",
      "[2020-04-28 00:13:08,124] INFO - prefect.TaskRunner | Task 'save_data': Starting task run...\n",
      "[2020-04-28 00:13:08,159] INFO - prefect.TaskRunner | Task 'save_data': Starting task run...\n",
      "[2020-04-28 00:13:08,160] INFO - prefect.TaskRunner | Task 'fit_target_encoder': Starting task run...\n"
     ]
    },
    {
     "name": "stderr",
     "output_type": "stream",
     "text": [
      "e:\\projects\\crawto\\.venv\\lib\\site-packages\\sklearn\\preprocessing\\_data.py:2982: RuntimeWarning: divide by zero encountered in log\n",
      "  loglike = -n_samples / 2 * np.log(x_trans.var())\n",
      "e:\\projects\\crawto\\.venv\\lib\\site-packages\\sklearn\\preprocessing\\_data.py:2982: RuntimeWarning: divide by zero encountered in log\n",
      "  loglike = -n_samples / 2 * np.log(x_trans.var())\n"
     ]
    },
    {
     "name": "stdout",
     "output_type": "stream",
     "text": [
      "[2020-04-28 00:13:08,250] INFO - prefect.TaskRunner | Task 'save_data': finished task run for task with final state: 'Success'\n",
      "[2020-04-28 00:13:08,268] INFO - prefect.TaskRunner | Task 'save_data': finished task run for task with final state: 'Success'\n",
      "[2020-04-28 00:13:08,904] INFO - prefect.TaskRunner | Task 'fit_target_encoder': finished task run for task with final state: 'Success'\n",
      "[2020-04-28 00:13:08,928] INFO - prefect.TaskRunner | Task 'target_encoder_transform': Starting task run...\n",
      "[2020-04-28 00:13:08,940] INFO - prefect.TaskRunner | Task 'target_encoder_transform': Starting task run...\n",
      "[2020-04-28 00:13:09,071] INFO - prefect.TaskRunner | Task 'fit_yeo_johnson_transformer': finished task run for task with final state: 'Success'\n",
      "[2020-04-28 00:13:09,115] INFO - prefect.TaskRunner | Task 'transform_yeo_johnson_transformer': Starting task run...\n",
      "[2020-04-28 00:13:09,121] INFO - prefect.TaskRunner | Task 'transform_yeo_johnson_transformer': Starting task run...\n",
      "[2020-04-28 00:13:09,136] INFO - prefect.TaskRunner | Task 'transform_yeo_johnson_transformer': finished task run for task with final state: 'Success'\n",
      "[2020-04-28 00:13:09,166] INFO - prefect.TaskRunner | Task 'transform_yeo_johnson_transformer': finished task run for task with final state: 'Success'\n",
      "[2020-04-28 00:13:09,201] INFO - prefect.TaskRunner | Task 'target_encoder_transform': finished task run for task with final state: 'Success'\n",
      "[2020-04-28 00:13:09,223] INFO - prefect.TaskRunner | Task 'merge_transformed_data': Starting task run...\n",
      "[2020-04-28 00:13:09,237] INFO - prefect.TaskRunner | Task 'merge_transformed_data': finished task run for task with final state: 'Success'\n",
      "[2020-04-28 00:13:09,254] INFO - prefect.TaskRunner | Task 'target_encoder_transform': finished task run for task with final state: 'Success'\n",
      "[2020-04-28 00:13:09,272] INFO - prefect.TaskRunner | Task 'merge_transformed_data': Starting task run...\n",
      "[2020-04-28 00:13:09,281] INFO - prefect.TaskRunner | Task 'merge_transformed_data': finished task run for task with final state: 'Success'\n",
      "[2020-04-28 00:13:09,299] INFO - prefect.TaskRunner | Task 'fit_hbos_transformer': Starting task run...\n",
      "[2020-04-28 00:13:10,693] INFO - prefect.TaskRunner | Task 'fit_hbos_transformer': finished task run for task with final state: 'Success'\n",
      "[2020-04-28 00:13:10,728] INFO - prefect.TaskRunner | Task 'hbos_transform': Starting task run...\n",
      "[2020-04-28 00:13:10,728] INFO - prefect.TaskRunner | Task 'hbos_transform': Starting task run...\n",
      "[2020-04-28 00:13:10,737] INFO - prefect.TaskRunner | Task 'hbos_transform': finished task run for task with final state: 'Success'\n",
      "[2020-04-28 00:13:10,746] INFO - prefect.TaskRunner | Task 'hbos_transform': finished task run for task with final state: 'Success'\n",
      "[2020-04-28 00:13:10,771] INFO - prefect.TaskRunner | Task 'merge_hbos_df': Starting task run...\n",
      "[2020-04-28 00:13:10,791] INFO - prefect.TaskRunner | Task 'merge_hbos_df': Starting task run...\n",
      "[2020-04-28 00:13:10,792] INFO - prefect.TaskRunner | Task 'merge_hbos_df': finished task run for task with final state: 'Success'\n",
      "[2020-04-28 00:13:10,802] INFO - prefect.TaskRunner | Task 'merge_hbos_df': finished task run for task with final state: 'Success'\n",
      "[2020-04-28 00:13:10,834] INFO - prefect.TaskRunner | Task 'save_data': Starting task run...\n",
      "[2020-04-28 00:13:10,837] INFO - prefect.TaskRunner | Task 'save_data': Starting task run...\n",
      "[2020-04-28 00:13:10,895] INFO - prefect.TaskRunner | Task 'save_data': finished task run for task with final state: 'Success'\n",
      "[2020-04-28 00:13:10,929] INFO - prefect.TaskRunner | Task 'save_data': finished task run for task with final state: 'Success'\n",
      "[2020-04-28 00:13:12,920] INFO - prefect.FlowRunner | Flow run SUCCESS: all reference tasks succeeded\n"
     ]
    }
   ],
   "source": [
    "executor = DaskExecutor()\n",
    "data_cleaner = data_cleaning_flow.run(\n",
    "    input_data=input_df,\n",
    "    problem=\"regression\",\n",
    "    target=\"SalePrice\",\n",
    "    features=\"infer\",\n",
    "    executor=executor,\n",
    "    #db = \"crawto.db\"\n",
    ")"
   ]
  },
  {
   "cell_type": "code",
   "execution_count": 7,
   "metadata": {
    "scrolled": false
   },
   "outputs": [
    {
     "name": "stdout",
     "output_type": "stream",
     "text": [
      "[2020-04-28 00:17:57,939] INFO - prefect.FlowRunner | Beginning Flow run for 'meta_model_flow'\n",
      "[2020-04-28 00:17:57,943] INFO - prefect.FlowRunner | Starting flow run.\n",
      "[2020-04-28 00:17:58,065] INFO - prefect.TaskRunner | Task 'db': Starting task run...\n",
      "[2020-04-28 00:17:58,080] INFO - prefect.TaskRunner | Task 'train_data': Starting task run...\n",
      "[2020-04-28 00:17:58,084] INFO - prefect.TaskRunner | Task 'valid_target': Starting task run...\n",
      "[2020-04-28 00:17:58,086] INFO - prefect.TaskRunner | Task 'db': finished task run for task with final state: 'Success'\n",
      "[2020-04-28 00:17:58,098] INFO - prefect.TaskRunner | Task 'train_data': finished task run for task with final state: 'Success'\n",
      "[2020-04-28 00:17:58,113] INFO - prefect.TaskRunner | Task 'train_target': Starting task run...\n",
      "[2020-04-28 00:17:58,125] INFO - prefect.TaskRunner | Task 'valid_target': finished task run for task with final state: 'Success'\n",
      "[2020-04-28 00:17:58,128] INFO - prefect.TaskRunner | Task 'valid_data': Starting task run...\n",
      "[2020-04-28 00:17:58,145] INFO - prefect.TaskRunner | Task 'get_models': Starting task run...\n",
      "[2020-04-28 00:17:58,153] INFO - prefect.TaskRunner | Task 'train_target': finished task run for task with final state: 'Success'\n",
      "[2020-04-28 00:17:58,175] INFO - prefect.TaskRunner | Task 'valid_data': finished task run for task with final state: 'Success'\n",
      "[2020-04-28 00:17:58,180] INFO - prefect.TaskRunner | Task 'load_data': Starting task run...\n",
      "[2020-04-28 00:17:58,194] INFO - prefect.TaskRunner | Task 'load_data': Starting task run...\n",
      "[2020-04-28 00:17:58,209] INFO - prefect.TaskRunner | Task 'get_models': finished task run for task with final state: 'Success'\n",
      "[2020-04-28 00:17:58,217] INFO - prefect.TaskRunner | Task 'load_data': Starting task run...\n",
      "[2020-04-28 00:17:58,231] INFO - prefect.TaskRunner | Task 'load_data': finished task run for task with final state: 'Success'\n",
      "[2020-04-28 00:17:58,244] INFO - prefect.TaskRunner | Task 'load_data': Starting task run...\n",
      "[2020-04-28 00:17:58,254] INFO - prefect.TaskRunner | Task 'load_data': finished task run for task with final state: 'Success'\n",
      "[2020-04-28 00:17:58,276] INFO - prefect.TaskRunner | Task 'load_data': finished task run for task with final state: 'Success'\n",
      "[2020-04-28 00:17:58,286] INFO - prefect.TaskRunner | Task 'load_data': finished task run for task with final state: 'Success'\n",
      "[2020-04-28 00:17:58,299] INFO - prefect.TaskRunner | Task 'fit_model': Starting task run...\n",
      "[2020-04-28 00:17:58,350] INFO - prefect.TaskRunner | Task 'fit_model[1]': Starting task run...\n",
      "[2020-04-28 00:17:58,375] INFO - prefect.TaskRunner | Task 'fit_model[3]': Starting task run...\n",
      "[2020-04-28 00:17:58,383] INFO - prefect.TaskRunner | Task 'fit_model[0]': Starting task run...\n",
      "[2020-04-28 00:17:58,384] INFO - prefect.TaskRunner | Task 'fit_model[2]': Starting task run...\n",
      "[2020-04-28 00:17:58,389] INFO - prefect.TaskRunner | Task 'fit_model[4]': Starting task run...\n",
      "[2020-04-28 00:17:58,405] INFO - prefect.TaskRunner | Task 'fit_model[5]': Starting task run...\n",
      "[2020-04-28 00:17:58,469] INFO - prefect.TaskRunner | Task 'fit_model[0]': finished task run for task with final state: 'Success'\n",
      "[2020-04-28 00:17:58,535] INFO - prefect.TaskRunner | Task 'fit_model[1]': finished task run for task with final state: 'Success'\n"
     ]
    },
    {
     "name": "stderr",
     "output_type": "stream",
     "text": [
      "e:\\projects\\crawto\\.venv\\lib\\site-packages\\sklearn\\ensemble\\_gb.py:1454: DataConversionWarning: A column-vector y was passed when a 1d array was expected. Please change the shape of y to (n_samples, ), for example using ravel().\n",
      "  y = column_or_1d(y, warn=True)\n",
      "E:\\projects\\crawto\\crawto\\meta_model.py:120: DataConversionWarning: A column-vector y was passed when a 1d array was expected. Please change the shape of y to (n_samples,), for example using ravel().\n",
      "  model = model.fit(X=train_data, y=target)\n",
      "e:\\projects\\crawto\\.venv\\lib\\site-packages\\sklearn\\linear_model\\_coordinate_descent.py:474: ConvergenceWarning: Objective did not converge. You might want to increase the number of iterations. Duality gap: 0.0, tolerance: 0.0\n",
      "  model = cd_fast.enet_coordinate_descent(\n"
     ]
    },
    {
     "name": "stdout",
     "output_type": "stream",
     "text": [
      "[2020-04-28 00:17:58,600] INFO - prefect.TaskRunner | Task 'fit_model[3]': finished task run for task with final state: 'Success'\n",
      "[2020-04-28 00:17:58,653] INFO - prefect.TaskRunner | Task 'fit_model[4]': finished task run for task with final state: 'Success'\n",
      "[2020-04-28 00:17:58,719] INFO - prefect.TaskRunner | Task 'fit_model[2]': finished task run for task with final state: 'Success'\n",
      "[2020-04-28 00:17:58,785] INFO - prefect.TaskRunner | Task 'fit_model[5]': finished task run for task with final state: 'Success'\n",
      "[2020-04-28 00:17:58,799] INFO - prefect.TaskRunner | Task 'fit_model': finished task run for task with final state: 'Mapped'\n",
      "[2020-04-28 00:17:58,818] INFO - prefect.TaskRunner | Task 'predict_model': Starting task run...\n",
      "[2020-04-28 00:17:58,871] INFO - prefect.TaskRunner | Task 'predict_model[0]': Starting task run...\n",
      "[2020-04-28 00:17:58,906] INFO - prefect.TaskRunner | Task 'predict_model[3]': Starting task run...\n",
      "[2020-04-28 00:17:58,913] INFO - prefect.TaskRunner | Task 'predict_model[2]': Starting task run...\n",
      "[2020-04-28 00:17:58,920] INFO - prefect.TaskRunner | Task 'predict_model[5]': Starting task run...\n",
      "[2020-04-28 00:17:58,921] INFO - prefect.TaskRunner | Task 'predict_model[4]': Starting task run...\n",
      "[2020-04-28 00:17:58,928] INFO - prefect.TaskRunner | Task 'predict_model[1]': Starting task run...\n",
      "[2020-04-28 00:17:58,948] INFO - prefect.TaskRunner | Task 'predict_model[3]': finished task run for task with final state: 'Success'\n",
      "[2020-04-28 00:17:58,965] INFO - prefect.TaskRunner | Task 'predict_model[0]': finished task run for task with final state: 'Success'\n",
      "[2020-04-28 00:17:58,971] INFO - prefect.TaskRunner | Task 'predict_model[2]': finished task run for task with final state: 'Success'\n",
      "[2020-04-28 00:17:58,978] INFO - prefect.TaskRunner | Task 'predict_model[5]': finished task run for task with final state: 'Success'\n",
      "[2020-04-28 00:17:58,994] INFO - prefect.TaskRunner | Task 'predict_model[1]': finished task run for task with final state: 'Success'\n",
      "[2020-04-28 00:17:59,013] INFO - prefect.TaskRunner | Task 'predict_model[4]': finished task run for task with final state: 'Success'\n",
      "[2020-04-28 00:17:59,025] INFO - prefect.TaskRunner | Task 'predict_model': finished task run for task with final state: 'Mapped'\n",
      "[2020-04-28 00:18:01,072] INFO - prefect.FlowRunner | Flow run SUCCESS: all reference tasks succeeded\n"
     ]
    }
   ],
   "source": [
    "import sqlite3\n",
    "sqlite3.connect(\"crawto.db\").execute(\"Drop Table models\")\n",
    "from prefect.engine.executors import DaskExecutor\n",
    "from crawto.meta_model import MetaModel, meta_model_flow\n",
    "meta = MetaModel(problem=\"regression\", db=\"crawto.db\", use_default_models=True)\n",
    "models = meta.models\n",
    "executor = DaskExecutor()\n",
    "meta_model_run = meta_model_flow.run(\n",
    "    train_data = \"transformed_train.df\",\n",
    "    valid_data = \"transformed_valid.df\",\n",
    "    train_target = \"train_target.df\",\n",
    "    valid_target=\"valid_target.df\",\n",
    "    db=\"crawto.db\",\n",
    "    executor=executor,\n",
    ")"
   ]
  },
  {
   "cell_type": "code",
   "execution_count": null,
   "metadata": {},
   "outputs": [],
   "source": [
    "with Flow(\"data_visualization\") as flow:\n",
    "    transformed_train_df = pd.read_feather(\"transformed_train.df\")\n",
    "    transformed_valid_df = pd.read_feather(\"transformed_valid.df\")\n",
    "    svd = fit_svd(transformed_train_df)\n",
    "    svd_train = svd_transform(svd, transformed_train_df, \"transformed_train_df\",tinydb)\n",
    "    svd_valid = svd_transform(svd, transformed_valid_df, \"transformed_valid_df\",tinydb)\n",
    "    "
   ]
  }
 ],
 "metadata": {
  "@webio": {
   "lastCommId": null,
   "lastKernelId": null
  },
  "kernel_info": {
   "name": "python3"
  },
  "kernelspec": {
   "display_name": "Python 3",
   "language": "python",
   "name": "python3"
  },
  "language_info": {
   "codemirror_mode": {
    "name": "ipython",
    "version": 3
   },
   "file_extension": ".py",
   "mimetype": "text/x-python",
   "name": "python",
   "nbconvert_exporter": "python",
   "pygments_lexer": "ipython3",
   "version": "3.8.2"
  },
  "nteract": {
   "version": "0.22.4"
  }
 },
 "nbformat": 4,
 "nbformat_minor": 4
}

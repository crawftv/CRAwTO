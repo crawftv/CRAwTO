{
 "cells": [
  {
   "cell_type": "code",
   "execution_count": 1,
   "metadata": {},
   "outputs": [],
   "source": [
    "import pandas as pd"
   ]
  },
  {
   "cell_type": "code",
   "execution_count": 28,
   "metadata": {},
   "outputs": [],
   "source": [
    "df = pd.read_csv(\"data/time-series/WMT_2006-01-01_to_2018-01-01.csv\",index_col=\"Date\")"
   ]
  },
  {
   "cell_type": "code",
   "execution_count": 29,
   "metadata": {},
   "outputs": [
    {
     "data": {
      "text/html": [
       "<div>\n",
       "<style scoped>\n",
       "    .dataframe tbody tr th:only-of-type {\n",
       "        vertical-align: middle;\n",
       "    }\n",
       "\n",
       "    .dataframe tbody tr th {\n",
       "        vertical-align: top;\n",
       "    }\n",
       "\n",
       "    .dataframe thead th {\n",
       "        text-align: right;\n",
       "    }\n",
       "</style>\n",
       "<table border=\"1\" class=\"dataframe\">\n",
       "  <thead>\n",
       "    <tr style=\"text-align: right;\">\n",
       "      <th></th>\n",
       "      <th>Open</th>\n",
       "      <th>High</th>\n",
       "      <th>Low</th>\n",
       "      <th>Close</th>\n",
       "      <th>Volume</th>\n",
       "      <th>Name</th>\n",
       "    </tr>\n",
       "    <tr>\n",
       "      <th>Date</th>\n",
       "      <th></th>\n",
       "      <th></th>\n",
       "      <th></th>\n",
       "      <th></th>\n",
       "      <th></th>\n",
       "      <th></th>\n",
       "    </tr>\n",
       "  </thead>\n",
       "  <tbody>\n",
       "    <tr>\n",
       "      <th>2006-01-03</th>\n",
       "      <td>46.36</td>\n",
       "      <td>46.66</td>\n",
       "      <td>45.57</td>\n",
       "      <td>46.23</td>\n",
       "      <td>23413900</td>\n",
       "      <td>WMT</td>\n",
       "    </tr>\n",
       "    <tr>\n",
       "      <th>2006-01-04</th>\n",
       "      <td>46.24</td>\n",
       "      <td>46.50</td>\n",
       "      <td>46.10</td>\n",
       "      <td>46.32</td>\n",
       "      <td>14090700</td>\n",
       "      <td>WMT</td>\n",
       "    </tr>\n",
       "    <tr>\n",
       "      <th>2006-01-05</th>\n",
       "      <td>46.00</td>\n",
       "      <td>46.40</td>\n",
       "      <td>45.29</td>\n",
       "      <td>45.69</td>\n",
       "      <td>20759200</td>\n",
       "      <td>WMT</td>\n",
       "    </tr>\n",
       "    <tr>\n",
       "      <th>2006-01-06</th>\n",
       "      <td>45.69</td>\n",
       "      <td>45.88</td>\n",
       "      <td>45.10</td>\n",
       "      <td>45.88</td>\n",
       "      <td>21135000</td>\n",
       "      <td>WMT</td>\n",
       "    </tr>\n",
       "    <tr>\n",
       "      <th>2006-01-09</th>\n",
       "      <td>45.89</td>\n",
       "      <td>46.15</td>\n",
       "      <td>45.56</td>\n",
       "      <td>45.71</td>\n",
       "      <td>14890700</td>\n",
       "      <td>WMT</td>\n",
       "    </tr>\n",
       "    <tr>\n",
       "      <th>...</th>\n",
       "      <td>...</td>\n",
       "      <td>...</td>\n",
       "      <td>...</td>\n",
       "      <td>...</td>\n",
       "      <td>...</td>\n",
       "      <td>...</td>\n",
       "    </tr>\n",
       "    <tr>\n",
       "      <th>2017-12-22</th>\n",
       "      <td>98.29</td>\n",
       "      <td>98.42</td>\n",
       "      <td>97.68</td>\n",
       "      <td>98.21</td>\n",
       "      <td>5478682</td>\n",
       "      <td>WMT</td>\n",
       "    </tr>\n",
       "    <tr>\n",
       "      <th>2017-12-26</th>\n",
       "      <td>98.35</td>\n",
       "      <td>99.44</td>\n",
       "      <td>98.35</td>\n",
       "      <td>99.16</td>\n",
       "      <td>4295891</td>\n",
       "      <td>WMT</td>\n",
       "    </tr>\n",
       "    <tr>\n",
       "      <th>2017-12-27</th>\n",
       "      <td>99.56</td>\n",
       "      <td>99.60</td>\n",
       "      <td>98.83</td>\n",
       "      <td>99.26</td>\n",
       "      <td>5140793</td>\n",
       "      <td>WMT</td>\n",
       "    </tr>\n",
       "    <tr>\n",
       "      <th>2017-12-28</th>\n",
       "      <td>99.52</td>\n",
       "      <td>99.62</td>\n",
       "      <td>99.12</td>\n",
       "      <td>99.40</td>\n",
       "      <td>9763936</td>\n",
       "      <td>WMT</td>\n",
       "    </tr>\n",
       "    <tr>\n",
       "      <th>2017-12-29</th>\n",
       "      <td>99.40</td>\n",
       "      <td>99.69</td>\n",
       "      <td>98.75</td>\n",
       "      <td>98.75</td>\n",
       "      <td>7144273</td>\n",
       "      <td>WMT</td>\n",
       "    </tr>\n",
       "  </tbody>\n",
       "</table>\n",
       "<p>3020 rows × 6 columns</p>\n",
       "</div>"
      ],
      "text/plain": [
       "             Open   High    Low  Close    Volume Name\n",
       "Date                                                 \n",
       "2006-01-03  46.36  46.66  45.57  46.23  23413900  WMT\n",
       "2006-01-04  46.24  46.50  46.10  46.32  14090700  WMT\n",
       "2006-01-05  46.00  46.40  45.29  45.69  20759200  WMT\n",
       "2006-01-06  45.69  45.88  45.10  45.88  21135000  WMT\n",
       "2006-01-09  45.89  46.15  45.56  45.71  14890700  WMT\n",
       "...           ...    ...    ...    ...       ...  ...\n",
       "2017-12-22  98.29  98.42  97.68  98.21   5478682  WMT\n",
       "2017-12-26  98.35  99.44  98.35  99.16   4295891  WMT\n",
       "2017-12-27  99.56  99.60  98.83  99.26   5140793  WMT\n",
       "2017-12-28  99.52  99.62  99.12  99.40   9763936  WMT\n",
       "2017-12-29  99.40  99.69  98.75  98.75   7144273  WMT\n",
       "\n",
       "[3020 rows x 6 columns]"
      ]
     },
     "execution_count": 29,
     "metadata": {},
     "output_type": "execute_result"
    }
   ],
   "source": [
    "df"
   ]
  },
  {
   "cell_type": "markdown",
   "metadata": {},
   "source": [
    "## Analysis"
   ]
  },
  {
   "cell_type": "code",
   "execution_count": 34,
   "metadata": {},
   "outputs": [],
   "source": [
    "train = df[0:2500]\n",
    "test = df[2500:]\n",
    "y_train =train[\"Close\"]\n",
    "y_test= test[\"Close\"]"
   ]
  },
  {
   "cell_type": "markdown",
   "metadata": {},
   "source": [
    "## 1. Naive Random Walk"
   ]
  },
  {
   "cell_type": "markdown",
   "metadata": {},
   "source": [
    "## 2. Naive Seasonal"
   ]
  },
  {
   "cell_type": "markdown",
   "metadata": {},
   "source": [
    "## 3.  Simple Exponential Smoothing"
   ]
  },
  {
   "cell_type": "code",
   "execution_count": 35,
   "metadata": {},
   "outputs": [],
   "source": [
    "from statsmodels.tsa.holtwinters import SimpleExpSmoothing\n",
    "import matplotlib.pyplot as plt"
   ]
  },
  {
   "cell_type": "code",
   "execution_count": 36,
   "metadata": {},
   "outputs": [
    {
     "name": "stderr",
     "output_type": "stream",
     "text": [
      "/home/cwcollins/.local/share/virtualenvs/crawto-LwgXxa6A/lib/python3.6/site-packages/statsmodels/tsa/base/tsa_model.py:219: ValueWarning: A date index has been provided, but it has no associated frequency information and so will be ignored when e.g. forecasting.\n",
      "  if date_index and not is_monotonic:\n",
      "/home/cwcollins/.local/share/virtualenvs/crawto-LwgXxa6A/lib/python3.6/site-packages/statsmodels/tsa/base/tsa_model.py:576: ValueWarning: No supported index is available. Prediction results will be given with an integer index beginning at `start`.\n",
      "  prediction_index = self.data.row_labels[start:end + 1]\n",
      "/home/cwcollins/.local/share/virtualenvs/crawto-LwgXxa6A/lib/python3.6/site-packages/statsmodels/tsa/base/tsa_model.py:219: ValueWarning: A date index has been provided, but it has no associated frequency information and so will be ignored when e.g. forecasting.\n",
      "  if date_index and not is_monotonic:\n",
      "/home/cwcollins/.local/share/virtualenvs/crawto-LwgXxa6A/lib/python3.6/site-packages/statsmodels/tsa/base/tsa_model.py:576: ValueWarning: No supported index is available. Prediction results will be given with an integer index beginning at `start`.\n",
      "  prediction_index = self.data.row_labels[start:end + 1]\n",
      "/home/cwcollins/.local/share/virtualenvs/crawto-LwgXxa6A/lib/python3.6/site-packages/statsmodels/tsa/base/tsa_model.py:219: ValueWarning: A date index has been provided, but it has no associated frequency information and so will be ignored when e.g. forecasting.\n",
      "  if date_index and not is_monotonic:\n",
      "/home/cwcollins/.local/share/virtualenvs/crawto-LwgXxa6A/lib/python3.6/site-packages/statsmodels/tsa/base/tsa_model.py:576: ValueWarning: No supported index is available. Prediction results will be given with an integer index beginning at `start`.\n",
      "  prediction_index = self.data.row_labels[start:end + 1]\n"
     ]
    },
    {
     "data": {
      "image/png": "[encoded data removed]",
      "text/plain": [
       "<Figure size 864x576 with 1 Axes>"
      ]
     },
     "metadata": {
      "needs_background": "light"
     },
     "output_type": "display_data"
    }
   ],
   "source": [
    "fit1 = SimpleExpSmoothing(y_train).fit(smoothing_level=0.2,optimized=False)\n",
    "fcast1 = fit1.forecast(3).rename(r'$\\alpha=0.2$')\n",
    "fit2 = SimpleExpSmoothing(y_train).fit(smoothing_level=0.6,optimized=False)\n",
    "fcast2 = fit2.forecast(3).rename(r'$\\alpha=0.6$')\n",
    "fit3 = SimpleExpSmoothing(y_train).fit()\n",
    "fcast3 = fit3.forecast(3).rename(r'$\\alpha=%s$'%fit3.model.params['smoothing_level'])\n",
    "\n",
    "ax = y_train.plot(marker='o', color='black', figsize=(12,8))\n",
    "fcast1.plot(marker='o', ax=ax, color='blue', legend=True)\n",
    "fit1.fittedvalues.plot(marker='o', ax=ax, color='blue')\n",
    "fcast2.plot(marker='o', ax=ax, color='red', legend=True)\n",
    "\n",
    "fit2.fittedvalues.plot(marker='o', ax=ax, color='red')\n",
    "fcast3.plot(marker='o', ax=ax, color='green', legend=True)\n",
    "fit3.fittedvalues.plot(marker='o', ax=ax, color='green')\n",
    "\n",
    "y_test.plot()\n",
    "plt.show()\n",
    "\n"
   ]
  },
  {
   "cell_type": "markdown",
   "metadata": {},
   "source": [
    "## 4. Moving Averages"
   ]
  },
  {
   "cell_type": "markdown",
   "metadata": {},
   "source": [
    "## 5. Croston's Method"
   ]
  },
  {
   "cell_type": "markdown",
   "metadata": {},
   "source": [
    "## 6. Optimized Croston’s method"
   ]
  },
  {
   "cell_type": "markdown",
   "metadata": {},
   "source": [
    "## 7. Syntetos-Boylan Approximation"
   ]
  },
  {
   "cell_type": "markdown",
   "metadata": {},
   "source": [
    "## 8.Teunter-Syntetos-Babaimethod"
   ]
  },
  {
   "cell_type": "markdown",
   "metadata": {},
   "source": [
    "## 9. Aggregate-Disaggregate Intermittent Demand Approach"
   ]
  },
  {
   "cell_type": "markdown",
   "metadata": {},
   "source": [
    "## 10. Intermittent Multiple Aggregation Prediction Algorithm"
   ]
  },
  {
   "cell_type": "code",
   "execution_count": 5,
   "metadata": {},
   "outputs": [],
   "source": [
    "from prefect import task, Flow"
   ]
  },
  {
   "cell_type": "code",
   "execution_count": null,
   "metadata": {},
   "outputs": [],
   "source": []
  }
 ],
 "metadata": {
  "kernelspec": {
   "display_name": "Python 3",
   "language": "python",
   "name": "python3"
  },
  "language_info": {
   "codemirror_mode": {
    "name": "ipython",
    "version": 3
   },
   "file_extension": ".py",
   "mimetype": "text/x-python",
   "name": "python",
   "nbconvert_exporter": "python",
   "pygments_lexer": "ipython3",
   "version": "3.6.7"
  }
 },
 "nbformat": 4,
 "nbformat_minor": 2
}

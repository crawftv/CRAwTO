{
 "cells": [
  {
   "cell_type": "code",
   "execution_count": 1,
   "metadata": {},
   "outputs": [],
   "source": [
    "s = \"def greeting(name: str) -> str: \\\n",
    "    return 'Hello ' + name \""
   ]
  },
  {
   "cell_type": "code",
   "execution_count": 2,
   "metadata": {},
   "outputs": [],
   "source": [
    "import astor,ast"
   ]
  },
  {
   "cell_type": "code",
   "execution_count": 3,
   "metadata": {},
   "outputs": [],
   "source": [
    "a = ast.parse(s)"
   ]
  },
  {
   "cell_type": "code",
   "execution_count": 4,
   "metadata": {},
   "outputs": [],
   "source": [
    "#!pipenv install typed-ast"
   ]
  },
  {
   "cell_type": "code",
   "execution_count": 5,
   "metadata": {},
   "outputs": [],
   "source": [
    "from typed_ast import ast3"
   ]
  },
  {
   "cell_type": "code",
   "execution_count": 6,
   "metadata": {},
   "outputs": [],
   "source": [
    "a = ast3.parse(s)"
   ]
  },
  {
   "cell_type": "code",
   "execution_count": 7,
   "metadata": {},
   "outputs": [
    {
     "data": {
      "text/plain": [
       "<typed_ast._ast3.Module at 0x7f34700c1c88>"
      ]
     },
     "execution_count": 7,
     "metadata": {},
     "output_type": "execute_result"
    }
   ],
   "source": [
    "a"
   ]
  },
  {
   "cell_type": "code",
   "execution_count": 8,
   "metadata": {},
   "outputs": [],
   "source": [
    "hypothesis_mappings = {\"str\": {\"decorator\":\"@given(text())\",\"hypothesis_test\":\"s\"}}\n",
    "\n",
    "def make_test(a):\n",
    "    for i in a.body:\n",
    "        name = i.name\n",
    "        r = i.returns.id\n",
    "        args = [ x.arg for x in i.args.args]\n",
    "        args = \", \".join(args)\n",
    "        hypothesis_test = hypothesis_mappings[r][\"hypothesis_test\"]\n",
    "        t = hypothesis_mappings[r][\"decorator\"]+\"\\n\"\n",
    "        t += f'def test_{name}({hypothesis_test}):\\n'\n",
    "        t +=f'    assert type({name}({hypothesis_test})) is {r}'\n",
    "        return t"
   ]
  },
  {
   "cell_type": "code",
   "execution_count": 9,
   "metadata": {},
   "outputs": [
    {
     "name": "stdout",
     "output_type": "stream",
     "text": [
      "@given(text())\n",
      "def test_greeting(s):\n",
      "    assert type(greeting(s)) is str\n"
     ]
    }
   ],
   "source": [
    "print(make_test(a))"
   ]
  },
  {
   "cell_type": "code",
   "execution_count": 10,
   "metadata": {},
   "outputs": [],
   "source": [
    "#!pipenv install hypothesis"
   ]
  },
  {
   "cell_type": "code",
   "execution_count": 11,
   "metadata": {},
   "outputs": [],
   "source": [
    "from hypothesis import given\n",
    "from hypothesis.strategies import text,builds,lists\n",
    "\n",
    "def greeting(name: str) -> str: \n",
    "    return 'Hello ' + name \n",
    "@given(text())\n",
    "def test_greeting(s):\n",
    "    assert type(greeting(s)) is str"
   ]
  },
  {
   "cell_type": "code",
   "execution_count": 12,
   "metadata": {},
   "outputs": [],
   "source": [
    "test_greeting()"
   ]
  },
  {
   "cell_type": "code",
   "execution_count": 13,
   "metadata": {},
   "outputs": [],
   "source": [
    "from collections import namedtuple"
   ]
  },
  {
   "cell_type": "code",
   "execution_count": 14,
   "metadata": {},
   "outputs": [],
   "source": [
    "from typing import List\n",
    "class DataPoint:\n",
    "    def __init__(self,x:int,y:int):\n",
    "        self.x = x\n",
    "        self.y =y\n",
    "\n",
    "class DataSet:\n",
    "    def __init__(self,label:str,data:List[DataPoint],backgroundColor:str):\n",
    "        self.label=label\n",
    "        self.data=data\n",
    "        self.backgroundColor = backgroundColor\n",
    "\n",
    "class Data:\n",
    "    def __init__(self,datasets:List[DataSet]=None):\n",
    "        self.datasets=datasets"
   ]
  },
  {
   "cell_type": "code",
   "execution_count": 15,
   "metadata": {},
   "outputs": [],
   "source": [
    "data1 = Data([DataSet(label=\"label1\",data=[DataPoint(1,2),DataPoint(3,4)],backgroundColor=\"00b8ff\")])"
   ]
  },
  {
   "cell_type": "code",
   "execution_count": 16,
   "metadata": {},
   "outputs": [],
   "source": [
    "from crawto.Charts.charts import tsne_plot,make_html"
   ]
  },
  {
   "cell_type": "code",
   "execution_count": 17,
   "metadata": {},
   "outputs": [],
   "source": [
    "%load_ext autoreload\n",
    "%autoreload 2"
   ]
  },
  {
   "cell_type": "code",
   "execution_count": 18,
   "metadata": {},
   "outputs": [],
   "source": [
    "from crawto.Charts.charts import tsne_plot,make_html\n",
    "from hypothesis import given\n",
    "from hypothesis.strategies import text,builds,lists,floats\n",
    "#from crawto.Charts.chart_types import \n",
    "\n",
    "@given(builds(Data,lists(builds(DataSet,text(),lists(builds(DataPoint,floats(),floats())),text()))))\n",
    "def test_tsne_chart(d):\n",
    "    assert type(make_html(d)) is str"
   ]
  },
  {
   "cell_type": "code",
   "execution_count": 19,
   "metadata": {},
   "outputs": [],
   "source": [
    "test_tsne_chart()"
   ]
  },
  {
   "cell_type": "code",
   "execution_count": 20,
   "metadata": {},
   "outputs": [],
   "source": [
    "s=open(\"crawto/Charts/charts.py\").read()\n",
    "a = ast3.parse(s)"
   ]
  },
  {
   "cell_type": "code",
   "execution_count": 21,
   "metadata": {},
   "outputs": [
    {
     "data": {
      "text/plain": [
       "[<typed_ast._ast3.ImportFrom at 0x7f344502def0>,\n",
       " <typed_ast._ast3.ImportFrom at 0x7f344502de48>,\n",
       " <typed_ast._ast3.Import at 0x7f344502de10>,\n",
       " <typed_ast._ast3.ImportFrom at 0x7f344502da20>,\n",
       " <typed_ast._ast3.ImportFrom at 0x7f344502d7b8>,\n",
       " <typed_ast._ast3.Import at 0x7f344502d358>,\n",
       " <typed_ast._ast3.FunctionDef at 0x7f344502dbe0>,\n",
       " <typed_ast._ast3.FunctionDef at 0x7f344502d9b0>]"
      ]
     },
     "execution_count": 21,
     "metadata": {},
     "output_type": "execute_result"
    }
   ],
   "source": [
    "a.body"
   ]
  },
  {
   "cell_type": "code",
   "execution_count": 22,
   "metadata": {},
   "outputs": [
    {
     "data": {
      "text/plain": [
       "True"
      ]
     },
     "execution_count": 22,
     "metadata": {},
     "output_type": "execute_result"
    }
   ],
   "source": [
    "import typed_ast\n",
    "type(a.body[0]) is typed_ast._ast3.ImportFrom"
   ]
  },
  {
   "cell_type": "code",
   "execution_count": 23,
   "metadata": {},
   "outputs": [],
   "source": [
    "z =a.body[7]"
   ]
  },
  {
   "cell_type": "code",
   "execution_count": 24,
   "metadata": {},
   "outputs": [
    {
     "data": {
      "text/plain": [
       "'Data'"
      ]
     },
     "execution_count": 24,
     "metadata": {},
     "output_type": "execute_result"
    }
   ],
   "source": [
    "z.args.args[0].annotation.id"
   ]
  },
  {
   "cell_type": "code",
   "execution_count": 25,
   "metadata": {},
   "outputs": [
    {
     "data": {
      "text/plain": [
       "['__class__',\n",
       " '__delattr__',\n",
       " '__dict__',\n",
       " '__dir__',\n",
       " '__doc__',\n",
       " '__eq__',\n",
       " '__format__',\n",
       " '__ge__',\n",
       " '__getattribute__',\n",
       " '__gt__',\n",
       " '__hash__',\n",
       " '__init__',\n",
       " '__init_subclass__',\n",
       " '__le__',\n",
       " '__lt__',\n",
       " '__module__',\n",
       " '__ne__',\n",
       " '__new__',\n",
       " '__reduce__',\n",
       " '__reduce_ex__',\n",
       " '__repr__',\n",
       " '__setattr__',\n",
       " '__sizeof__',\n",
       " '__str__',\n",
       " '__subclasshook__',\n",
       " '__weakref__',\n",
       " '_attributes',\n",
       " '_fields',\n",
       " 'col_offset',\n",
       " 'level',\n",
       " 'lineno',\n",
       " 'module',\n",
       " 'names']"
      ]
     },
     "execution_count": 25,
     "metadata": {},
     "output_type": "execute_result"
    }
   ],
   "source": [
    "dir(a.body[4])"
   ]
  },
  {
   "cell_type": "code",
   "execution_count": 26,
   "metadata": {},
   "outputs": [
    {
     "data": {
      "text/plain": [
       "('Data', 'Charts.chart_type', 2)"
      ]
     },
     "execution_count": 26,
     "metadata": {},
     "output_type": "execute_result"
    }
   ],
   "source": [
    "a.body[4].names[0].name,a.body[4].module,a.body[4].level"
   ]
  },
  {
   "cell_type": "code",
   "execution_count": 27,
   "metadata": {},
   "outputs": [],
   "source": [
    "import typing\n",
    "ast_import_union = typing.Union[typed_ast._ast3.ImportFrom,typed_ast._ast3.Import]"
   ]
  },
  {
   "cell_type": "code",
   "execution_count": 28,
   "metadata": {},
   "outputs": [
    {
     "name": "stdout",
     "output_type": "stream",
     "text": [
      "Data\n"
     ]
    }
   ],
   "source": [
    "for i in a.body[4].names:\n",
    "    print(i.name)"
   ]
  },
  {
   "cell_type": "code",
   "execution_count": 29,
   "metadata": {},
   "outputs": [
    {
     "name": "stdout",
     "output_type": "stream",
     "text": [
      "success\n",
      "success\n",
      "Fail\n",
      "Fail\n"
     ]
    },
    {
     "data": {
      "text/plain": [
       "{'Data': 'Charts/chart_type'}"
      ]
     },
     "execution_count": 29,
     "metadata": {},
     "output_type": "execute_result"
    }
   ],
   "source": [
    "name_module_dict = {}\n",
    "def map_relative_import_to_object(ast_import):\n",
    "    if type(ast_import) is typed_ast._ast3.ImportFrom:\n",
    "        if ast_import.level>0:\n",
    "            module=ast_import.module\n",
    "            for i in ast_import.names:\n",
    "                name_module_dict[i.name] = module.replace(\".\",\"/\")\n",
    "    elif type(ast_import) is typed_ast._ast3.Import:\n",
    "        print(\"success\")\n",
    "    else:\n",
    "        print(\"Fail\")\n",
    "        \n",
    "for i in a.body:\n",
    "    map_relative_import_to_object(i)\n",
    "name_module_dict"
   ]
  },
  {
   "cell_type": "code",
   "execution_count": 30,
   "metadata": {},
   "outputs": [],
   "source": [
    "b=open(\"crawto/Charts/chart_type.py\").read()\n",
    "b = ast3.parse(b)"
   ]
  },
  {
   "cell_type": "code",
   "execution_count": 31,
   "metadata": {},
   "outputs": [
    {
     "name": "stdout",
     "output_type": "stream",
     "text": [
      "DataPoint\n",
      "DataSet\n",
      "Data\n"
     ]
    }
   ],
   "source": [
    "for i in b.body:\n",
    "    try:\n",
    "        print(i.name)\n",
    "    except:\n",
    "        pass"
   ]
  },
  {
   "cell_type": "code",
   "execution_count": 32,
   "metadata": {},
   "outputs": [
    {
     "data": {
      "text/plain": [
       "<typed_ast._ast3.ClassDef at 0x7f3444b75208>"
      ]
     },
     "execution_count": 32,
     "metadata": {},
     "output_type": "execute_result"
    }
   ],
   "source": [
    "b.body[3]"
   ]
  },
  {
   "cell_type": "code",
   "execution_count": 50,
   "metadata": {},
   "outputs": [],
   "source": [
    "generic_types=['str','int','float']\n",
    "hypothesis_dict = {\n",
    "    'str':'text()',\n",
    "    'int':'int()',\n",
    "    'float':'float()',\n",
    "    'List':'lists'\n",
    "}\n",
    "def iterate_module_operate_class(ast3_Module):\n",
    "    \n",
    "    body = ast3_Module.body\n",
    "    classes = {}\n",
    "    for i in body:\n",
    "        if type(i) is typed_ast._ast3.ClassDef:\n",
    "            p = parse_class(i)\n",
    "            classes[i.name] = p\n",
    "    class_dict = find_and_replace_customs\n",
    "    return class_dict(classes)\n",
    "            \n",
    "def get_class_names(ast_Module):\n",
    "    class_names = []\n",
    "    for i in b.body:\n",
    "        try:\n",
    "            class_names.append(i.name)\n",
    "        except:\n",
    "            pass\n",
    "    return class_names\n",
    "\n",
    "def parse_class(ast3_ClassDef):\n",
    "    for i in ast3_ClassDef.body:\n",
    "        if i.name == '__init__':\n",
    "            args = [a.value.id for a in i.body]\n",
    "            d = {}\n",
    "            for i in i.args.args: \n",
    "                if parse_annotations(i) is not None:\n",
    "                    att, annotation = parse_annotations(i)\n",
    "                    d[att]=annotation\n",
    "    return d\n",
    "\n",
    "def parse_annotations(ast3_ClassDef_args_args_i):\n",
    "    if ast3_ClassDef_args_args_i.arg ==\"self\":\n",
    "        pass\n",
    "    elif 'annotation' in dir(ast3_ClassDef_args_args_i):\n",
    "        att = ast3_ClassDef_args_args_i.arg\n",
    "        try:\n",
    "            annotation = ast3_ClassDef_args_args_i.annotation.id\n",
    "        except:\n",
    "            annotation = ast3_ClassDef_args_args_i.annotation.value.id\n",
    "            if 'slice' in dir(ast3_ClassDef_args_args_i.annotation):\n",
    "                slice_id = ast3_ClassDef_args_args_i.annotation.slice.value.id\n",
    "                annotation = (annotation,slice_id)\n",
    "        return att,annotation\n",
    "    \n",
    "def find_and_replace_customs(class_dict):\n",
    "    build_dict = {}\n",
    "    for i in class_dict:\n",
    "        tmp_dict = {}\n",
    "        for x,y in zip(list(class_dict[i].keys()),list(class_dict[i].values())):\n",
    "            if y in generic_types:\n",
    "                tmp_dict[x] = hypothesis_dict[y]\n",
    "            elif type(y) is tuple:\n",
    "                if y[0] is 'List':\n",
    "                    if y[1] in build_dict:\n",
    "                        tmp_dict[x] = build_dict[y[1]]\n",
    "        build_string = f'builds({i}' \n",
    "        for x,y in zip(list(tmp_dict.keys()),list(tmp_dict.values())):\n",
    "            build_string +=f',{x}={y}'\n",
    "        build_string += \")\"\n",
    "\n",
    "        build_dict[i] = build_string\n",
    "\n",
    "    return build_dict"
   ]
  },
  {
   "cell_type": "code",
   "execution_count": 51,
   "metadata": {},
   "outputs": [
    {
     "data": {
      "text/plain": [
       "{'DataPoint': 'builds(DataPoint,x=float(),y=float())',\n",
       " 'DataSet': 'builds(DataSet,label=text(),data=builds(DataPoint,x=float(),y=float()),backgroundColor=text())',\n",
       " 'Data': 'builds(Data,datasets=builds(DataSet,label=text(),data=builds(DataPoint,x=float(),y=float()),backgroundColor=text()))'}"
      ]
     },
     "execution_count": 51,
     "metadata": {},
     "output_type": "execute_result"
    }
   ],
   "source": [
    "iterate_module_operate_class(b)"
   ]
  },
  {
   "cell_type": "code",
   "execution_count": null,
   "metadata": {},
   "outputs": [],
   "source": []
  },
  {
   "cell_type": "code",
   "execution_count": null,
   "metadata": {},
   "outputs": [],
   "source": []
  }
 ],
 "metadata": {
  "@webio": {
   "lastCommId": null,
   "lastKernelId": null
  },
  "kernelspec": {
   "display_name": "Python 3",
   "language": "python",
   "name": "python3"
  },
  "language_info": {
   "codemirror_mode": {
    "name": "ipython",
    "version": 3
   },
   "file_extension": ".py",
   "mimetype": "text/x-python",
   "name": "python",
   "nbconvert_exporter": "python",
   "pygments_lexer": "ipython3",
   "version": "3.6.7"
  }
 },
 "nbformat": 4,
 "nbformat_minor": 2
}

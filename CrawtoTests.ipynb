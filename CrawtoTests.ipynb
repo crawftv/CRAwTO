{
 "cells": [
  {
   "cell_type": "code",
   "execution_count": 1,
   "metadata": {},
   "outputs": [],
   "source": [
    "s = \"def greeting(name: str) -> str: \\\n",
    "    return 'Hello ' + name \""
   ]
  },
  {
   "cell_type": "code",
   "execution_count": 2,
   "metadata": {},
   "outputs": [],
   "source": [
    "import astor,ast"
   ]
  },
  {
   "cell_type": "code",
   "execution_count": 3,
   "metadata": {},
   "outputs": [],
   "source": [
    "a = ast.parse(s)"
   ]
  },
  {
   "cell_type": "code",
   "execution_count": 4,
   "metadata": {},
   "outputs": [],
   "source": [
    "#!pipenv install typed-ast"
   ]
  },
  {
   "cell_type": "code",
   "execution_count": 5,
   "metadata": {},
   "outputs": [],
   "source": [
    "from typed_ast import ast3"
   ]
  },
  {
   "cell_type": "code",
   "execution_count": 6,
   "metadata": {},
   "outputs": [],
   "source": [
    "a = ast3.parse(s)"
   ]
  },
  {
   "cell_type": "code",
   "execution_count": 7,
   "metadata": {},
   "outputs": [
    {
     "data": {
      "text/plain": [
       "<typed_ast._ast3.Module at 0x7f1cf5470da0>"
      ]
     },
     "execution_count": 7,
     "metadata": {},
     "output_type": "execute_result"
    }
   ],
   "source": [
    "a"
   ]
  },
  {
   "cell_type": "code",
   "execution_count": 8,
   "metadata": {},
   "outputs": [],
   "source": [
    "hypothesis_mappings = {\"str\": {\"decorator\":\"@given(text())\",\"hypothesis_test\":\"s\"}}\n",
    "\n",
    "def make_test(a):\n",
    "    for i in a.body:\n",
    "        name = i.name\n",
    "        r = i.returns.id\n",
    "        args = [ x.arg for x in i.args.args]\n",
    "        args = \", \".join(args)\n",
    "        hypothesis_test = hypothesis_mappings[r][\"hypothesis_test\"]\n",
    "        t = hypothesis_mappings[r][\"decorator\"]+\"\\n\"\n",
    "        t += f'def test_{name}({hypothesis_test}):\\n'\n",
    "        t +=f'    assert type({name}({hypothesis_test})) is {r}'\n",
    "        return t"
   ]
  },
  {
   "cell_type": "code",
   "execution_count": 9,
   "metadata": {},
   "outputs": [
    {
     "name": "stdout",
     "output_type": "stream",
     "text": [
      "@given(text())\n",
      "def test_greeting(s):\n",
      "    assert type(greeting(s)) is str\n"
     ]
    }
   ],
   "source": [
    "print(make_test(a))"
   ]
  },
  {
   "cell_type": "code",
   "execution_count": 10,
   "metadata": {},
   "outputs": [],
   "source": [
    "#!pipenv install hypothesis"
   ]
  },
  {
   "cell_type": "code",
   "execution_count": 143,
   "metadata": {},
   "outputs": [],
   "source": [
    "from hypothesis import given\n",
    "from hypothesis.strategies import text,builds,lists\n",
    "\n",
    "def greeting(name: str) -> str: \n",
    "    return 'Hello ' + name \n",
    "@given(text())\n",
    "def test_greeting(s):\n",
    "    assert type(greeting(s)) is str"
   ]
  },
  {
   "cell_type": "code",
   "execution_count": 12,
   "metadata": {},
   "outputs": [],
   "source": [
    "test_greeting()"
   ]
  },
  {
   "cell_type": "code",
   "execution_count": 134,
   "metadata": {},
   "outputs": [],
   "source": [
    "from collections import namedtuple"
   ]
  },
  {
   "cell_type": "code",
   "execution_count": 135,
   "metadata": {},
   "outputs": [],
   "source": [
    "from typing import List\n",
    "class DataPoint:\n",
    "    def __init__(self,x:int,y:int):\n",
    "        self.x = x\n",
    "        self.y =y\n",
    "\n",
    "class DataSet:\n",
    "    def __init__(self,label:str,data:List[DataPoint],backgroundColor:str):\n",
    "        self.label=label\n",
    "        self.data=data\n",
    "        self.backgroundColor = backgroundColor\n",
    "\n",
    "class Data:\n",
    "    def __init__(self,datasets:List[DataSet]=None):\n",
    "        self.datasets=datasets"
   ]
  },
  {
   "cell_type": "code",
   "execution_count": 136,
   "metadata": {},
   "outputs": [],
   "source": [
    "data1 = Data([DataSet(label=\"label1\",data=[DataPoint(1,2),DataPoint(3,4)],backgroundColor=\"00b8ff\")])"
   ]
  },
  {
   "cell_type": "code",
   "execution_count": 137,
   "metadata": {},
   "outputs": [],
   "source": [
    "from crawto.Charts.charts import tsne_plot,make_html"
   ]
  },
  {
   "cell_type": "code",
   "execution_count": 138,
   "metadata": {},
   "outputs": [
    {
     "name": "stdout",
     "output_type": "stream",
     "text": [
      "The autoreload extension is already loaded. To reload it, use:\n",
      "  %reload_ext autoreload\n"
     ]
    }
   ],
   "source": [
    "%load_ext autoreload\n",
    "%autoreload 2"
   ]
  },
  {
   "cell_type": "code",
   "execution_count": 152,
   "metadata": {},
   "outputs": [],
   "source": [
    "from crawto.Charts.charts import tsne_plot,make_html\n",
    "from hypothesis import given\n",
    "from hypothesis.strategies import text,builds,lists,floats\n",
    "#from crawto.Charts.chart_types import \n",
    "\n",
    "@given(builds(Data,lists(builds(DataSet,text(),lists(builds(DataPoint,floats(),floats())),text()))))\n",
    "def test_tsne_chart(d):\n",
    "    assert type(make_html(d)) is str"
   ]
  },
  {
   "cell_type": "code",
   "execution_count": 157,
   "metadata": {},
   "outputs": [],
   "source": [
    "test_tsne_chart()"
   ]
  },
  {
   "cell_type": "code",
   "execution_count": 158,
   "metadata": {},
   "outputs": [],
   "source": [
    "s=open(\"crawto/Charts/charts.py\").read()\n",
    "a = ast3.parse(s)"
   ]
  },
  {
   "cell_type": "code",
   "execution_count": 159,
   "metadata": {},
   "outputs": [
    {
     "data": {
      "text/plain": [
       "[<typed_ast._ast3.ImportFrom at 0x7f1ccfc0c588>,\n",
       " <typed_ast._ast3.ImportFrom at 0x7f1ccfc14d68>,\n",
       " <typed_ast._ast3.Import at 0x7f1ccfc14c88>,\n",
       " <typed_ast._ast3.ImportFrom at 0x7f1ccfc14dd8>,\n",
       " <typed_ast._ast3.ImportFrom at 0x7f1ccfc14828>,\n",
       " <typed_ast._ast3.Import at 0x7f1ccfc14438>,\n",
       " <typed_ast._ast3.FunctionDef at 0x7f1ccfc14668>,\n",
       " <typed_ast._ast3.FunctionDef at 0x7f1ccfa49358>]"
      ]
     },
     "execution_count": 159,
     "metadata": {},
     "output_type": "execute_result"
    }
   ],
   "source": [
    "a.body"
   ]
  },
  {
   "cell_type": "code",
   "execution_count": 172,
   "metadata": {},
   "outputs": [
    {
     "data": {
      "text/plain": [
       "True"
      ]
     },
     "execution_count": 172,
     "metadata": {},
     "output_type": "execute_result"
    }
   ],
   "source": [
    "import typed_ast\n",
    "type(a.body[0]) is typed_ast._ast3.ImportFrom"
   ]
  },
  {
   "cell_type": "code",
   "execution_count": 194,
   "metadata": {},
   "outputs": [],
   "source": [
    "z =a.body[7]"
   ]
  },
  {
   "cell_type": "code",
   "execution_count": 212,
   "metadata": {},
   "outputs": [
    {
     "data": {
      "text/plain": [
       "'Data'"
      ]
     },
     "execution_count": 212,
     "metadata": {},
     "output_type": "execute_result"
    }
   ],
   "source": [
    "z.args.args[0].annotation.id"
   ]
  },
  {
   "cell_type": "code",
   "execution_count": 206,
   "metadata": {},
   "outputs": [
    {
     "ename": "AttributeError",
     "evalue": "'Name' object has no attribute 'name'",
     "output_type": "error",
     "traceback": [
      "\u001b[0;31m---------------------------------------------------------------------------\u001b[0m",
      "\u001b[0;31mAttributeError\u001b[0m                            Traceback (most recent call last)",
      "\u001b[0;32m<ipython-input-206-ee80fdd637d9>\u001b[0m in \u001b[0;36m<module>\u001b[0;34m\u001b[0m\n\u001b[0;32m----> 1\u001b[0;31m \u001b[0;34m[\u001b[0m\u001b[0;34m(\u001b[0m\u001b[0mi\u001b[0m\u001b[0;34m.\u001b[0m\u001b[0marg\u001b[0m\u001b[0;34m,\u001b[0m \u001b[0mi\u001b[0m\u001b[0;34m.\u001b[0m\u001b[0mannotation\u001b[0m\u001b[0;34m.\u001b[0m\u001b[0mname\u001b[0m\u001b[0;34m)\u001b[0m \u001b[0;32mfor\u001b[0m \u001b[0mi\u001b[0m \u001b[0;32min\u001b[0m \u001b[0mz\u001b[0m\u001b[0;34m.\u001b[0m\u001b[0margs\u001b[0m\u001b[0;34m.\u001b[0m\u001b[0margs\u001b[0m \u001b[0;34m]\u001b[0m\u001b[0;34m\u001b[0m\u001b[0;34m\u001b[0m\u001b[0m\n\u001b[0m",
      "\u001b[0;32m<ipython-input-206-ee80fdd637d9>\u001b[0m in \u001b[0;36m<listcomp>\u001b[0;34m(.0)\u001b[0m\n\u001b[0;32m----> 1\u001b[0;31m \u001b[0;34m[\u001b[0m\u001b[0;34m(\u001b[0m\u001b[0mi\u001b[0m\u001b[0;34m.\u001b[0m\u001b[0marg\u001b[0m\u001b[0;34m,\u001b[0m \u001b[0mi\u001b[0m\u001b[0;34m.\u001b[0m\u001b[0mannotation\u001b[0m\u001b[0;34m.\u001b[0m\u001b[0mname\u001b[0m\u001b[0;34m)\u001b[0m \u001b[0;32mfor\u001b[0m \u001b[0mi\u001b[0m \u001b[0;32min\u001b[0m \u001b[0mz\u001b[0m\u001b[0;34m.\u001b[0m\u001b[0margs\u001b[0m\u001b[0;34m.\u001b[0m\u001b[0margs\u001b[0m \u001b[0;34m]\u001b[0m\u001b[0;34m\u001b[0m\u001b[0;34m\u001b[0m\u001b[0m\n\u001b[0m",
      "\u001b[0;31mAttributeError\u001b[0m: 'Name' object has no attribute 'name'"
     ]
    }
   ],
   "source": [
    "[(i.arg, i.annotation) for i in z.args.args ]"
   ]
  },
  {
   "cell_type": "code",
   "execution_count": 198,
   "metadata": {},
   "outputs": [
    {
     "data": {
      "text/plain": [
       "['__class__',\n",
       " '__delattr__',\n",
       " '__dict__',\n",
       " '__dir__',\n",
       " '__doc__',\n",
       " '__eq__',\n",
       " '__format__',\n",
       " '__ge__',\n",
       " '__getattribute__',\n",
       " '__gt__',\n",
       " '__hash__',\n",
       " '__init__',\n",
       " '__init_subclass__',\n",
       " '__le__',\n",
       " '__lt__',\n",
       " '__module__',\n",
       " '__ne__',\n",
       " '__new__',\n",
       " '__reduce__',\n",
       " '__reduce_ex__',\n",
       " '__repr__',\n",
       " '__setattr__',\n",
       " '__sizeof__',\n",
       " '__str__',\n",
       " '__subclasshook__',\n",
       " '__weakref__',\n",
       " '_attributes',\n",
       " '_fields',\n",
       " 'args',\n",
       " 'body',\n",
       " 'col_offset',\n",
       " 'decorator_list',\n",
       " 'lineno',\n",
       " 'name',\n",
       " 'returns',\n",
       " 'type_comment']"
      ]
     },
     "execution_count": 198,
     "metadata": {},
     "output_type": "execute_result"
    }
   ],
   "source": [
    "dir(z)"
   ]
  },
  {
   "cell_type": "code",
   "execution_count": 191,
   "metadata": {},
   "outputs": [
    {
     "name": "stdout",
     "output_type": "stream",
     "text": [
      "<typed_ast._ast3.ImportFrom object at 0x7f1ccfc0c588>\n",
      "<typed_ast._ast3.ImportFrom object at 0x7f1ccfc14d68>\n",
      "<typed_ast._ast3.Import object at 0x7f1ccfc14c88>\n",
      "<typed_ast._ast3.ImportFrom object at 0x7f1ccfc14dd8>\n",
      "<typed_ast._ast3.ImportFrom object at 0x7f1ccfc14828>\n",
      "<typed_ast._ast3.Import object at 0x7f1ccfc14438>\n",
      "<typed_ast._ast3.FunctionDef object at 0x7f1ccfc14668>\n",
      "None\n",
      "<typed_ast._ast3.FunctionDef object at 0x7f1ccfa49358>\n",
      "@given(text())\n",
      "def test_make_html(s):\n",
      "    assert type(make_html(s)) is str\n"
     ]
    }
   ],
   "source": [
    "for i in a.body:\n",
    "    print(i)\n",
    "    if type(i) is typed_ast._ast3.FunctionDef:\n",
    "        print(make_test_function(i))"
   ]
  },
  {
   "cell_type": "code",
   "execution_count": 189,
   "metadata": {},
   "outputs": [],
   "source": [
    "hypothesis_mappings = {\"str\": {\"decorator\":\"@given(text())\",\"hypothesis_test\":\"s\"},\n",
    "                      }\n",
    "\n",
    "def make_test_function(a):\n",
    "    try:\n",
    "        name = i.name\n",
    "        r = i.returns.id\n",
    "        args = [ x.arg for x in i.args.args]\n",
    "        args = \", \".join(args)\n",
    "        hypothesis_test = hypothesis_mappings[r][\"hypothesis_test\"]\n",
    "        t = hypothesis_mappings[r][\"decorator\"]+\"\\n\"\n",
    "        t += f'def test_{name}({hypothesis_test}):\\n'\n",
    "        t +=f'    assert type({name}({hypothesis_test})) is {r}'\n",
    "        return t\n",
    "    except:\n",
    "        pass"
   ]
  },
  {
   "cell_type": "code",
   "execution_count": null,
   "metadata": {},
   "outputs": [],
   "source": []
  }
 ],
 "metadata": {
  "@webio": {
   "lastCommId": null,
   "lastKernelId": null
  },
  "kernelspec": {
   "display_name": "Python 3",
   "language": "python",
   "name": "python3"
  },
  "language_info": {
   "codemirror_mode": {
    "name": "ipython",
    "version": 3
   },
   "file_extension": ".py",
   "mimetype": "text/x-python",
   "name": "python",
   "nbconvert_exporter": "python",
   "pygments_lexer": "ipython3",
   "version": "3.6.7"
  }
 },
 "nbformat": 4,
 "nbformat_minor": 2
}

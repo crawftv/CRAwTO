{
 "cells": [
  {
   "cell_type": "code",
   "execution_count": 1,
   "metadata": {},
   "outputs": [],
   "source": [
    "s = \"def greeting(name: str) -> str: \\\n",
    "    return 'Hello ' + name \""
   ]
  },
  {
   "cell_type": "code",
   "execution_count": 2,
   "metadata": {},
   "outputs": [],
   "source": [
    "import astor,ast"
   ]
  },
  {
   "cell_type": "code",
   "execution_count": 3,
   "metadata": {},
   "outputs": [],
   "source": [
    "a = ast.parse(s)"
   ]
  },
  {
   "cell_type": "code",
   "execution_count": 4,
   "metadata": {},
   "outputs": [],
   "source": [
    "#!pipenv install typed-ast"
   ]
  },
  {
   "cell_type": "code",
   "execution_count": 5,
   "metadata": {},
   "outputs": [],
   "source": [
    "from typed_ast import ast3"
   ]
  },
  {
   "cell_type": "code",
   "execution_count": 6,
   "metadata": {},
   "outputs": [],
   "source": [
    "a = ast3.parse(s)"
   ]
  },
  {
   "cell_type": "code",
   "execution_count": 7,
   "metadata": {},
   "outputs": [
    {
     "data": {
      "text/plain": [
       "<typed_ast._ast3.Module at 0x7f1cf5470da0>"
      ]
     },
     "execution_count": 7,
     "metadata": {},
     "output_type": "execute_result"
    }
   ],
   "source": [
    "a"
   ]
  },
  {
   "cell_type": "code",
   "execution_count": 8,
   "metadata": {},
   "outputs": [],
   "source": [
    "hypothesis_mappings = {\"str\": {\"decorator\":\"@given(text())\",\"hypothesis_test\":\"s\"}}\n",
    "\n",
    "def make_test(a):\n",
    "    for i in a.body:\n",
    "        name = i.name\n",
    "        r = i.returns.id\n",
    "        args = [ x.arg for x in i.args.args]\n",
    "        args = \", \".join(args)\n",
    "        hypothesis_test = hypothesis_mappings[r][\"hypothesis_test\"]\n",
    "        t = hypothesis_mappings[r][\"decorator\"]+\"\\n\"\n",
    "        t += f'def test_{name}({hypothesis_test}):\\n'\n",
    "        t +=f'    assert type({name}({hypothesis_test})) is {r}'\n",
    "        return t"
   ]
  },
  {
   "cell_type": "code",
   "execution_count": 9,
   "metadata": {},
   "outputs": [
    {
     "name": "stdout",
     "output_type": "stream",
     "text": [
      "@given(text())\n",
      "def test_greeting(s):\n",
      "    assert type(greeting(s)) is str\n"
     ]
    }
   ],
   "source": [
    "print(make_test(a))"
   ]
  },
  {
   "cell_type": "code",
   "execution_count": 10,
   "metadata": {},
   "outputs": [],
   "source": [
    "#!pipenv install hypothesis"
   ]
  },
  {
   "cell_type": "code",
   "execution_count": 11,
   "metadata": {},
   "outputs": [],
   "source": [
    "from hypothesis import given\n",
    "from hypothesis.strategies import text\n",
    "\n",
    "def greeting(name: str) -> str: \n",
    "    return 'Hello ' + name \n",
    "@given(text())\n",
    "def test_greeting(s):\n",
    "    assert type(greeting(s)) is str"
   ]
  },
  {
   "cell_type": "code",
   "execution_count": 12,
   "metadata": {},
   "outputs": [],
   "source": [
    "test_greeting()"
   ]
  },
  {
   "cell_type": "code",
   "execution_count": 13,
   "metadata": {},
   "outputs": [],
   "source": [
    "data={\"datasets\": [{\"label\": \"data1\", \"data\": [{\"x\": 1, \"y\": 1}, {\"x\": 2, \"y\": 2}]}]}"
   ]
  },
  {
   "cell_type": "code",
   "execution_count": 14,
   "metadata": {},
   "outputs": [],
   "source": [
    "s=open(\"t_t.py\").read()\n",
    "a = ast3.parse(s)"
   ]
  },
  {
   "cell_type": "code",
   "execution_count": 15,
   "metadata": {},
   "outputs": [
    {
     "data": {
      "text/plain": [
       "[<typed_ast._ast3.ImportFrom at 0x7f1ccff50f60>,\n",
       " <typed_ast._ast3.ImportFrom at 0x7f1ccff50f98>,\n",
       " <typed_ast._ast3.Import at 0x7f1ccff506a0>,\n",
       " <typed_ast._ast3.ImportFrom at 0x7f1ccff50780>,\n",
       " <typed_ast._ast3.ClassDef at 0x7f1ccff50438>,\n",
       " <typed_ast._ast3.ClassDef at 0x7f1ccff50748>,\n",
       " <typed_ast._ast3.ClassDef at 0x7f1ccff5cf28>,\n",
       " <typed_ast._ast3.FunctionDef at 0x7f1ccff5cb00>,\n",
       " <typed_ast._ast3.FunctionDef at 0x7f1ccff5c978>]"
      ]
     },
     "execution_count": 15,
     "metadata": {},
     "output_type": "execute_result"
    }
   ],
   "source": [
    "a.body"
   ]
  },
  {
   "cell_type": "code",
   "execution_count": 16,
   "metadata": {},
   "outputs": [],
   "source": [
    "import json\n",
    "from collections import namedtuple"
   ]
  },
  {
   "cell_type": "code",
   "execution_count": 44,
   "metadata": {},
   "outputs": [],
   "source": [
    "from typing import List\n",
    "class DataPoint:\n",
    "    def __init__(self,x:int,y:int):\n",
    "        self.x = x\n",
    "        self.y =y\n",
    "\n",
    "class DataSet:\n",
    "    def __init__(self,label:str,data:List[DataPoint],backgroundColor:str):\n",
    "        self.label=label\n",
    "        self.data=data\n",
    "        self.backgroundColor = backgroundColor\n",
    "\n",
    "class Data:\n",
    "    def __init__(self,datasets:List[DataSet]=None):\n",
    "        self.datasets=datasets"
   ]
  },
  {
   "cell_type": "code",
   "execution_count": 126,
   "metadata": {},
   "outputs": [],
   "source": [
    "data= {\"datasets\": [{\"label\": \"data1\", \"data\": [{\"x\": 1.0, \"y\": 1.0}, {\"x\": 2.0, \"y\": 2.0}]}]}\n",
    "data1 = Data([DataSet(label=\"label1\",data=[DataPoint(1,2),DataPoint(3,4)],backgroundColor=\"00b8ff\")])"
   ]
  },
  {
   "cell_type": "code",
   "execution_count": 127,
   "metadata": {},
   "outputs": [],
   "source": [
    "from crawto.Charts.charts import tsne_plot"
   ]
  },
  {
   "cell_type": "code",
   "execution_count": 128,
   "metadata": {},
   "outputs": [
    {
     "name": "stdout",
     "output_type": "stream",
     "text": [
      "The autoreload extension is already loaded. To reload it, use:\n",
      "  %reload_ext autoreload\n"
     ]
    }
   ],
   "source": [
    "%load_ext autoreload\n",
    "%autoreload 2"
   ]
  },
  {
   "cell_type": "code",
   "execution_count": 129,
   "metadata": {},
   "outputs": [
    {
     "data": {
      "text/html": [
       "\n",
       "            <head>\n",
       "                <script type=\"application/javascript\" src=\"https:\\cdnjs.cloudflare.com/ajax/libs/require.js/x.y.z/require.js\"></script>\n",
       "            </head>\n",
       "            <body>\n",
       "            <h1> T-sne </h1>\n",
       "            <canvas id=\"t-sne-chart\"></canvas>\n",
       "            <script> \n",
       "            requirejs(['https:\\cdnjs.cloudflare.com/ajax/libs/Chart.js/2.8.0/Chart.js'], function(Chart){\n",
       "                new Chart(document.getElementById(\"t-sne-chart\"), {\n",
       "                        type: \"scatter\",\n",
       "                        data: {\"datasets\": [{\"backgroundColor\": \"00b8ff\", \"data\": [{\"x\": 1, \"y\": 2}, {\"x\": 3, \"y\": 4}], \"label\": \"label1\"}]},\n",
       "                        options: {\n",
       "                            tooltips: {\n",
       "                                callbacks: {\n",
       "                                    label: function(tooltipItem, data) {\n",
       "                                        var label = data.datasets[tooltipItem.datasetIndex].label;\n",
       "                                        return label\n",
       "                                   }\n",
       "                                }\n",
       "                            }\n",
       "                        }\n",
       "                    });\n",
       "                });     \n",
       "             </script>\n",
       "            </body>\n",
       "            "
      ],
      "text/plain": [
       "<IPython.core.display.HTML object>"
      ]
     },
     "execution_count": 129,
     "metadata": {},
     "output_type": "execute_result"
    }
   ],
   "source": [
    "tsne_plot(data1)"
   ]
  },
  {
   "cell_type": "code",
   "execution_count": null,
   "metadata": {},
   "outputs": [],
   "source": []
  }
 ],
 "metadata": {
  "@webio": {
   "lastCommId": null,
   "lastKernelId": null
  },
  "kernelspec": {
   "display_name": "Python 3",
   "language": "python",
   "name": "python3"
  },
  "language_info": {
   "codemirror_mode": {
    "name": "ipython",
    "version": 3
   },
   "file_extension": ".py",
   "mimetype": "text/x-python",
   "name": "python",
   "nbconvert_exporter": "python",
   "pygments_lexer": "ipython3",
   "version": "3.6.7"
  }
 },
 "nbformat": 4,
 "nbformat_minor": 2
}

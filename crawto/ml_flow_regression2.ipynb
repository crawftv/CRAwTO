{
 "cells": [
  {
   "cell_type": "code",
   "execution_count": 1,
   "metadata": {},
   "outputs": [],
   "source": [
    "%load_ext autoreload"
   ]
  },
  {
   "cell_type": "code",
   "execution_count": 2,
   "metadata": {},
   "outputs": [],
   "source": [
    "%autoreload 2"
   ]
  },
  {
   "cell_type": "code",
   "execution_count": 3,
   "metadata": {
    "execution": {
     "iopub.execute_input": "2020-04-11T23:02:42.759Z",
     "iopub.status.busy": "2020-04-11T23:02:42.689Z",
     "iopub.status.idle": "2020-04-11T23:02:52.706Z",
     "shell.execute_reply": "2020-04-11T23:02:52.781Z"
    }
   },
   "outputs": [],
   "source": [
    "from prefect import Flow, Parameter, unmapped\n",
    "import pandas as pd\n",
    "from prefect.engine.executors import DaskExecutor\n",
    "from ml_flow import data_cleaning_flow\n",
    "from tinydb import TinyDB"
   ]
  },
  {
   "cell_type": "code",
   "execution_count": 4,
   "metadata": {},
   "outputs": [],
   "source": [
    "input_df = pd.read_csv(\"../data/house-prices-advanced-regression-techniques/train.csv\")\n",
    "test= pd.read_csv(\"../data/house-prices-advanced-regression-techniques/test.csv\")"
   ]
  },
  {
   "cell_type": "code",
   "execution_count": 5,
   "metadata": {
    "scrolled": true
   },
   "outputs": [
    {
     "name": "stdout",
     "output_type": "stream",
     "text": [
      "[2020-04-13 05:50:59,190] INFO - prefect.FlowRunner | Beginning Flow run for 'data_cleaning'\n",
      "[2020-04-13 05:50:59,196] INFO - prefect.FlowRunner | Starting flow run.\n",
      "[2020-04-13 05:50:59,460] INFO - prefect.TaskRunner | Task 'target': Starting task run...\n",
      "[2020-04-13 05:50:59,488] INFO - prefect.TaskRunner | Task 'target': finished task run for task with final state: 'Success'\n",
      "[2020-04-13 05:50:59,701] INFO - prefect.TaskRunner | Task 'features': Starting task run...\n",
      "[2020-04-13 05:50:59,714] INFO - prefect.TaskRunner | Task 'features': finished task run for task with final state: 'Success'\n",
      "[2020-04-13 05:50:59,722] INFO - prefect.TaskRunner | Task 'input_data': Starting task run...\n",
      "[2020-04-13 05:50:59,731] INFO - prefect.TaskRunner | Task 'input_data': finished task run for task with final state: 'Success'\n",
      "[2020-04-13 05:50:59,760] INFO - prefect.TaskRunner | Task 'problem': Starting task run...\n",
      "[2020-04-13 05:50:59,788] INFO - prefect.TaskRunner | Task 'extract_problematic_features': Starting task run...\n",
      "[2020-04-13 05:50:59,787] INFO - prefect.TaskRunner | Task 'problem': finished task run for task with final state: 'Success'\n",
      "[2020-04-13 05:50:59,802] INFO - prefect.TaskRunner | Task 'extract_nan_features': Starting task run...\n",
      "[2020-04-13 05:50:59,809] INFO - prefect.TaskRunner | Task 'extract_problematic_features': finished task run for task with final state: 'Success'\n",
      "[2020-04-13 05:50:59,835] INFO - prefect.TaskRunner | Task 'extract_nan_features': finished task run for task with final state: 'Success'\n",
      "[2020-04-13 05:50:59,861] INFO - prefect.TaskRunner | Task 'extract_undefined_features': Starting task run...\n",
      "[2020-04-13 05:50:59,869] INFO - prefect.TaskRunner | Task 'extract_undefined_features': finished task run for task with final state: 'Success'\n",
      "[2020-04-13 05:50:59,952] INFO - prefect.TaskRunner | Task 'extract_categorical_features': Starting task run...\n",
      "[2020-04-13 05:50:59,967] INFO - prefect.TaskRunner | Task 'fit_transform_missing_indicator': Starting task run...\n",
      "[2020-04-13 05:50:59,974] INFO - prefect.TaskRunner | Task 'extract_numeric_features': Starting task run...\n",
      "['MSSubClass', 'MSZoning', 'LotFrontage', 'LotArea', 'Street', 'LotShape', 'LandContour', 'Utilities', 'LotConfig', 'LandSlope', 'Neighborhood', 'Condition1', 'Condition2', 'BldgType', 'HouseStyle', 'OverallQual', 'OverallCond', 'YearBuilt', 'YearRemodAdd', 'RoofStyle', 'RoofMatl', 'Exterior1st', 'Exterior2nd', 'MasVnrType', 'MasVnrArea', 'ExterQual', 'ExterCond', 'Foundation', 'BsmtQual', 'BsmtCond', 'BsmtExposure', 'BsmtFinType1', 'BsmtFinSF1', 'BsmtFinType2', 'BsmtFinSF2', 'BsmtUnfSF', 'TotalBsmtSF', 'Heating', 'HeatingQC', 'CentralAir', 'Electrical', '1stFlrSF', '2ndFlrSF', 'LowQualFinSF', 'GrLivArea', 'BsmtFullBath', 'BsmtHalfBath', 'FullBath', 'HalfBath', 'BedroomAbvGr', 'KitchenAbvGr', 'KitchenQual', 'TotRmsAbvGrd', 'Functional', 'Fireplaces', 'GarageType', 'GarageYrBlt', 'GarageFinish', 'GarageCars', 'GarageArea', 'GarageQual', 'GarageCond', 'PavedDrive', 'WoodDeckSF', 'OpenPorchSF', 'EnclosedPorch', '3SsnPorch', 'ScreenPorch', 'PoolArea', 'MiscVal', 'MoSold', 'YrSold', 'SaleType', 'SaleCondition']\n",
      "[ 2 23 24 28 29 30 31 33 40 55 56 57 60 61]\n",
      "['missing_LotFrontage', 'missing_MasVnrType', 'missing_MasVnrArea', 'missing_BsmtQual', 'missing_BsmtCond', 'missing_BsmtExposure', 'missing_BsmtFinType1', 'missing_BsmtFinType2', 'missing_Electrical', 'missing_GarageType', 'missing_GarageYrBlt', 'missing_GarageFinish', 'missing_GarageQual', 'missing_GarageCond']\n",
      "[2020-04-13 05:51:00,067] INFO - prefect.TaskRunner | Task 'fit_transform_missing_indicator': finished task run for task with final state: 'Success'\n",
      "[2020-04-13 05:51:00,091] INFO - prefect.TaskRunner | Task 'extract_categorical_features': finished task run for task with final state: 'Success'\n",
      "[2020-04-13 05:51:00,124] INFO - prefect.TaskRunner | Task 'extract_train_valid_split': Starting task run...\n",
      "[2020-04-13 05:51:00,124] INFO - prefect.TaskRunner | Task 'extract_numeric_features': finished task run for task with final state: 'Success'\n",
      "[2020-04-13 05:51:00,135] INFO - prefect.TaskRunner | Task 'extract_train_valid_split': finished task run for task with final state: 'Success'\n",
      "[2020-04-13 05:51:00,166] INFO - prefect.TaskRunner | Task 'extract_train_data': Starting task run...\n",
      "[2020-04-13 05:51:00,174] INFO - prefect.TaskRunner | Task 'extract_valid_data': Starting task run...\n",
      "[2020-04-13 05:51:00,182] INFO - prefect.TaskRunner | Task 'extract_train_data': finished task run for task with final state: 'Success'\n",
      "[2020-04-13 05:51:00,188] INFO - prefect.TaskRunner | Task 'extract_valid_data': finished task run for task with final state: 'Success'\n",
      "[2020-04-13 05:51:00,228] INFO - prefect.TaskRunner | Task 'fit_categorical_imputer': Starting task run...\n",
      "[2020-04-13 05:51:00,240] INFO - prefect.TaskRunner | Task 'fit_target_transformer': Starting task run...\n",
      "[2020-04-13 05:51:00,241] INFO - prefect.TaskRunner | Task 'fit_numeric_imputer': Starting task run...\n",
      "[2020-04-13 05:51:00,265] INFO - prefect.TaskRunner | Task 'fit_numeric_imputer': finished task run for task with final state: 'Success'\n",
      "[2020-04-13 05:51:00,316] INFO - prefect.TaskRunner | Task 'impute_numeric_df': Starting task run...\n",
      "[2020-04-13 05:51:00,319] INFO - prefect.TaskRunner | Task 'impute_numeric_df': Starting task run...\n",
      "[2020-04-13 05:51:00,334] INFO - prefect.TaskRunner | Task 'impute_numeric_df': finished task run for task with final state: 'Success'\n",
      "[2020-04-13 05:51:00,344] INFO - prefect.TaskRunner | Task 'impute_numeric_df': finished task run for task with final state: 'Success'\n",
      "[2020-04-13 05:51:00,361] INFO - prefect.TaskRunner | Task 'fit_target_transformer': finished task run for task with final state: 'Success'\n",
      "[2020-04-13 05:51:00,370] INFO - prefect.TaskRunner | Task 'fit_categorical_imputer': finished task run for task with final state: 'Success'\n",
      "[2020-04-13 05:51:00,403] INFO - prefect.TaskRunner | Task 'transform_target': Starting task run...\n",
      "[2020-04-13 05:51:00,416] INFO - prefect.TaskRunner | Task 'transform_target': Starting task run...\n",
      "[2020-04-13 05:51:00,434] INFO - prefect.TaskRunner | Task 'fit_yeo_johnson_transformer': Starting task run...\n",
      "[2020-04-13 05:51:00,457] INFO - prefect.TaskRunner | Task 'transform_target': finished task run for task with final state: 'Success'\n",
      "[2020-04-13 05:51:00,471] INFO - prefect.TaskRunner | Task 'transform_categorical_data': Starting task run...\n",
      "[2020-04-13 05:51:00,472] INFO - prefect.TaskRunner | Task 'transform_categorical_data': Starting task run...\n",
      "[2020-04-13 05:51:00,479] INFO - prefect.TaskRunner | Task 'transform_target': finished task run for task with final state: 'Success'\n",
      "[2020-04-13 05:51:00,504] INFO - prefect.TaskRunner | Task 'save_data': Starting task run...\n",
      "[2020-04-13 05:51:00,584] INFO - prefect.TaskRunner | Task 'save_data': finished task run for task with final state: 'Success'\n",
      "[2020-04-13 05:51:00,590] INFO - prefect.TaskRunner | Task 'transform_categorical_data': finished task run for task with final state: 'Success'\n",
      "[2020-04-13 05:51:00,593] INFO - prefect.TaskRunner | Task 'transform_categorical_data': finished task run for task with final state: 'Success'\n",
      "[2020-04-13 05:51:00,614] INFO - prefect.TaskRunner | Task 'save_data': Starting task run...\n",
      "[2020-04-13 05:51:00,630] INFO - prefect.TaskRunner | Task 'save_data': finished task run for task with final state: 'Success'\n",
      "[2020-04-13 05:51:00,648] INFO - prefect.TaskRunner | Task 'fit_target_encoder': Starting task run...\n"
     ]
    },
    {
     "name": "stderr",
     "output_type": "stream",
     "text": [
      "e:\\projects\\crawto\\.venv\\lib\\site-packages\\sklearn\\preprocessing\\_data.py:2982: RuntimeWarning: divide by zero encountered in log\n",
      "  loglike = -n_samples / 2 * np.log(x_trans.var())\n",
      "e:\\projects\\crawto\\.venv\\lib\\site-packages\\sklearn\\preprocessing\\_data.py:2982: RuntimeWarning: divide by zero encountered in log\n",
      "  loglike = -n_samples / 2 * np.log(x_trans.var())\n"
     ]
    },
    {
     "name": "stdout",
     "output_type": "stream",
     "text": [
      "[2020-04-13 05:51:01,375] INFO - prefect.TaskRunner | Task 'fit_target_encoder': finished task run for task with final state: 'Success'\n",
      "[2020-04-13 05:51:01,404] INFO - prefect.TaskRunner | Task 'target_encoder_transform': Starting task run...\n",
      "[2020-04-13 05:51:01,409] INFO - prefect.TaskRunner | Task 'target_encoder_transform': Starting task run...\n",
      "[2020-04-13 05:51:01,579] INFO - prefect.TaskRunner | Task 'fit_yeo_johnson_transformer': finished task run for task with final state: 'Success'\n",
      "[2020-04-13 05:51:01,625] INFO - prefect.TaskRunner | Task 'transform_yeo_johnson_transformer': Starting task run...\n",
      "[2020-04-13 05:51:01,627] INFO - prefect.TaskRunner | Task 'transform_yeo_johnson_transformer': Starting task run...\n",
      "[2020-04-13 05:51:01,648] INFO - prefect.TaskRunner | Task 'transform_yeo_johnson_transformer': finished task run for task with final state: 'Success'\n",
      "[2020-04-13 05:51:01,676] INFO - prefect.TaskRunner | Task 'transform_yeo_johnson_transformer': finished task run for task with final state: 'Success'\n",
      "[2020-04-13 05:51:01,699] INFO - prefect.TaskRunner | Task 'target_encoder_transform': finished task run for task with final state: 'Success'\n",
      "[2020-04-13 05:51:01,701] INFO - prefect.TaskRunner | Task 'target_encoder_transform': finished task run for task with final state: 'Success'\n",
      "[2020-04-13 05:51:01,724] INFO - prefect.TaskRunner | Task 'merge_transformed_data': Starting task run...\n",
      "[2020-04-13 05:51:01,736] INFO - prefect.TaskRunner | Task 'merge_transformed_data': Starting task run...\n",
      "[2020-04-13 05:51:01,755] INFO - prefect.TaskRunner | Task 'merge_transformed_data': finished task run for task with final state: 'Success'\n",
      "[2020-04-13 05:51:01,756] INFO - prefect.TaskRunner | Task 'merge_transformed_data': finished task run for task with final state: 'Success'\n",
      "[2020-04-13 05:51:01,774] INFO - prefect.TaskRunner | Task 'fit_hbos_transformer': Starting task run...\n",
      "[2020-04-13 05:51:03,185] INFO - prefect.TaskRunner | Task 'fit_hbos_transformer': finished task run for task with final state: 'Success'\n",
      "[2020-04-13 05:51:03,219] INFO - prefect.TaskRunner | Task 'hbos_transform': Starting task run...\n",
      "[2020-04-13 05:51:03,219] INFO - prefect.TaskRunner | Task 'hbos_transform': Starting task run...\n",
      "[2020-04-13 05:51:03,228] INFO - prefect.TaskRunner | Task 'hbos_transform': finished task run for task with final state: 'Success'\n",
      "[2020-04-13 05:51:03,237] INFO - prefect.TaskRunner | Task 'hbos_transform': finished task run for task with final state: 'Success'\n",
      "[2020-04-13 05:51:03,267] INFO - prefect.TaskRunner | Task 'merge_hbos_df': Starting task run...\n",
      "[2020-04-13 05:51:03,273] INFO - prefect.TaskRunner | Task 'merge_hbos_df': Starting task run...\n",
      "[2020-04-13 05:51:03,281] INFO - prefect.TaskRunner | Task 'merge_hbos_df': finished task run for task with final state: 'Success'\n",
      "[2020-04-13 05:51:03,289] INFO - prefect.TaskRunner | Task 'merge_hbos_df': finished task run for task with final state: 'Success'\n",
      "[2020-04-13 05:51:03,306] INFO - prefect.TaskRunner | Task 'save_data': Starting task run...\n",
      "[2020-04-13 05:51:03,324] INFO - prefect.TaskRunner | Task 'save_data': Starting task run...\n",
      "[2020-04-13 05:51:03,347] INFO - prefect.TaskRunner | Task 'save_data': finished task run for task with final state: 'Success'\n",
      "[2020-04-13 05:51:03,362] INFO - prefect.TaskRunner | Task 'save_data': finished task run for task with final state: 'Success'\n",
      "[2020-04-13 05:51:05,429] INFO - prefect.FlowRunner | Flow run SUCCESS: all reference tasks succeeded\n"
     ]
    }
   ],
   "source": [
    "executor = DaskExecutor()\n",
    "data_cleaner = data_cleaning_flow.run(\n",
    "    input_data= input_df, \n",
    "    problem=\"regression\", \n",
    "    target = \"SalePrice\", \n",
    "    features = \"infer\",\n",
    "    executor=executor\n",
    ")"
   ]
  },
  {
   "cell_type": "code",
   "execution_count": 6,
   "metadata": {},
   "outputs": [
    {
     "name": "stdout",
     "output_type": "stream",
     "text": [
      "[2020-04-13 05:51:05,520] INFO - prefect.FlowRunner | Beginning Flow run for 'meta_model_flow'\n",
      "[2020-04-13 05:51:05,524] INFO - prefect.FlowRunner | Starting flow run.\n",
      "[2020-04-13 05:51:05,680] INFO - prefect.TaskRunner | Task 'train_data': Starting task run...\n",
      "[2020-04-13 05:51:05,694] INFO - prefect.TaskRunner | Task 'train_data': finished task run for task with final state: 'Success'\n",
      "[2020-04-13 05:51:05,721] INFO - prefect.TaskRunner | Task 'tinydb': Starting task run...\n",
      "[2020-04-13 05:51:05,743] INFO - prefect.TaskRunner | Task 'use_default_models': Starting task run...\n",
      "[2020-04-13 05:51:05,797] INFO - prefect.TaskRunner | Task 'problem': Starting task run...\n",
      "[2020-04-13 05:51:05,805] INFO - prefect.TaskRunner | Task 'valid_data': Starting task run...\n",
      "[2020-04-13 05:51:05,828] INFO - prefect.TaskRunner | Task 'tinydb': finished task run for task with final state: 'Success'\n",
      "[2020-04-13 05:51:05,830] INFO - prefect.TaskRunner | Task 'train_target': Starting task run...\n",
      "[2020-04-13 05:51:05,833] INFO - prefect.TaskRunner | Task 'load_data': Starting task run...\n",
      "[2020-04-13 05:51:05,842] INFO - prefect.TaskRunner | Task 'use_default_models': finished task run for task with final state: 'Success'\n",
      "[2020-04-13 05:51:05,851] INFO - prefect.TaskRunner | Task 'problem': finished task run for task with final state: 'Success'\n",
      "[2020-04-13 05:51:05,858] INFO - prefect.TaskRunner | Task 'valid_data': finished task run for task with final state: 'Success'\n",
      "[2020-04-13 05:51:05,874] INFO - prefect.TaskRunner | Task 'load_tinydb': Starting task run...\n",
      "[2020-04-13 05:51:05,884] INFO - prefect.TaskRunner | Task 'train_target': finished task run for task with final state: 'Success'\n",
      "[2020-04-13 05:51:05,913] INFO - prefect.TaskRunner | Task 'load_data': finished task run for task with final state: 'Success'\n",
      "[2020-04-13 05:51:05,914] INFO - prefect.TaskRunner | Task 'load_data': Starting task run...\n",
      "[2020-04-13 05:51:05,933] INFO - prefect.TaskRunner | Task 'load_tinydb': finished task run for task with final state: 'Success'\n",
      "[2020-04-13 05:51:05,942] INFO - prefect.TaskRunner | Task 'load_data': Starting task run...\n",
      "[2020-04-13 05:51:05,959] INFO - prefect.TaskRunner | Task 'init_meta_model': Starting task run...\n",
      "[2020-04-13 05:51:05,967] INFO - prefect.TaskRunner | Task 'load_data': finished task run for task with final state: 'Success'\n",
      "[2020-04-13 05:51:05,975] INFO - prefect.TaskRunner | Task 'load_data': finished task run for task with final state: 'Success'\n",
      "[2020-04-13 05:51:05,981] INFO - prefect.TaskRunner | Task 'init_meta_model': finished task run for task with final state: 'Success'\n",
      "[2020-04-13 05:51:06,001] INFO - prefect.TaskRunner | Task 'get_models': Starting task run...\n",
      "[2020-04-13 05:51:06,002] INFO - prefect.Task: get_models | []\n",
      "[2020-04-13 05:51:06,009] INFO - prefect.TaskRunner | Task 'get_models': finished task run for task with final state: 'Success'\n",
      "[2020-04-13 05:51:06,025] INFO - prefect.TaskRunner | Task 'fit_model': Starting task run...\n",
      "[2020-04-13 05:51:06,026] ERROR - prefect.TaskRunner | Task 'fit_model': unexpected error while running task: TypeError(\"Cannot map over unsubscriptable object of type <class 'NoneType'>: None...\")\n",
      "Traceback (most recent call last):\n",
      "  File \"e:\\projects\\crawto\\.venv\\lib\\site-packages\\prefect\\engine\\task_runner.py\", line 253, in run\n",
      "    state = self.run_mapped_task(\n",
      "  File \"e:\\projects\\crawto\\.venv\\lib\\site-packages\\prefect\\engine\\task_runner.py\", line 718, in run_mapped_task\n",
      "    raise TypeError(\n",
      "TypeError: Cannot map over unsubscriptable object of type <class 'NoneType'>: None...\n",
      "[2020-04-13 05:51:06,035] INFO - prefect.TaskRunner | Task 'fit_model': finished task run for task with final state: 'Failed'\n",
      "[2020-04-13 05:51:06,051] INFO - prefect.TaskRunner | Task 'predict_model': Starting task run...\n",
      "[2020-04-13 05:51:06,052] ERROR - prefect.TaskRunner | Task 'predict_model': unexpected error while running task: TypeError(\"Cannot map over unsubscriptable object of type <class 'TypeError'>: TypeError(...\")\n",
      "Traceback (most recent call last):\n",
      "  File \"e:\\projects\\crawto\\.venv\\lib\\site-packages\\prefect\\engine\\task_runner.py\", line 253, in run\n",
      "    state = self.run_mapped_task(\n",
      "  File \"e:\\projects\\crawto\\.venv\\lib\\site-packages\\prefect\\engine\\task_runner.py\", line 718, in run_mapped_task\n",
      "    raise TypeError(\n",
      "TypeError: Cannot map over unsubscriptable object of type <class 'TypeError'>: TypeError(...\n",
      "[2020-04-13 05:51:06,060] INFO - prefect.TaskRunner | Task 'predict_model': finished task run for task with final state: 'Failed'\n",
      "[2020-04-13 05:51:08,080] INFO - prefect.FlowRunner | Flow run FAILED: some reference tasks failed.\n"
     ]
    }
   ],
   "source": [
    "from meta_model import MetaModel, meta_model_flow\n",
    "executor = DaskExecutor()\n",
    "meta_model_run = meta_model_flow.run(\n",
    "    train_data = \"transformed_train.df\",\n",
    "    valid_data = \"transformed_valid.df\",\n",
    "    train_target = \"train_target.df\",\n",
    "    tinydb = \"db.json\",\n",
    "    problem = \"binary classification\",\n",
    "    executor = executor,\n",
    "   \n",
    ")"
   ]
  },
  {
   "cell_type": "code",
   "execution_count": 7,
   "metadata": {},
   "outputs": [
    {
     "ename": "NameError",
     "evalue": "name 'meta_model' is not defined",
     "output_type": "error",
     "traceback": [
      "\u001b[1;31m---------------------------------------------------------------------------\u001b[0m",
      "\u001b[1;31mNameError\u001b[0m                                 Traceback (most recent call last)",
      "\u001b[1;32m<ipython-input-7-a679600787ae>\u001b[0m in \u001b[0;36m<module>\u001b[1;34m\u001b[0m\n\u001b[1;32m----> 1\u001b[1;33m \u001b[0mdir\u001b[0m\u001b[1;33m(\u001b[0m\u001b[0mmeta_model\u001b[0m\u001b[1;33m)\u001b[0m\u001b[1;33m\u001b[0m\u001b[1;33m\u001b[0m\u001b[0m\n\u001b[0m",
      "\u001b[1;31mNameError\u001b[0m: name 'meta_model' is not defined"
     ]
    }
   ],
   "source": [
    "dir(meta_model)"
   ]
  },
  {
   "cell_type": "code",
   "execution_count": null,
   "metadata": {},
   "outputs": [],
   "source": [
    "with Flow(\"data_visualization\") as flow:\n",
    "    transformed_train_df = pd.read_feather(\"transformed_train.df\")\n",
    "    transformed_valid_df = pd.read_feather(\"transformed_valid.df\")\n",
    "    svd = fit_svd(transformed_train_df)\n",
    "    svd_train = svd_transform(svd, transformed_train_df, \"transformed_train_df\",tinydb)\n",
    "    svd_valid = svd_transform(svd, transformed_valid_df, \"transformed_valid_df\",tinydb)\n",
    "    "
   ]
  },
  {
   "cell_type": "code",
   "execution_count": null,
   "metadata": {
    "scrolled": false
   },
   "outputs": [],
   "source": [
    "#flow.visualize(flow_state=flow_state)"
   ]
  },
  {
   "cell_type": "code",
   "execution_count": null,
   "metadata": {},
   "outputs": [],
   "source": [
    "from tinydb import TinyDB, Query\n",
    "db = TinyDB(\"db.json\")\n",
    "db.all()"
   ]
  },
  {
   "cell_type": "code",
   "execution_count": null,
   "metadata": {},
   "outputs": [],
   "source": [
    "q = Query()\n",
    "r = db.search(q.chunk == \"svdname\")"
   ]
  },
  {
   "cell_type": "code",
   "execution_count": null,
   "metadata": {},
   "outputs": [],
   "source": [
    "dir(q.chunk"
   ]
  },
  {
   "cell_type": "code",
   "execution_count": null,
   "metadata": {},
   "outputs": [],
   "source": [
    "flow._sorted_tasks()[38]"
   ]
  },
  {
   "cell_type": "code",
   "execution_count": null,
   "metadata": {},
   "outputs": [],
   "source": [
    "dir(flow._sorted_tasks()[38])"
   ]
  },
  {
   "cell_type": "code",
   "execution_count": null,
   "metadata": {},
   "outputs": [],
   "source": []
  }
 ],
 "metadata": {
  "@webio": {
   "lastCommId": null,
   "lastKernelId": null
  },
  "kernel_info": {
   "name": "python3"
  },
  "kernelspec": {
   "display_name": "Python 3",
   "language": "python",
   "name": "python3"
  },
  "language_info": {
   "codemirror_mode": {
    "name": "ipython",
    "version": 3
   },
   "file_extension": ".py",
   "mimetype": "text/x-python",
   "name": "python",
   "nbconvert_exporter": "python",
   "pygments_lexer": "ipython3",
   "version": "3.8.2"
  },
  "nteract": {
   "version": "0.22.4"
  }
 },
 "nbformat": 4,
 "nbformat_minor": 4
}

{
 "cells": [
  {
   "cell_type": "code",
   "execution_count": 1,
   "metadata": {},
   "outputs": [],
   "source": [
    "#!pipenv install blackcellmagic --dev"
   ]
  },
  {
   "cell_type": "code",
   "execution_count": 2,
   "metadata": {},
   "outputs": [],
   "source": [
    "%load_ext blackcellmagic"
   ]
  },
  {
   "cell_type": "code",
   "execution_count": 3,
   "metadata": {},
   "outputs": [],
   "source": [
    "import pandas as pd\n",
    "df = pd.read_csv(\"daily.csv\")"
   ]
  },
  {
   "cell_type": "code",
   "execution_count": 4,
   "metadata": {},
   "outputs": [
    {
     "data": {
      "text/plain": [
       "array(['Total', 'PRCP', 'SNOW', 'SNWD', 'TMAX', 'TMIN', 'AWND', 'WDF2',\n",
       "       'WSF2'], dtype=object)"
      ]
     },
     "execution_count": 4,
     "metadata": {},
     "output_type": "execute_result"
    }
   ],
   "source": [
    "df =df.set_index(\"Unnamed: 0\")\n",
    "df.columns.values"
   ]
  },
  {
   "cell_type": "code",
   "execution_count": 5,
   "metadata": {},
   "outputs": [
    {
     "data": {
      "text/html": [
       "<div>\n",
       "<style scoped>\n",
       "    .dataframe tbody tr th:only-of-type {\n",
       "        vertical-align: middle;\n",
       "    }\n",
       "\n",
       "    .dataframe tbody tr th {\n",
       "        vertical-align: top;\n",
       "    }\n",
       "\n",
       "    .dataframe thead th {\n",
       "        text-align: right;\n",
       "    }\n",
       "</style>\n",
       "<table border=\"1\" class=\"dataframe\">\n",
       "  <thead>\n",
       "    <tr style=\"text-align: right;\">\n",
       "      <th></th>\n",
       "      <th>Total</th>\n",
       "      <th>PRCP</th>\n",
       "      <th>SNOW</th>\n",
       "      <th>SNWD</th>\n",
       "      <th>TMAX</th>\n",
       "      <th>TMIN</th>\n",
       "      <th>AWND</th>\n",
       "      <th>WDF2</th>\n",
       "      <th>WSF2</th>\n",
       "    </tr>\n",
       "    <tr>\n",
       "      <th>Unnamed: 0</th>\n",
       "      <th></th>\n",
       "      <th></th>\n",
       "      <th></th>\n",
       "      <th></th>\n",
       "      <th></th>\n",
       "      <th></th>\n",
       "      <th></th>\n",
       "      <th></th>\n",
       "      <th></th>\n",
       "    </tr>\n",
       "  </thead>\n",
       "  <tbody>\n",
       "    <tr>\n",
       "      <th>2012-10-03</th>\n",
       "      <td>3521.0</td>\n",
       "      <td>0</td>\n",
       "      <td>0</td>\n",
       "      <td>0</td>\n",
       "      <td>189</td>\n",
       "      <td>78</td>\n",
       "      <td>73</td>\n",
       "      <td>10</td>\n",
       "      <td>103</td>\n",
       "    </tr>\n",
       "    <tr>\n",
       "      <th>2012-10-04</th>\n",
       "      <td>3475.0</td>\n",
       "      <td>0</td>\n",
       "      <td>0</td>\n",
       "      <td>0</td>\n",
       "      <td>189</td>\n",
       "      <td>83</td>\n",
       "      <td>65</td>\n",
       "      <td>20</td>\n",
       "      <td>94</td>\n",
       "    </tr>\n",
       "    <tr>\n",
       "      <th>2012-10-05</th>\n",
       "      <td>3148.0</td>\n",
       "      <td>0</td>\n",
       "      <td>0</td>\n",
       "      <td>0</td>\n",
       "      <td>217</td>\n",
       "      <td>89</td>\n",
       "      <td>57</td>\n",
       "      <td>360</td>\n",
       "      <td>80</td>\n",
       "    </tr>\n",
       "    <tr>\n",
       "      <th>2012-10-06</th>\n",
       "      <td>2006.0</td>\n",
       "      <td>0</td>\n",
       "      <td>0</td>\n",
       "      <td>0</td>\n",
       "      <td>239</td>\n",
       "      <td>78</td>\n",
       "      <td>51</td>\n",
       "      <td>20</td>\n",
       "      <td>76</td>\n",
       "    </tr>\n",
       "    <tr>\n",
       "      <th>2012-10-07</th>\n",
       "      <td>2142.0</td>\n",
       "      <td>0</td>\n",
       "      <td>0</td>\n",
       "      <td>0</td>\n",
       "      <td>239</td>\n",
       "      <td>78</td>\n",
       "      <td>13</td>\n",
       "      <td>30</td>\n",
       "      <td>54</td>\n",
       "    </tr>\n",
       "  </tbody>\n",
       "</table>\n",
       "</div>"
      ],
      "text/plain": [
       "             Total  PRCP  SNOW  SNWD  TMAX  TMIN  AWND  WDF2  WSF2\n",
       "Unnamed: 0                                                        \n",
       "2012-10-03  3521.0     0     0     0   189    78    73    10   103\n",
       "2012-10-04  3475.0     0     0     0   189    83    65    20    94\n",
       "2012-10-05  3148.0     0     0     0   217    89    57   360    80\n",
       "2012-10-06  2006.0     0     0     0   239    78    51    20    76\n",
       "2012-10-07  2142.0     0     0     0   239    78    13    30    54"
      ]
     },
     "execution_count": 5,
     "metadata": {},
     "output_type": "execute_result"
    }
   ],
   "source": [
    "df.head()"
   ]
  },
  {
   "cell_type": "code",
   "execution_count": 6,
   "metadata": {},
   "outputs": [],
   "source": [
    "import seaborn\n",
    "import matplotlib.pyplot as plt"
   ]
  },
  {
   "cell_type": "code",
   "execution_count": 7,
   "metadata": {},
   "outputs": [
    {
     "name": "stdout",
     "output_type": "stream",
     "text": [
      "float64\n"
     ]
    }
   ],
   "source": [
    "print(df[\"Total\"].dtypes)"
   ]
  },
  {
   "cell_type": "code",
   "execution_count": null,
   "metadata": {},
   "outputs": [],
   "source": [
    "class CrawtoML:\n",
    "    import pandas as pd\n",
    "    import seaborn\n",
    "\n",
    "    \"\"\"\n",
    "    import pandas\n",
    "    pandas.DataFrame\n",
    "    \"\"\"\n",
    "\n",
    "    def __init__(self, data, target, features):\n",
    "        self.data = data\n",
    "        self.target = target\n",
    "        self.features = features\n",
    "        self.numeric_columns = self.numerics()\n",
    "\n",
    "    def numerics(self):\n",
    "        numerics = []\n",
    "        for i in self.features:\n",
    "            if self.data[i].dtypes in [\"int64\", \"float64\"]:\n",
    "                numerics.append(i)\n",
    "        self.numeric_columns = numerics\n",
    "        return self.numeric_columns\n",
    "\n",
    "    def other_types(self):\n",
    "        others = [i for i in self.features if i not in self.numeric_columns]\n",
    "        self.other_types = others\n",
    "        return self.other_types\n",
    "\n",
    "    def __repr__(self):\n",
    "        return \"Target Column: %s \\n \\\n",
    "        Feature columns: %s\\n \\\n",
    "        Numeric Columns: %s\"(\n",
    "            self.target, self.features, self.numeric_columns\n",
    "        )\n",
    "\n",
    "    def correlation_report(self):\n",
    "        seaborn.heatmap(self.data[self.numeric_columns].corr())\n",
    "\n",
    "    def distribution_report(self):\n",
    "        seaborn.distplot(self.data[self.target])\n",
    "        seaborn.PairGrid(self.data, x_vars=self.features, y_vars=self.target).map(\n",
    "            seaborn.scatterplot\n",
    "        )\n",
    "\n",
    "    def distribution_r(self):\n",
    "        import pandas\n",
    "\n",
    "        return pandas.DataFrame(\n",
    "            [self.distribution_fit(self.data, i) for i in self.numeric_columns],\n",
    "            index=self.numeric_columns,\n",
    "        )\n",
    "\n",
    "    def distribution_fit(self, data, numeric_column):\n",
    "        from scipy.stats import shapiro\n",
    "\n",
    "        \"\"\"\n",
    "        x is a column_name\n",
    "        \"\"\"\n",
    "        shapiro_values = shapiro(data[numeric_column])\n",
    "        test_indication = True if shapiro_values[1] > 0.05 else False\n",
    "\n",
    "        distribution_types = [\"norm\", \"expon\", \"logistic\", \"gumbel\"]\n",
    "        # anderson_values = anderson(automl.data[numeric_column], dist=i)\n",
    "\n",
    "        return {\n",
    "            \"Shapiro-Wilks_Test_Statistic\": shapiro_values[0],\n",
    "            \"Shapiro-Wilks_p_Value\": shapiro_values[1],\n",
    "            \"Does the Shapiro-Wilks Test indicate the data is normally distributed\": test_indication\n",
    "            # \"Anderson_Darling_Test_Statistic_Normal\": anderson_values[0][0],\n",
    "        }"
   ]
  },
  {
   "cell_type": "code",
   "execution_count": null,
   "metadata": {},
   "outputs": [],
   "source": []
  },
  {
   "cell_type": "code",
   "execution_count": 22,
   "metadata": {},
   "outputs": [],
   "source": [
    "automl = CrawtoML(\n",
    "    data=df,\n",
    "    target=\"Total\",\n",
    "    features=[\"PRCP\", \"SNOW\", \"SNWD\", \"TMAX\", \"TMIN\", \"AWND\", \"WDF2\", \"WSF2\"],\n",
    ")"
   ]
  },
  {
   "cell_type": "code",
   "execution_count": 23,
   "metadata": {},
   "outputs": [
    {
     "data": {
      "text/html": [
       "<div>\n",
       "<style scoped>\n",
       "    .dataframe tbody tr th:only-of-type {\n",
       "        vertical-align: middle;\n",
       "    }\n",
       "\n",
       "    .dataframe tbody tr th {\n",
       "        vertical-align: top;\n",
       "    }\n",
       "\n",
       "    .dataframe thead th {\n",
       "        text-align: right;\n",
       "    }\n",
       "</style>\n",
       "<table border=\"1\" class=\"dataframe\">\n",
       "  <thead>\n",
       "    <tr style=\"text-align: right;\">\n",
       "      <th></th>\n",
       "      <th>Does the test indicate the data is normally distributed</th>\n",
       "      <th>Shapiro_Wilks_Test_Statistic</th>\n",
       "      <th>Shapiro_Wilks_p_Value</th>\n",
       "    </tr>\n",
       "  </thead>\n",
       "  <tbody>\n",
       "    <tr>\n",
       "      <th>PRCP</th>\n",
       "      <td>False</td>\n",
       "      <td>0.512445</td>\n",
       "      <td>0.000000e+00</td>\n",
       "    </tr>\n",
       "    <tr>\n",
       "      <th>SNOW</th>\n",
       "      <td>False</td>\n",
       "      <td>0.034132</td>\n",
       "      <td>0.000000e+00</td>\n",
       "    </tr>\n",
       "    <tr>\n",
       "      <th>SNWD</th>\n",
       "      <td>False</td>\n",
       "      <td>0.016631</td>\n",
       "      <td>0.000000e+00</td>\n",
       "    </tr>\n",
       "    <tr>\n",
       "      <th>TMAX</th>\n",
       "      <td>False</td>\n",
       "      <td>0.974404</td>\n",
       "      <td>9.219777e-13</td>\n",
       "    </tr>\n",
       "    <tr>\n",
       "      <th>TMIN</th>\n",
       "      <td>False</td>\n",
       "      <td>0.982076</td>\n",
       "      <td>3.608829e-10</td>\n",
       "    </tr>\n",
       "    <tr>\n",
       "      <th>AWND</th>\n",
       "      <td>False</td>\n",
       "      <td>0.022841</td>\n",
       "      <td>0.000000e+00</td>\n",
       "    </tr>\n",
       "    <tr>\n",
       "      <th>WDF2</th>\n",
       "      <td>False</td>\n",
       "      <td>0.162072</td>\n",
       "      <td>0.000000e+00</td>\n",
       "    </tr>\n",
       "    <tr>\n",
       "      <th>WSF2</th>\n",
       "      <td>False</td>\n",
       "      <td>0.034695</td>\n",
       "      <td>0.000000e+00</td>\n",
       "    </tr>\n",
       "  </tbody>\n",
       "</table>\n",
       "</div>"
      ],
      "text/plain": [
       "      Does the test indicate the data is normally distributed  \\\n",
       "PRCP                                              False         \n",
       "SNOW                                              False         \n",
       "SNWD                                              False         \n",
       "TMAX                                              False         \n",
       "TMIN                                              False         \n",
       "AWND                                              False         \n",
       "WDF2                                              False         \n",
       "WSF2                                              False         \n",
       "\n",
       "      Shapiro_Wilks_Test_Statistic  Shapiro_Wilks_p_Value  \n",
       "PRCP                      0.512445           0.000000e+00  \n",
       "SNOW                      0.034132           0.000000e+00  \n",
       "SNWD                      0.016631           0.000000e+00  \n",
       "TMAX                      0.974404           9.219777e-13  \n",
       "TMIN                      0.982076           3.608829e-10  \n",
       "AWND                      0.022841           0.000000e+00  \n",
       "WDF2                      0.162072           0.000000e+00  \n",
       "WSF2                      0.034695           0.000000e+00  "
      ]
     },
     "execution_count": 23,
     "metadata": {},
     "output_type": "execute_result"
    }
   ],
   "source": [
    "automl.distribution_r()"
   ]
  },
  {
   "cell_type": "code",
   "execution_count": null,
   "metadata": {},
   "outputs": [],
   "source": []
  },
  {
   "cell_type": "code",
   "execution_count": null,
   "metadata": {},
   "outputs": [],
   "source": [
    "from scipy.stats import anderson"
   ]
  },
  {
   "cell_type": "code",
   "execution_count": null,
   "metadata": {},
   "outputs": [],
   "source": [
    "distribution_types = ['norm','expon','logistic','gumbel']"
   ]
  },
  {
   "cell_type": "code",
   "execution_count": null,
   "metadata": {},
   "outputs": [],
   "source": []
  },
  {
   "cell_type": "code",
   "execution_count": null,
   "metadata": {},
   "outputs": [],
   "source": [
    "l = []\n",
    "for i in distribution_types:\n",
    "    l.append(anderson(automl.data[automl.numeric_columns[0]], dist=i))"
   ]
  },
  {
   "cell_type": "code",
   "execution_count": null,
   "metadata": {},
   "outputs": [],
   "source": [
    "l"
   ]
  },
  {
   "cell_type": "code",
   "execution_count": null,
   "metadata": {},
   "outputs": [],
   "source": [
    "l[0][0]"
   ]
  },
  {
   "cell_type": "code",
   "execution_count": null,
   "metadata": {},
   "outputs": [],
   "source": [
    "def distribution_fit(data, numeric_column):\n",
    "        from scipy.stats import shapiro\n",
    "\n",
    "        \"\"\"\n",
    "        x is a column_name\n",
    "        \"\"\"\n",
    "        shapiro_values = shapiro(data[numeric_column])\n",
    "        test_indication = True if shapiro_values[1] > 0.05 else False\n",
    "\n",
    "        distribution_types = [\"norm\", \"expon\", \"logistic\", \"gumbel\"]\n",
    "        # anderson_values = anderson(automl.data[numeric_column], dist=i)\n",
    "\n",
    "        return {\n",
    "            \"Shapiro_Wilks_Test_Statistic\": shapiro_values[0],\n",
    "            \"Shapiro_Wilks_p_Value\": shapiro_values[1],\n",
    "            \"Does the test indicate the data is normally distributed\": test_indication\n",
    "            # \"Anderson_Darling_Test_Statistic_Normal\": anderson_values[0][0],\n",
    "        }"
   ]
  },
  {
   "cell_type": "code",
   "execution_count": null,
   "metadata": {},
   "outputs": [],
   "source": [
    "distribution_fit(automl.data,automl.numeric_columns[0])"
   ]
  },
  {
   "cell_type": "code",
   "execution_count": null,
   "metadata": {},
   "outputs": [],
   "source": [
    "from scipy.stats import probplot\n",
    "import matplotlib.pyplot as plt\n",
    "probplot(automl.data[automl.features[1]], plot=plt)"
   ]
  },
  {
   "cell_type": "code",
   "execution_count": null,
   "metadata": {},
   "outputs": [],
   "source": []
  },
  {
   "cell_type": "code",
   "execution_count": null,
   "metadata": {},
   "outputs": [],
   "source": []
  },
  {
   "cell_type": "code",
   "execution_count": null,
   "metadata": {},
   "outputs": [],
   "source": []
  },
  {
   "cell_type": "code",
   "execution_count": null,
   "metadata": {},
   "outputs": [],
   "source": [
    "#!pipenv install plotly"
   ]
  },
  {
   "cell_type": "code",
   "execution_count": null,
   "metadata": {},
   "outputs": [],
   "source": [
    "automl.numeric_columns[0]"
   ]
  },
  {
   "cell_type": "code",
   "execution_count": null,
   "metadata": {},
   "outputs": [],
   "source": [
    "import plotly.plotly as py\n",
    "import plotly.graph_objs as go\n",
    "import plotly.figure_factory as ff\n",
    "from plotly.offline import download_plotlyjs, init_notebook_mode, plot, iplot\n",
    "\n",
    "import numpy as np\n",
    "init_notebook_mode(connected=True)\n",
    "\n",
    "x = [automl.data[automl.numeric_columns[0]]]\n",
    "\n",
    "fig = ff.create_distplot(x, [automl.numeric_columns[0]])\n",
    "iplot(fig, filename='Basic Distplot')"
   ]
  },
  {
   "cell_type": "code",
   "execution_count": null,
   "metadata": {},
   "outputs": [],
   "source": []
  },
  {
   "cell_type": "code",
   "execution_count": null,
   "metadata": {},
   "outputs": [],
   "source": []
  }
 ],
 "metadata": {
  "kernelspec": {
   "display_name": "Python 3",
   "language": "python",
   "name": "python3"
  }
 },
 "nbformat": 4,
 "nbformat_minor": 2
}

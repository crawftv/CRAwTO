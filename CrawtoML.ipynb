{
 "cells": [
  {
   "cell_type": "code",
   "execution_count": 1,
   "metadata": {},
   "outputs": [],
   "source": [
    "#!pipenv install blackcellmagic --dev\n",
    "#!pipenv install seaborn"
   ]
  },
  {
   "cell_type": "code",
   "execution_count": 2,
   "metadata": {},
   "outputs": [],
   "source": [
    "%load_ext blackcellmagic"
   ]
  },
  {
   "cell_type": "code",
   "execution_count": 3,
   "metadata": {},
   "outputs": [],
   "source": [
    "import pandas\n",
    "df = pandas.read_csv(\"train.csv\")"
   ]
  },
  {
   "cell_type": "code",
   "execution_count": 4,
   "metadata": {},
   "outputs": [
    {
     "data": {
      "text/plain": [
       "S    644\n",
       "C    168\n",
       "Q     77\n",
       "Name: Embarked, dtype: int64"
      ]
     },
     "execution_count": 4,
     "metadata": {},
     "output_type": "execute_result"
    }
   ],
   "source": [
    "df.Embarked.value_counts()"
   ]
  },
  {
   "cell_type": "code",
   "execution_count": 5,
   "metadata": {},
   "outputs": [],
   "source": [
    "import seaborn\n",
    "import matplotlib.pyplot as plt\n",
    "import numpy as np\n",
    "import re\n",
    "from scipy.stats import shapiro\n",
    "from sklearn.utils.multiclass import unique_labels\n",
    "from sklearn.experimental import enable_iterative_imputer \n",
    "from sklearn.impute import IterativeImputer\n",
    "from scipy.stats import probplot\n",
    "from sklearn.preprocessing import LabelEncoder\n",
    "from category_encoders.target_encoder import TargetEncoder"
   ]
  },
  {
   "cell_type": "code",
   "execution_count": 18,
   "metadata": {},
   "outputs": [],
   "source": [
    "class CrawtoML:\n",
    "    \"\"\"\n",
    "    \"\"\"\n",
    "\n",
    "    def __init__(\n",
    "        self, data, target, features=\"infer\", problem=\"infer\", imputer=\"most_frequent\"\n",
    "    ):\n",
    "        self.data = data\n",
    "        self.target = target\n",
    "        self.nan_features = []\n",
    "        self.categorical_features = []\n",
    "        self.problematic_columns = []\n",
    "        self.numeric_features = []\n",
    "        self.imputed_columns = []\n",
    "        if features == \"infer\":\n",
    "            self.features = list(self.data.columns)\n",
    "            self.features.remove(self.target)\n",
    "        # TODO elif\n",
    "        if problem in [\"classification\", \"regression\"]:\n",
    "            self.problem = problem\n",
    "        else:\n",
    "            # TODO infer\n",
    "            raise Exception(\"problem=infer not implemented\")\n",
    "        self.define_nan_features()\n",
    "        self.imputation()\n",
    "        self.define_numeric_features()\n",
    "        self.define_categorical_features()\n",
    "        self.column_parser()\n",
    "\n",
    "    def define_numeric_features(self):\n",
    "        numeric_features = []\n",
    "        for i in self.features:\n",
    "            if self.data[i].dtypes in [\"int64\", \"float64\"]:\n",
    "                numeric_features.append(i)\n",
    "        return numeric_features\n",
    "\n",
    "    def define_categorical_features(self, threshold=10):\n",
    "        for i in self.features:\n",
    "            if len(self.data[i].value_counts()) < threshold:\n",
    "                self.categorical_features.append(i)\n",
    "                if i in self.numeric_features:\n",
    "                    self.numeric_features.remove(i)\n",
    "\n",
    "    def target_encoder(self):\n",
    "        self.target_encoder = TargetEncoder()\n",
    "        self.target_encoder\n",
    "        pass\n",
    "\n",
    "    def define_nan_features(self):\n",
    "        df = pandas.DataFrame(self.data.isna().sum())\n",
    "        for i in self.features:\n",
    "            if df.loc[i][0] > 0:\n",
    "                self.nan_features.append(i)\n",
    "                self.features.remove(i)\n",
    "\n",
    "    def imputation(self):\n",
    "        # http://www.stat.columbia.edu/~gelman/arm/missing.pandasf\n",
    "        # http://www.feat.engineering/imputation-methods.html#fnref74\n",
    "        for i in self.nan_features:\n",
    "            if self.data[i].dtype == \"O\":\n",
    "                self.data[i] = self.data[i].astype(\"str\")\n",
    "                le = LabelEncoder()\n",
    "                le.fit(self.data[i])\n",
    "                le.transform(self.data[i])\n",
    "                imputer = IterativeImputer()\n",
    "                self.data[f\"imputed_{i}\"] = imputer.fit_transform(\n",
    "                    le.transform(np.array(self.data[i].reshape(-1, 1)))\n",
    "                )\n",
    "                self.imputed_columns.append(i)\n",
    "                print(i)\n",
    "\n",
    "    def other_types(self):\n",
    "        others = [i for i in self.features if i not in self.numeric_columns]\n",
    "        self.other_types = others\n",
    "        return self.other_types\n",
    "\n",
    "    def column_parser(self):\n",
    "        for i in self.features:\n",
    "            if \"Id\" in i:\n",
    "                self.problematic_columns.append(i)\n",
    "            elif \"ID\" in i:\n",
    "                self.problematic_columns.append(i)\n",
    "\n",
    "    def correlation_report(self):\n",
    "        seaborn.heatmap(self.data[self.numeric_features].corr())\n",
    "\n",
    "    def target_distribution_report(self):\n",
    "        if self.problem == \"regression\":\n",
    "            print(seaborn.distplot(self.data[self.target]))\n",
    "        elif self.problem == \"classification\":\n",
    "            print(seaborn.countplot(self.data[self.target]))\n",
    "\n",
    "    def numeric_columns_distribution_report(self):\n",
    "        self.distribution_r()\n",
    "\n",
    "    #         print(\n",
    "    #             seaborn.PairGrid(\n",
    "    #                 self.data, x_vars=self.numeric_columns, y_vars=self.target\n",
    "    #             ).map(seaborn.distplot)\n",
    "    #         )\n",
    "\n",
    "    def distribution_r(self):\n",
    "        display(\n",
    "            pandas.DataFrame(\n",
    "                [\n",
    "                    self.distribution_fit(self.data, i)\n",
    "                    for i in self.numeric_columns + [self.target]\n",
    "                ],\n",
    "                index=self.numeric_columns + [self.target],\n",
    "            )\n",
    "        )\n",
    "\n",
    "    def distribution_fit(self, data, numeric_features):\n",
    "        \"\"\"\n",
    "        x is a column_name\n",
    "        \"\"\"\n",
    "        shapiro_values = shapiro(data[numeric_features])\n",
    "        test_indication = True if shapiro_values[1] > 0.05 else False\n",
    "\n",
    "        distribution_types = [\"norm\", \"expon\", \"logistic\", \"gumbel\"]\n",
    "        # anderson_values = anderson(automl.data[numeric_column], dist=i)\n",
    "\n",
    "        return {\n",
    "            \"Shapiro-Wilks_Test_Statistic\": shapiro_values[0],\n",
    "            \"Shapiro-Wilks_p_Value\": shapiro_values[1],\n",
    "            \"Normal distribution ?\": test_indication\n",
    "            # \"Anderson_Darling_Test_Statistic_Normal\": anderson_values[0][0],\n",
    "        }\n",
    "\n",
    "    def nan_report(self):\n",
    "        display(\n",
    "            pandas.DataFrame(\n",
    "                round((self.data.isna().sum() / self.data.shape[0]) * 100, 2),\n",
    "                columns=[\"Percent of data encoded NAN\"],\n",
    "            )\n",
    "        )\n",
    "\n",
    "    def correlation_report(self, threshold=0.95):\n",
    "        corr_matrix = self.data[[self.target] + self.numeric_features].corr()\n",
    "        upper = corr_matrix.where(\n",
    "            np.triu(np.ones(corr_matrix.shape), k=1).astype(np.bool)\n",
    "        )\n",
    "        highly_correlated_features = [\n",
    "            column for column in upper.columns if any(upper[column] > threshold)\n",
    "        ]\n",
    "        seaborn.heatmap(corr_matrix)\n",
    "        if len(highly_correlated_features) > 0:\n",
    "            print(f\"Highly Correlated features are {highly_correlated_features}\")\n",
    "        else:\n",
    "            print(\"No Features are correlated above the threshold\")\n",
    "\n",
    "    def probability_plots(self):\n",
    "        len_plots = len(self.numeric_features) / 2\n",
    "        fig = plt.figure(figsize=(12, 12))\n",
    "        fig.tight_layout()\n",
    "        for i in range(1, len(self.numeric_features) + 1):\n",
    "            fig.add_subplot(len_plots, 2, i)\n",
    "\n",
    "            probplot(automl.data[self.numeric_features[i - 1]], plot=plt)\n",
    "            plt.subplots_adjust(\n",
    "                left=None, bottom=None, right=None, top=None, wspace=0.35, hspace=0.35\n",
    "            )\n",
    "            plt.title(self.numeric_features[i - 1] + \" Probability Plot\")\n",
    "        plt.show()\n",
    "\n",
    "    def __repr__(self):\n",
    "        return f\"\\tTarget Column: {self.target} \\n\\\n",
    "        Problematic Columns: {self.problematic_columns}\\n\\\n",
    "        Feature Columns: {self.categorical_features}\\n\\\n",
    "        Numeric Columns: {self.numeric_features}\\n\\\n",
    "        Imputed Columns: {self.imputed_columns}\\n\\\n",
    "        NAN Columns:     {self.nan_features}\"\n",
    "\n",
    "\n",
    "#            \"\"\"Saved patterns\"\"\"\n",
    "#  print(seaborn.PairGrid(self.data, x_vars=self.numeric_columns, y_vars=self.target).map(\n",
    "#             seaborn.boxplot\n",
    "#         ))"
   ]
  },
  {
   "cell_type": "code",
   "execution_count": 19,
   "metadata": {},
   "outputs": [],
   "source": [
    "automl = CrawtoML(\n",
    "    data=df,\n",
    "    target=\"Survived\",\n",
    "    problem='classification'\n",
    ")"
   ]
  },
  {
   "cell_type": "code",
   "execution_count": 20,
   "metadata": {},
   "outputs": [
    {
     "data": {
      "text/plain": [
       "\tTarget Column: Survived \n",
       "        Problematic Columns: ['PassengerId']\n",
       "        Feature Columns: ['Pclass', 'Sex', 'SibSp', 'Parch', 'Embarked']\n",
       "        Numeric Columns: []\n",
       "        Imputed Columns: []\n",
       "        NAN Columns:     ['Age']"
      ]
     },
     "execution_count": 20,
     "metadata": {},
     "output_type": "execute_result"
    }
   ],
   "source": [
    "automl"
   ]
  },
  {
   "cell_type": "code",
   "execution_count": 82,
   "metadata": {},
   "outputs": [
    {
     "data": {
      "text/plain": [
       "dtype('O')"
      ]
     },
     "execution_count": 82,
     "metadata": {},
     "output_type": "execute_result"
    }
   ],
   "source": [
    "automl.data.Cabin.dtype"
   ]
  },
  {
   "cell_type": "code",
   "execution_count": 83,
   "metadata": {},
   "outputs": [
    {
     "data": {
      "text/plain": [
       "dtype('O')"
      ]
     },
     "execution_count": 83,
     "metadata": {},
     "output_type": "execute_result"
    }
   ],
   "source": [
    "df[\"Cabin\"].dtype"
   ]
  },
  {
   "cell_type": "code",
   "execution_count": 28,
   "metadata": {},
   "outputs": [
    {
     "data": {
      "text/plain": [
       "['Pclass', 'Sex', 'SibSp', 'Parch', 'Embarked']"
      ]
     },
     "execution_count": 28,
     "metadata": {},
     "output_type": "execute_result"
    }
   ],
   "source": [
    "automl.categorical_features"
   ]
  },
  {
   "cell_type": "code",
   "execution_count": 29,
   "metadata": {},
   "outputs": [
    {
     "data": {
      "text/plain": [
       "<Figure size 864x864 with 0 Axes>"
      ]
     },
     "metadata": {},
     "output_type": "display_data"
    }
   ],
   "source": [
    "automl.probability_plots()"
   ]
  },
  {
   "cell_type": "code",
   "execution_count": 30,
   "metadata": {},
   "outputs": [
    {
     "data": {
      "text/html": [
       "<div>\n",
       "<style scoped>\n",
       "    .dataframe tbody tr th:only-of-type {\n",
       "        vertical-align: middle;\n",
       "    }\n",
       "\n",
       "    .dataframe tbody tr th {\n",
       "        vertical-align: top;\n",
       "    }\n",
       "\n",
       "    .dataframe thead th {\n",
       "        text-align: right;\n",
       "    }\n",
       "</style>\n",
       "<table border=\"1\" class=\"dataframe\">\n",
       "  <thead>\n",
       "    <tr style=\"text-align: right;\">\n",
       "      <th></th>\n",
       "      <th>Percent of data encoded NAN</th>\n",
       "    </tr>\n",
       "  </thead>\n",
       "  <tbody>\n",
       "    <tr>\n",
       "      <th>PassengerId</th>\n",
       "      <td>0.00</td>\n",
       "    </tr>\n",
       "    <tr>\n",
       "      <th>Survived</th>\n",
       "      <td>0.00</td>\n",
       "    </tr>\n",
       "    <tr>\n",
       "      <th>Pclass</th>\n",
       "      <td>0.00</td>\n",
       "    </tr>\n",
       "    <tr>\n",
       "      <th>Name</th>\n",
       "      <td>0.00</td>\n",
       "    </tr>\n",
       "    <tr>\n",
       "      <th>Sex</th>\n",
       "      <td>0.00</td>\n",
       "    </tr>\n",
       "    <tr>\n",
       "      <th>Age</th>\n",
       "      <td>19.87</td>\n",
       "    </tr>\n",
       "    <tr>\n",
       "      <th>SibSp</th>\n",
       "      <td>0.00</td>\n",
       "    </tr>\n",
       "    <tr>\n",
       "      <th>Parch</th>\n",
       "      <td>0.00</td>\n",
       "    </tr>\n",
       "    <tr>\n",
       "      <th>Ticket</th>\n",
       "      <td>0.00</td>\n",
       "    </tr>\n",
       "    <tr>\n",
       "      <th>Fare</th>\n",
       "      <td>0.00</td>\n",
       "    </tr>\n",
       "    <tr>\n",
       "      <th>Cabin</th>\n",
       "      <td>77.10</td>\n",
       "    </tr>\n",
       "    <tr>\n",
       "      <th>Embarked</th>\n",
       "      <td>0.22</td>\n",
       "    </tr>\n",
       "  </tbody>\n",
       "</table>\n",
       "</div>"
      ],
      "text/plain": [
       "             Percent of data encoded NAN\n",
       "PassengerId                         0.00\n",
       "Survived                            0.00\n",
       "Pclass                              0.00\n",
       "Name                                0.00\n",
       "Sex                                 0.00\n",
       "Age                                19.87\n",
       "SibSp                               0.00\n",
       "Parch                               0.00\n",
       "Ticket                              0.00\n",
       "Fare                                0.00\n",
       "Cabin                              77.10\n",
       "Embarked                            0.22"
      ]
     },
     "metadata": {},
     "output_type": "display_data"
    }
   ],
   "source": [
    "automl.nan_report()"
   ]
  },
  {
   "cell_type": "code",
   "execution_count": 31,
   "metadata": {},
   "outputs": [
    {
     "name": "stdout",
     "output_type": "stream",
     "text": [
      "AxesSubplot(0.125,0.125;0.775x0.755)\n"
     ]
    },
    {
     "data": {
      "image/png": "[encoded data removed]",
      "text/plain": [
       "<Figure size 432x288 with 1 Axes>"
      ]
     },
     "metadata": {
      "needs_background": "light"
     },
     "output_type": "display_data"
    }
   ],
   "source": [
    "automl.target_distribution_report()"
   ]
  },
  {
   "cell_type": "code",
   "execution_count": 33,
   "metadata": {},
   "outputs": [
    {
     "name": "stdout",
     "output_type": "stream",
     "text": [
      "No Features are correlated above the threshold\n"
     ]
    },
    {
     "data": {
      "image/png": "[encoded data removed]",
      "text/plain": [
       "<Figure size 432x288 with 2 Axes>"
      ]
     },
     "metadata": {
      "needs_background": "light"
     },
     "output_type": "display_data"
    }
   ],
   "source": [
    "automl.correlation_report()"
   ]
  },
  {
   "cell_type": "markdown",
   "metadata": {},
   "source": [
    "# Experiments"
   ]
  },
  {
   "cell_type": "code",
   "execution_count": null,
   "metadata": {},
   "outputs": [],
   "source": [
    "from scipy.stats import anderson"
   ]
  },
  {
   "cell_type": "code",
   "execution_count": null,
   "metadata": {},
   "outputs": [],
   "source": [
    "distribution_types = ['norm','expon','logistic','gumbel']"
   ]
  },
  {
   "cell_type": "code",
   "execution_count": null,
   "metadata": {},
   "outputs": [],
   "source": [
    "l = []\n",
    "for i in distribution_types:\n",
    "    l.append(anderson(automl.data[automl.numeric_columns[0]], dist=i))"
   ]
  },
  {
   "cell_type": "code",
   "execution_count": null,
   "metadata": {},
   "outputs": [],
   "source": [
    "def distribution_fit(data, numeric_column):\n",
    "        from scipy.stats import shapiro\n",
    "\n",
    "        \"\"\"\n",
    "        x is a column_name\n",
    "        \"\"\"\n",
    "        shapiro_values = shapiro(data[numeric_column])\n",
    "        test_indication = True if shapiro_values[1] > 0.05 else False\n",
    "\n",
    "        distribution_types = [\"norm\", \"expon\", \"logistic\", \"gumbel\"]\n",
    "        # anderson_values = anderson(automl.data[numeric_column], dist=i)\n",
    "\n",
    "        return {\n",
    "            \"Shapiro_Wilks_Test_Statistic\": shapiro_values[0],\n",
    "            \"Shapiro_Wilks_p_Value\": shapiro_values[1],\n",
    "            \"Does the test indicate the data is normally distributed\": test_indication\n",
    "            # \"Anderson_Darling_Test_Statistic_Normal\": anderson_values[0][0],\n",
    "        }"
   ]
  },
  {
   "cell_type": "code",
   "execution_count": null,
   "metadata": {},
   "outputs": [],
   "source": [
    "distribution_fit(automl.data,automl.numeric_columns[0])"
   ]
  },
  {
   "cell_type": "code",
   "execution_count": 24,
   "metadata": {},
   "outputs": [
    {
     "data": {
      "image/png": "[encoded data removed]",
      "text/plain": [
       "<Figure size 432x288 with 1 Axes>"
      ]
     },
     "metadata": {
      "needs_background": "light"
     },
     "output_type": "display_data"
    }
   ],
   "source": [
    "from scipy.stats import probplot\n",
    "import matplotlib.pyplot as plt\n",
    "probplot(automl.data[automl.numeric_columns[2]], plot=plt)\n",
    "plt.title(automl.numeric_columns[2] + ' Probability Plot')\n",
    "plt.show();"
   ]
  },
  {
   "cell_type": "code",
   "execution_count": 44,
   "metadata": {},
   "outputs": [
    {
     "data": {
      "text/plain": [
       "['PassengerId', 'Pclass', 'Age', 'SibSp', 'Parch', 'Fare']"
      ]
     },
     "execution_count": 44,
     "metadata": {},
     "output_type": "execute_result"
    }
   ],
   "source": [
    "automl.numeric_columns"
   ]
  },
  {
   "cell_type": "code",
   "execution_count": 70,
   "metadata": {},
   "outputs": [
    {
     "data": {
      "image/png": "[encoded data removed]",
      "text/plain": [
       "<Figure size 864x864 with 6 Axes>"
      ]
     },
     "metadata": {
      "needs_background": "light"
     },
     "output_type": "display_data"
    }
   ],
   "source": [
    "len_plots = len(automl.numeric_columns)/2\n",
    "fig = plt.figure(figsize=(12, 12))\n",
    "fig.tight_layout()\n",
    "for i in range(1,len(automl.numeric_columns)+1):\n",
    "    #print(f'{int(len_plots)},2,{i}')\n",
    "    fig.add_subplot(len_plots,2,i)\n",
    "   \n",
    "    probplot(automl.data[automl.numeric_columns[i-1]], plot=plt)\n",
    "    plt.subplots_adjust(left=None, bottom=None, right=None, top=None,\n",
    "                wspace=0.35, hspace=0.35)\n",
    "    plt.title(automl.numeric_columns[i-1] + ' Probability Plot')\n",
    "plt.show();"
   ]
  },
  {
   "cell_type": "code",
   "execution_count": null,
   "metadata": {},
   "outputs": [],
   "source": []
  }
 ],
 "metadata": {
  "kernelspec": {
   "display_name": "Python 3",
   "language": "python",
   "name": "python3"
  },
  "language_info": {
   "codemirror_mode": {
    "name": "ipython",
    "version": 3
   },
   "file_extension": ".py",
   "mimetype": "text/x-python",
   "name": "python",
   "nbconvert_exporter": "python",
   "pygments_lexer": "ipython3",
   "version": "3.6.7"
  }
 },
 "nbformat": 4,
 "nbformat_minor": 2
}

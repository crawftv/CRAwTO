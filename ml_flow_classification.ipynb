{
 "cells": [
  {
   "cell_type": "code",
   "execution_count": 1,
   "metadata": {},
   "outputs": [],
   "source": [
    "%load_ext autoreload"
   ]
  },
  {
   "cell_type": "code",
   "execution_count": 2,
   "metadata": {},
   "outputs": [],
   "source": [
    "%autoreload 2"
   ]
  },
  {
   "cell_type": "code",
   "execution_count": 3,
   "metadata": {
    "execution": {
     "iopub.execute_input": "2020-04-11T23:02:42.759Z",
     "iopub.status.busy": "2020-04-11T23:02:42.689Z",
     "iopub.status.idle": "2020-04-11T23:02:52.706Z",
     "shell.execute_reply": "2020-04-11T23:02:52.781Z"
    }
   },
   "outputs": [],
   "source": [
    "from prefect import Flow, Parameter, unmapped\n",
    "import pandas as pd\n",
    "from prefect.engine.executors import DaskExecutor\n",
    "from crawto.ml_flow import data_cleaning_flow\n",
    "from tinydb import TinyDB"
   ]
  },
  {
   "cell_type": "code",
   "execution_count": 4,
   "metadata": {},
   "outputs": [],
   "source": [
    "input_df = pd.read_csv(\"data/titanic/train.csv\")\n",
    "test= pd.read_csv(\"data/titanic/test.csv\")"
   ]
  },
  {
   "cell_type": "code",
   "execution_count": 5,
   "metadata": {
    "scrolled": true
   },
   "outputs": [
    {
     "name": "stdout",
     "output_type": "stream",
     "text": [
      "[2020-04-23 04:59:04,378] INFO - prefect.FlowRunner | Beginning Flow run for 'data_cleaning'\n",
      "[2020-04-23 04:59:04,405] INFO - prefect.FlowRunner | Starting flow run.\n",
      "[2020-04-23 04:59:05,337] INFO - prefect.TaskRunner | Task 'input_data': Starting task run...\n",
      "[2020-04-23 04:59:05,426] INFO - prefect.TaskRunner | Task 'input_data': finished task run for task with final state: 'Success'\n",
      "[2020-04-23 04:59:05,789] INFO - prefect.TaskRunner | Task 'problem': Starting task run...\n",
      "[2020-04-23 04:59:05,805] INFO - prefect.TaskRunner | Task 'target': Starting task run...\n",
      "[2020-04-23 04:59:05,916] INFO - prefect.TaskRunner | Task 'problem': finished task run for task with final state: 'Success'\n",
      "[2020-04-23 04:59:06,023] INFO - prefect.TaskRunner | Task 'target': finished task run for task with final state: 'Success'\n",
      "[2020-04-23 04:59:06,190] INFO - prefect.TaskRunner | Task 'extract_nan_features': Starting task run...\n",
      "[2020-04-23 04:59:06,252] INFO - prefect.TaskRunner | Task 'extract_problematic_features': Starting task run...\n",
      "[2020-04-23 04:59:06,385] INFO - prefect.TaskRunner | Task 'extract_nan_features': finished task run for task with final state: 'Success'\n",
      "[2020-04-23 04:59:06,410] INFO - prefect.TaskRunner | Task 'extract_problematic_features': finished task run for task with final state: 'Success'\n",
      "[2020-04-23 04:59:06,583] INFO - prefect.TaskRunner | Task 'features': Starting task run...\n",
      "[2020-04-23 04:59:06,704] INFO - prefect.TaskRunner | Task 'features': finished task run for task with final state: 'Success'\n",
      "[2020-04-23 04:59:06,963] INFO - prefect.TaskRunner | Task 'extract_undefined_features': Starting task run...\n",
      "[2020-04-23 04:59:07,009] INFO - prefect.TaskRunner | Task 'extract_undefined_features': finished task run for task with final state: 'Success'\n",
      "[2020-04-23 04:59:07,136] INFO - prefect.TaskRunner | Task 'fit_transform_missing_indicator': Starting task run...\n",
      "['Pclass', 'Name', 'Sex', 'Age', 'SibSp', 'Parch', 'Ticket', 'Fare', 'Embarked']\n",
      "[2020-04-23 04:59:07,167] INFO - prefect.TaskRunner | Task 'extract_categorical_features': Starting task run...\n",
      "[3 8]\n",
      "['missing_Age', 'missing_Embarked']\n",
      "[2020-04-23 04:59:07,295] INFO - prefect.TaskRunner | Task 'extract_categorical_features': finished task run for task with final state: 'Success'\n",
      "[2020-04-23 04:59:07,319] INFO - prefect.TaskRunner | Task 'fit_transform_missing_indicator': finished task run for task with final state: 'Success'\n",
      "[2020-04-23 04:59:07,415] INFO - prefect.TaskRunner | Task 'extract_numeric_features': Starting task run...\n",
      "[2020-04-23 04:59:07,455] INFO - prefect.TaskRunner | Task 'extract_train_valid_split': Starting task run...\n",
      "[2020-04-23 04:59:07,524] INFO - prefect.TaskRunner | Task 'extract_numeric_features': finished task run for task with final state: 'Success'\n",
      "[2020-04-23 04:59:07,580] INFO - prefect.TaskRunner | Task 'extract_train_valid_split': finished task run for task with final state: 'Success'\n",
      "[2020-04-23 04:59:07,703] INFO - prefect.TaskRunner | Task 'extract_valid_data': Starting task run...\n",
      "[2020-04-23 04:59:07,719] INFO - prefect.TaskRunner | Task 'extract_train_data': Starting task run...\n",
      "[2020-04-23 04:59:07,752] INFO - prefect.TaskRunner | Task 'extract_valid_data': finished task run for task with final state: 'Success'\n",
      "[2020-04-23 04:59:07,788] INFO - prefect.TaskRunner | Task 'extract_train_data': finished task run for task with final state: 'Success'\n",
      "[2020-04-23 04:59:07,919] INFO - prefect.TaskRunner | Task 'fit_numeric_imputer': Starting task run...\n",
      "[2020-04-23 04:59:07,919] INFO - prefect.TaskRunner | Task 'fit_categorical_imputer': Starting task run...\n",
      "[2020-04-23 04:59:07,970] INFO - prefect.TaskRunner | Task 'fit_numeric_imputer': finished task run for task with final state: 'Success'\n",
      "[2020-04-23 04:59:08,071] INFO - prefect.TaskRunner | Task 'fit_categorical_imputer': finished task run for task with final state: 'Success'\n",
      "[2020-04-23 04:59:08,133] INFO - prefect.TaskRunner | Task 'fit_target_transformer': Starting task run...\n",
      "[2020-04-23 04:59:08,213] INFO - prefect.TaskRunner | Task 'fit_target_transformer': finished task run for task with final state: 'Success'\n",
      "[2020-04-23 04:59:08,257] INFO - prefect.TaskRunner | Task 'impute_numeric_df': Starting task run...\n",
      "[2020-04-23 04:59:08,355] INFO - prefect.TaskRunner | Task 'impute_numeric_df': finished task run for task with final state: 'Success'\n",
      "[2020-04-23 04:59:08,370] INFO - prefect.TaskRunner | Task 'transform_categorical_data': Starting task run...\n",
      "[2020-04-23 04:59:08,442] INFO - prefect.TaskRunner | Task 'transform_target': Starting task run...\n",
      "[2020-04-23 04:59:08,494] INFO - prefect.TaskRunner | Task 'transform_categorical_data': finished task run for task with final state: 'Success'\n",
      "[2020-04-23 04:59:08,545] INFO - prefect.TaskRunner | Task 'transform_target': finished task run for task with final state: 'Success'\n",
      "[2020-04-23 04:59:08,620] INFO - prefect.TaskRunner | Task 'transform_target': Starting task run...\n",
      "[2020-04-23 04:59:08,740] INFO - prefect.TaskRunner | Task 'transform_categorical_data': Starting task run...\n",
      "[2020-04-23 04:59:08,744] INFO - prefect.TaskRunner | Task 'transform_target': finished task run for task with final state: 'Success'\n",
      "[2020-04-23 04:59:08,788] INFO - prefect.TaskRunner | Task 'transform_categorical_data': finished task run for task with final state: 'Success'\n",
      "[2020-04-23 04:59:08,890] INFO - prefect.TaskRunner | Task 'fit_target_encoder': Starting task run...\n",
      "[2020-04-23 04:59:08,922] INFO - prefect.TaskRunner | Task 'save_data': Starting task run...\n",
      "[2020-04-23 04:59:09,056] INFO - prefect.TaskRunner | Task 'save_data': finished task run for task with final state: 'Success'\n",
      "[2020-04-23 04:59:09,189] INFO - prefect.TaskRunner | Task 'impute_numeric_df': Starting task run...\n",
      "[2020-04-23 04:59:09,220] INFO - prefect.TaskRunner | Task 'impute_numeric_df': finished task run for task with final state: 'Success'\n",
      "[2020-04-23 04:59:09,368] INFO - prefect.TaskRunner | Task 'save_data': Starting task run...\n",
      "[2020-04-23 04:59:09,471] INFO - prefect.TaskRunner | Task 'save_data': finished task run for task with final state: 'Success'\n",
      "[2020-04-23 04:59:09,604] INFO - prefect.TaskRunner | Task 'fit_yeo_johnson_transformer': Starting task run...\n",
      "[2020-04-23 04:59:09,673] INFO - prefect.TaskRunner | Task 'fit_yeo_johnson_transformer': finished task run for task with final state: 'Success'\n",
      "[2020-04-23 04:59:09,721] INFO - prefect.TaskRunner | Task 'fit_target_encoder': finished task run for task with final state: 'Success'\n",
      "[2020-04-23 04:59:09,773] INFO - prefect.TaskRunner | Task 'transform_yeo_johnson_transformer': Starting task run...\n",
      "[2020-04-23 04:59:09,841] INFO - prefect.TaskRunner | Task 'transform_yeo_johnson_transformer': Starting task run...\n",
      "[2020-04-23 04:59:09,857] INFO - prefect.TaskRunner | Task 'transform_yeo_johnson_transformer': finished task run for task with final state: 'Success'\n",
      "[2020-04-23 04:59:09,909] INFO - prefect.TaskRunner | Task 'transform_yeo_johnson_transformer': finished task run for task with final state: 'Success'\n",
      "[2020-04-23 04:59:09,989] INFO - prefect.TaskRunner | Task 'target_encoder_transform': Starting task run...\n",
      "[2020-04-23 04:59:10,056] INFO - prefect.TaskRunner | Task 'target_encoder_transform': Starting task run...\n",
      "[2020-04-23 04:59:10,190] INFO - prefect.TaskRunner | Task 'target_encoder_transform': finished task run for task with final state: 'Success'\n",
      "[2020-04-23 04:59:10,287] INFO - prefect.TaskRunner | Task 'target_encoder_transform': finished task run for task with final state: 'Success'\n",
      "[2020-04-23 04:59:10,303] INFO - prefect.TaskRunner | Task 'merge_transformed_data': Starting task run...\n",
      "[2020-04-23 04:59:10,368] INFO - prefect.TaskRunner | Task 'merge_transformed_data': Starting task run...\n",
      "[2020-04-23 04:59:10,437] INFO - prefect.TaskRunner | Task 'merge_transformed_data': finished task run for task with final state: 'Success'\n",
      "[2020-04-23 04:59:10,445] INFO - prefect.TaskRunner | Task 'merge_transformed_data': finished task run for task with final state: 'Success'\n",
      "[2020-04-23 04:59:10,537] INFO - prefect.TaskRunner | Task 'fit_hbos_transformer': Starting task run...\n",
      "[2020-04-23 04:59:14,266] INFO - prefect.TaskRunner | Task 'fit_hbos_transformer': finished task run for task with final state: 'Success'\n"
     ]
    },
    {
     "name": "stdout",
     "output_type": "stream",
     "text": [
      "[2020-04-23 04:59:14,324] INFO - prefect.TaskRunner | Task 'hbos_transform': Starting task run...\n",
      "[2020-04-23 04:59:14,371] INFO - prefect.TaskRunner | Task 'hbos_transform': Starting task run...\n",
      "[2020-04-23 04:59:14,398] INFO - prefect.TaskRunner | Task 'hbos_transform': finished task run for task with final state: 'Success'\n",
      "[2020-04-23 04:59:14,426] INFO - prefect.TaskRunner | Task 'hbos_transform': finished task run for task with final state: 'Success'\n",
      "[2020-04-23 04:59:14,474] INFO - prefect.TaskRunner | Task 'merge_hbos_df': Starting task run...\n",
      "[2020-04-23 04:59:14,554] INFO - prefect.TaskRunner | Task 'merge_hbos_df': Starting task run...\n",
      "[2020-04-23 04:59:14,558] INFO - prefect.TaskRunner | Task 'merge_hbos_df': finished task run for task with final state: 'Success'\n",
      "[2020-04-23 04:59:14,598] INFO - prefect.TaskRunner | Task 'merge_hbos_df': finished task run for task with final state: 'Success'\n",
      "[2020-04-23 04:59:14,650] INFO - prefect.TaskRunner | Task 'save_data': Starting task run...\n",
      "[2020-04-23 04:59:14,703] INFO - prefect.TaskRunner | Task 'save_data': Starting task run...\n",
      "[2020-04-23 04:59:14,723] INFO - prefect.TaskRunner | Task 'save_data': finished task run for task with final state: 'Success'\n",
      "[2020-04-23 04:59:14,750] INFO - prefect.TaskRunner | Task 'save_data': finished task run for task with final state: 'Success'\n",
      "[2020-04-23 04:59:17,060] INFO - prefect.FlowRunner | Flow run SUCCESS: all reference tasks succeeded\n"
     ]
    }
   ],
   "source": [
    "executor = DaskExecutor()\n",
    "data_cleaner = data_cleaning_flow.run(\n",
    "    input_data= input_df, \n",
    "    problem=\"binary classification\", \n",
    "    target = \"Survived\", \n",
    "    features = \"infer\",\n",
    "    executor=executor\n",
    ")"
   ]
  },
  {
   "cell_type": "code",
   "execution_count": 16,
   "metadata": {},
   "outputs": [
    {
     "data": {
      "text/plain": [
       "'All reference tasks succeeded.'"
      ]
     },
     "execution_count": 16,
     "metadata": {},
     "output_type": "execute_result"
    }
   ],
   "source": [
    "meta_model_run.message"
   ]
  },
  {
   "cell_type": "code",
   "execution_count": 8,
   "metadata": {},
   "outputs": [
    {
     "name": "stdout",
     "output_type": "stream",
     "text": [
      "[2020-04-23 04:59:59,170] INFO - prefect.FlowRunner | Beginning Flow run for 'meta_model_flow'\n",
      "[2020-04-23 04:59:59,202] INFO - prefect.FlowRunner | Starting flow run.\n",
      "[2020-04-23 04:59:59,558] INFO - prefect.TaskRunner | Task 'valid_data': Starting task run...\n",
      "[2020-04-23 04:59:59,617] INFO - prefect.TaskRunner | Task 'valid_data': finished task run for task with final state: 'Success'\n",
      "[2020-04-23 04:59:59,709] INFO - prefect.TaskRunner | Task 'models': Starting task run...\n",
      "[2020-04-23 04:59:59,725] INFO - prefect.TaskRunner | Task 'problem': Starting task run...\n",
      "[2020-04-23 04:59:59,818] INFO - prefect.TaskRunner | Task 'problem': finished task run for task with final state: 'Success'\n",
      "[2020-04-23 04:59:59,834] INFO - prefect.TaskRunner | Task 'models': finished task run for task with final state: 'Success'\n",
      "[2020-04-23 04:59:59,900] INFO - prefect.TaskRunner | Task 'train_target': Starting task run...\n",
      "[2020-04-23 05:00:00,002] INFO - prefect.TaskRunner | Task 'train_target': finished task run for task with final state: 'Success'\n",
      "[2020-04-23 05:00:00,011] INFO - prefect.TaskRunner | Task 'load_data': Starting task run...\n",
      "[2020-04-23 05:00:00,187] INFO - prefect.TaskRunner | Task 'tinydb': Starting task run...\n",
      "[2020-04-23 05:00:00,235] INFO - prefect.TaskRunner | Task 'tinydb': finished task run for task with final state: 'Success'\n",
      "[2020-04-23 05:00:00,294] INFO - prefect.TaskRunner | Task 'load_data': finished task run for task with final state: 'Success'\n",
      "[2020-04-23 05:00:00,440] INFO - prefect.TaskRunner | Task 'train_data': Starting task run...\n",
      "[2020-04-23 05:00:00,440] INFO - prefect.TaskRunner | Task 'load_data': Starting task run...\n",
      "[2020-04-23 05:00:00,483] INFO - prefect.TaskRunner | Task 'train_data': finished task run for task with final state: 'Success'\n",
      "[2020-04-23 05:00:00,571] INFO - prefect.TaskRunner | Task 'load_data': finished task run for task with final state: 'Success'\n",
      "[2020-04-23 05:00:00,665] INFO - prefect.TaskRunner | Task 'load_tinydb': Starting task run...\n",
      "[2020-04-23 05:00:00,689] INFO - prefect.TaskRunner | Task 'load_data': Starting task run...\n",
      "[2020-04-23 05:00:00,741] INFO - prefect.TaskRunner | Task 'load_tinydb': finished task run for task with final state: 'Success'\n",
      "[2020-04-23 05:00:00,789] INFO - prefect.TaskRunner | Task 'load_data': finished task run for task with final state: 'Success'\n",
      "[2020-04-23 05:00:00,877] INFO - prefect.TaskRunner | Task 'fit_model': Starting task run...\n",
      "[2020-04-23 05:00:00,921] INFO - prefect.TaskRunner | Task 'fit_model': finished task run for task with final state: 'Mapped'\n",
      "[2020-04-23 05:00:03,292] INFO - prefect.FlowRunner | Flow run SUCCESS: all reference tasks succeeded\n"
     ]
    }
   ],
   "source": [
    "from crawto.meta_model import MetaModel, meta_model_flow\n",
    "executor = DaskExecutor()\n",
    "meta = MetaModel(\"binary classification\", TinyDB(\"db.json\"), use_default_models=True)\n",
    "models = meta.models\n",
    "meta_model_run = meta_model_flow.run(\n",
    "    train_data = \"transformed_train.df\",\n",
    "    valid_data = \"transformed_valid.df\",\n",
    "    train_target = \"train_target.df\",\n",
    "    problem = \"binary classification\",\n",
    "    models = models,\n",
    "    tinydb = \"db.json\",\n",
    "    executor = executor,\n",
    "   \n",
    ")"
   ]
  },
  {
   "cell_type": "code",
   "execution_count": null,
   "metadata": {},
   "outputs": [],
   "source": [
    "with Flow(\"data_visualization\") as flow:\n",
    "    transformed_train_df = pd.read_feather(\"transformed_train.df\")\n",
    "    transformed_valid_df = pd.read_feather(\"transformed_valid.df\")\n",
    "    svd = fit_svd(transformed_train_df)\n",
    "    svd_train = svd_transform(svd, transformed_train_df, \"transformed_train_df\",tinydb)\n",
    "    svd_valid = svd_transform(svd, transformed_valid_df, \"transformed_valid_df\",tinydb)\n",
    "    "
   ]
  },
  {
   "cell_type": "code",
   "execution_count": null,
   "metadata": {
    "scrolled": false
   },
   "outputs": [],
   "source": [
    "#flow.visualize(flow_state=flow_state)"
   ]
  },
  {
   "cell_type": "code",
   "execution_count": null,
   "metadata": {},
   "outputs": [],
   "source": [
    "from tinydb import TinyDB, Query\n",
    "db = TinyDB(\"db.json\")\n",
    "db.all()"
   ]
  },
  {
   "cell_type": "code",
   "execution_count": null,
   "metadata": {},
   "outputs": [],
   "source": [
    "q = Query()\n",
    "r = db.search(q.chunk == \"svdname\")"
   ]
  },
  {
   "cell_type": "code",
   "execution_count": null,
   "metadata": {},
   "outputs": [],
   "source": [
    "dir(q.chunk"
   ]
  },
  {
   "cell_type": "code",
   "execution_count": null,
   "metadata": {},
   "outputs": [],
   "source": [
    "flow._sorted_tasks()[38]"
   ]
  },
  {
   "cell_type": "code",
   "execution_count": null,
   "metadata": {},
   "outputs": [],
   "source": [
    "dir(flow._sorted_tasks()[38])"
   ]
  },
  {
   "cell_type": "code",
   "execution_count": null,
   "metadata": {},
   "outputs": [],
   "source": []
  }
 ],
 "metadata": {
  "@webio": {
   "lastCommId": null,
   "lastKernelId": null
  },
  "kernel_info": {
   "name": "python3"
  },
  "kernelspec": {
   "display_name": "Python 3",
   "language": "python",
   "name": "python3"
  },
  "language_info": {
   "codemirror_mode": {
    "name": "ipython",
    "version": 3
   },
   "file_extension": ".py",
   "mimetype": "text/x-python",
   "name": "python",
   "nbconvert_exporter": "python",
   "pygments_lexer": "ipython3",
   "version": "3.8.2"
  },
  "nteract": {
   "version": "0.22.4"
  }
 },
 "nbformat": 4,
 "nbformat_minor": 4
}
